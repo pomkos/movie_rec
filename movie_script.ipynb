{
 "cells": [
  {
   "cell_type": "markdown",
   "id": "86873dd6-a225-46c6-9963-cc40a4d1ab49",
   "metadata": {
    "user_expressions": []
   },
   "source": [
    "# Movie Recommendation Engine"
   ]
  },
  {
   "cell_type": "markdown",
   "id": "b3256dd7-a845-4218-8e30-9cff76a518b9",
   "metadata": {
    "user_expressions": []
   },
   "source": [
    "Started as a follow-along project with [Dataquest's walkthrough](https://www.youtube.com/watch?v=eyEabQRBMQA), and ended up being a more fleshed out personal project."
   ]
  },
  {
   "cell_type": "code",
   "execution_count": 1,
   "id": "88a9848a-3d0e-4baf-b33b-ecfbe80fd416",
   "metadata": {},
   "outputs": [],
   "source": [
    "import pandas as pd\n",
    "import numpy as np\n",
    "import sqlalchemy as sq\n",
    "\n",
    "import matplotlib.pyplot as plt\n",
    "import seaborn as sns\n",
    "\n",
    "import re"
   ]
  },
  {
   "cell_type": "code",
   "execution_count": 2,
   "id": "d2f35e80-0003-4fd6-a2e3-9abc9747be51",
   "metadata": {},
   "outputs": [],
   "source": [
    "def load_data(table_name: str) -> pd.DataFrame:\n",
    "    '''\n",
    "    Loads table from the movie_data sqlite database\n",
    "    '''\n",
    "    engine = sq.create_engine(\"sqlite:///data/movie_data.sql\")\n",
    "    with engine.connect() as cnx:\n",
    "        return pd.read_sql(table_name, cnx)"
   ]
  },
  {
   "cell_type": "code",
   "execution_count": 3,
   "id": "bee91770-dd9a-49cb-a0c6-35bfe31dd5fd",
   "metadata": {},
   "outputs": [],
   "source": [
    "def save_data(dataset: pd.DataFrame, table_name: str, if_exists: str = 'fail', index: bool = False) -> bool:\n",
    "    '''\n",
    "    Saves dataframe to the movie_data sqlite database\n",
    "    '''\n",
    "    engine = sq.create_engine(\"sqlite:///data/movie_data.sql\")\n",
    "    try:\n",
    "        with engine.connect() as cnx:\n",
    "            dataset.to_sql(name=table_name, con=cnx, if_exists=if_exists, index=index)\n",
    "            return True\n",
    "    except:\n",
    "        print(\"Does this table already exist in movie_data.sql?\")\n",
    "        return False"
   ]
  },
  {
   "cell_type": "code",
   "execution_count": 4,
   "id": "65aa4b04-9149-431a-ba8b-54805edf9215",
   "metadata": {},
   "outputs": [],
   "source": [
    "def clean_title(title: str) -> str:\n",
    "    '''\n",
    "    Keeps only letters, numbers, whitespaces. \n",
    "    Replaces everything else with nothing.\n",
    "    '''\n",
    "    return re.sub(\"[^a-zA-Z0-9 ]\", \"\", title)"
   ]
  },
  {
   "cell_type": "code",
   "execution_count": 5,
   "id": "0a705da1-b926-4c37-9836-70aee26a5c9f",
   "metadata": {},
   "outputs": [],
   "source": [
    "def clean_genre(genre: str) -> list:\n",
    "    '''\n",
    "    Cleans the movies dataset genre columns so we can get a list of unique genres\n",
    "    '''\n",
    "    if '(' not in genre:\n",
    "        genre_list = genre.split('|')\n",
    "        return genre_list\n",
    "    else:\n",
    "        return ['None']"
   ]
  },
  {
   "cell_type": "code",
   "execution_count": 6,
   "id": "c8d60c13",
   "metadata": {},
   "outputs": [],
   "source": [
    "# separate list of genres into dummy variables\n",
    "def col_lists_to_dummies(dataframe: pd.DataFrame, col_of_lists: str, identifier: str) -> pd.DataFrame:\n",
    "    '''\n",
    "    Turns a series of lists into dummy variables, then merges the resulting df\n",
    "    with the original df.\n",
    "\n",
    "    input\n",
    "    -----\n",
    "    col_of_lists: name of column where each value is a list of strings\n",
    "                  this column will be turned into dummy variables\n",
    "    identifier: name of column where each value uniquely identifies the row\n",
    "                this column will be used to merge on\n",
    "    '''\n",
    "    from sklearn.preprocessing import MultiLabelBinarizer\n",
    "    mlb = MultiLabelBinarizer()\n",
    "\n",
    "    # create an array of 1s and 0s representing whether or not each row belongs in the var\n",
    "    dummy_array = mlb.fit_transform(dataframe[col_of_lists])\n",
    "    # grab the unique vars to create new column names\n",
    "    unique_vars_from_col_of_lists = mlb.classes_\n",
    "    identifier_array = dataframe[identifier].values\n",
    "    # create dummy dataframe\n",
    "    dummy_df = pd.DataFrame(dummy_array, columns=unique_vars_from_col_of_lists, index=identifier_array).reset_index()\n",
    "    dummy_df = dummy_df.rename({'index':identifier}, axis=1)\n",
    "\n",
    "    return dummy_df, unique_vars_from_col_of_lists"
   ]
  },
  {
   "cell_type": "code",
   "execution_count": 7,
   "id": "3a2b5ccf-7dc8-4f15-b8a4-01e83230306e",
   "metadata": {},
   "outputs": [],
   "source": [
    "movies = load_data('movies')\n",
    "ratings = pd.read_csv(\"data/ratings.csv\")\n",
    "\n",
    "links = load_data('links')\n",
    "tags = load_data('tags')\n",
    "genome_scores = pd.read_csv('data/genome-scores.csv')\n",
    "genome_tags = load_data('genome_tags')"
   ]
  },
  {
   "cell_type": "code",
   "execution_count": 14,
   "id": "9abb5d19-8210-4fb1-9f5b-667f2667cbc8",
   "metadata": {},
   "outputs": [
    {
     "data": {
      "text/html": [
       "<div>\n",
       "<style scoped>\n",
       "    .dataframe tbody tr th:only-of-type {\n",
       "        vertical-align: middle;\n",
       "    }\n",
       "\n",
       "    .dataframe tbody tr th {\n",
       "        vertical-align: top;\n",
       "    }\n",
       "\n",
       "    .dataframe thead th {\n",
       "        text-align: right;\n",
       "    }\n",
       "</style>\n",
       "<table border=\"1\" class=\"dataframe\">\n",
       "  <thead>\n",
       "    <tr style=\"text-align: right;\">\n",
       "      <th></th>\n",
       "      <th>movieId</th>\n",
       "      <th>title</th>\n",
       "      <th>genres</th>\n",
       "      <th>genres_split</th>\n",
       "      <th>cleaned_title</th>\n",
       "      <th>genres_lists</th>\n",
       "    </tr>\n",
       "  </thead>\n",
       "  <tbody>\n",
       "    <tr>\n",
       "      <th>0</th>\n",
       "      <td>1</td>\n",
       "      <td>Toy Story (1995)</td>\n",
       "      <td>Adventure|Animation|Children|Comedy|Fantasy</td>\n",
       "      <td>[Adventure, Animation, Children, Comedy, Fantasy]</td>\n",
       "      <td>Toy Story 1995</td>\n",
       "      <td>[Adventure, Animation, Children, Comedy, Fantasy]</td>\n",
       "    </tr>\n",
       "    <tr>\n",
       "      <th>1</th>\n",
       "      <td>2</td>\n",
       "      <td>Jumanji (1995)</td>\n",
       "      <td>Adventure|Children|Fantasy</td>\n",
       "      <td>[Adventure, Children, Fantasy]</td>\n",
       "      <td>Jumanji 1995</td>\n",
       "      <td>[Adventure, Children, Fantasy]</td>\n",
       "    </tr>\n",
       "    <tr>\n",
       "      <th>2</th>\n",
       "      <td>3</td>\n",
       "      <td>Grumpier Old Men (1995)</td>\n",
       "      <td>Comedy|Romance</td>\n",
       "      <td>[Comedy, Romance]</td>\n",
       "      <td>Grumpier Old Men 1995</td>\n",
       "      <td>[Comedy, Romance]</td>\n",
       "    </tr>\n",
       "    <tr>\n",
       "      <th>3</th>\n",
       "      <td>4</td>\n",
       "      <td>Waiting to Exhale (1995)</td>\n",
       "      <td>Comedy|Drama|Romance</td>\n",
       "      <td>[Comedy, Drama, Romance]</td>\n",
       "      <td>Waiting to Exhale 1995</td>\n",
       "      <td>[Comedy, Drama, Romance]</td>\n",
       "    </tr>\n",
       "    <tr>\n",
       "      <th>4</th>\n",
       "      <td>5</td>\n",
       "      <td>Father of the Bride Part II (1995)</td>\n",
       "      <td>Comedy</td>\n",
       "      <td>[Comedy]</td>\n",
       "      <td>Father of the Bride Part II 1995</td>\n",
       "      <td>[Comedy]</td>\n",
       "    </tr>\n",
       "  </tbody>\n",
       "</table>\n",
       "</div>"
      ],
      "text/plain": [
       "   movieId                               title  \\\n",
       "0        1                    Toy Story (1995)   \n",
       "1        2                      Jumanji (1995)   \n",
       "2        3             Grumpier Old Men (1995)   \n",
       "3        4            Waiting to Exhale (1995)   \n",
       "4        5  Father of the Bride Part II (1995)   \n",
       "\n",
       "                                        genres  \\\n",
       "0  Adventure|Animation|Children|Comedy|Fantasy   \n",
       "1                   Adventure|Children|Fantasy   \n",
       "2                               Comedy|Romance   \n",
       "3                         Comedy|Drama|Romance   \n",
       "4                                       Comedy   \n",
       "\n",
       "                                        genres_split  \\\n",
       "0  [Adventure, Animation, Children, Comedy, Fantasy]   \n",
       "1                     [Adventure, Children, Fantasy]   \n",
       "2                                  [Comedy, Romance]   \n",
       "3                           [Comedy, Drama, Romance]   \n",
       "4                                           [Comedy]   \n",
       "\n",
       "                      cleaned_title  \\\n",
       "0                    Toy Story 1995   \n",
       "1                      Jumanji 1995   \n",
       "2             Grumpier Old Men 1995   \n",
       "3            Waiting to Exhale 1995   \n",
       "4  Father of the Bride Part II 1995   \n",
       "\n",
       "                                        genres_lists  \n",
       "0  [Adventure, Animation, Children, Comedy, Fantasy]  \n",
       "1                     [Adventure, Children, Fantasy]  \n",
       "2                                  [Comedy, Romance]  \n",
       "3                           [Comedy, Drama, Romance]  \n",
       "4                                           [Comedy]  "
      ]
     },
     "execution_count": 14,
     "metadata": {},
     "output_type": "execute_result"
    }
   ],
   "source": [
    "movies['cleaned_title'] = movies['title'].apply(clean_title)\n",
    "movies['genres_lists'] = movies['genres'].apply(clean_genre)\n",
    "movies.head()"
   ]
  },
  {
   "cell_type": "markdown",
   "id": "5ef98e00",
   "metadata": {},
   "source": [
    "## Genre"
   ]
  },
  {
   "cell_type": "code",
   "execution_count": 15,
   "id": "91e9e503",
   "metadata": {},
   "outputs": [
    {
     "data": {
      "text/html": [
       "<div>\n",
       "<style scoped>\n",
       "    .dataframe tbody tr th:only-of-type {\n",
       "        vertical-align: middle;\n",
       "    }\n",
       "\n",
       "    .dataframe tbody tr th {\n",
       "        vertical-align: top;\n",
       "    }\n",
       "\n",
       "    .dataframe thead th {\n",
       "        text-align: right;\n",
       "    }\n",
       "</style>\n",
       "<table border=\"1\" class=\"dataframe\">\n",
       "  <thead>\n",
       "    <tr style=\"text-align: right;\">\n",
       "      <th></th>\n",
       "      <th>movieId</th>\n",
       "      <th>title</th>\n",
       "      <th>genres</th>\n",
       "      <th>genres_split</th>\n",
       "      <th>cleaned_title</th>\n",
       "      <th>genres_lists</th>\n",
       "      <th>Action</th>\n",
       "      <th>Adventure</th>\n",
       "      <th>Animation</th>\n",
       "      <th>Children</th>\n",
       "      <th>...</th>\n",
       "      <th>Horror</th>\n",
       "      <th>IMAX</th>\n",
       "      <th>Musical</th>\n",
       "      <th>Mystery</th>\n",
       "      <th>None</th>\n",
       "      <th>Romance</th>\n",
       "      <th>Sci-Fi</th>\n",
       "      <th>Thriller</th>\n",
       "      <th>War</th>\n",
       "      <th>Western</th>\n",
       "    </tr>\n",
       "  </thead>\n",
       "  <tbody>\n",
       "    <tr>\n",
       "      <th>0</th>\n",
       "      <td>1</td>\n",
       "      <td>Toy Story (1995)</td>\n",
       "      <td>Adventure|Animation|Children|Comedy|Fantasy</td>\n",
       "      <td>[Adventure, Animation, Children, Comedy, Fantasy]</td>\n",
       "      <td>Toy Story 1995</td>\n",
       "      <td>[Adventure, Animation, Children, Comedy, Fantasy]</td>\n",
       "      <td>0</td>\n",
       "      <td>1</td>\n",
       "      <td>1</td>\n",
       "      <td>1</td>\n",
       "      <td>...</td>\n",
       "      <td>0</td>\n",
       "      <td>0</td>\n",
       "      <td>0</td>\n",
       "      <td>0</td>\n",
       "      <td>0</td>\n",
       "      <td>0</td>\n",
       "      <td>0</td>\n",
       "      <td>0</td>\n",
       "      <td>0</td>\n",
       "      <td>0</td>\n",
       "    </tr>\n",
       "    <tr>\n",
       "      <th>1</th>\n",
       "      <td>2</td>\n",
       "      <td>Jumanji (1995)</td>\n",
       "      <td>Adventure|Children|Fantasy</td>\n",
       "      <td>[Adventure, Children, Fantasy]</td>\n",
       "      <td>Jumanji 1995</td>\n",
       "      <td>[Adventure, Children, Fantasy]</td>\n",
       "      <td>0</td>\n",
       "      <td>1</td>\n",
       "      <td>0</td>\n",
       "      <td>1</td>\n",
       "      <td>...</td>\n",
       "      <td>0</td>\n",
       "      <td>0</td>\n",
       "      <td>0</td>\n",
       "      <td>0</td>\n",
       "      <td>0</td>\n",
       "      <td>0</td>\n",
       "      <td>0</td>\n",
       "      <td>0</td>\n",
       "      <td>0</td>\n",
       "      <td>0</td>\n",
       "    </tr>\n",
       "    <tr>\n",
       "      <th>2</th>\n",
       "      <td>3</td>\n",
       "      <td>Grumpier Old Men (1995)</td>\n",
       "      <td>Comedy|Romance</td>\n",
       "      <td>[Comedy, Romance]</td>\n",
       "      <td>Grumpier Old Men 1995</td>\n",
       "      <td>[Comedy, Romance]</td>\n",
       "      <td>0</td>\n",
       "      <td>0</td>\n",
       "      <td>0</td>\n",
       "      <td>0</td>\n",
       "      <td>...</td>\n",
       "      <td>0</td>\n",
       "      <td>0</td>\n",
       "      <td>0</td>\n",
       "      <td>0</td>\n",
       "      <td>0</td>\n",
       "      <td>1</td>\n",
       "      <td>0</td>\n",
       "      <td>0</td>\n",
       "      <td>0</td>\n",
       "      <td>0</td>\n",
       "    </tr>\n",
       "    <tr>\n",
       "      <th>3</th>\n",
       "      <td>4</td>\n",
       "      <td>Waiting to Exhale (1995)</td>\n",
       "      <td>Comedy|Drama|Romance</td>\n",
       "      <td>[Comedy, Drama, Romance]</td>\n",
       "      <td>Waiting to Exhale 1995</td>\n",
       "      <td>[Comedy, Drama, Romance]</td>\n",
       "      <td>0</td>\n",
       "      <td>0</td>\n",
       "      <td>0</td>\n",
       "      <td>0</td>\n",
       "      <td>...</td>\n",
       "      <td>0</td>\n",
       "      <td>0</td>\n",
       "      <td>0</td>\n",
       "      <td>0</td>\n",
       "      <td>0</td>\n",
       "      <td>1</td>\n",
       "      <td>0</td>\n",
       "      <td>0</td>\n",
       "      <td>0</td>\n",
       "      <td>0</td>\n",
       "    </tr>\n",
       "    <tr>\n",
       "      <th>4</th>\n",
       "      <td>5</td>\n",
       "      <td>Father of the Bride Part II (1995)</td>\n",
       "      <td>Comedy</td>\n",
       "      <td>[Comedy]</td>\n",
       "      <td>Father of the Bride Part II 1995</td>\n",
       "      <td>[Comedy]</td>\n",
       "      <td>0</td>\n",
       "      <td>0</td>\n",
       "      <td>0</td>\n",
       "      <td>0</td>\n",
       "      <td>...</td>\n",
       "      <td>0</td>\n",
       "      <td>0</td>\n",
       "      <td>0</td>\n",
       "      <td>0</td>\n",
       "      <td>0</td>\n",
       "      <td>0</td>\n",
       "      <td>0</td>\n",
       "      <td>0</td>\n",
       "      <td>0</td>\n",
       "      <td>0</td>\n",
       "    </tr>\n",
       "  </tbody>\n",
       "</table>\n",
       "<p>5 rows × 26 columns</p>\n",
       "</div>"
      ],
      "text/plain": [
       "   movieId                               title  \\\n",
       "0        1                    Toy Story (1995)   \n",
       "1        2                      Jumanji (1995)   \n",
       "2        3             Grumpier Old Men (1995)   \n",
       "3        4            Waiting to Exhale (1995)   \n",
       "4        5  Father of the Bride Part II (1995)   \n",
       "\n",
       "                                        genres  \\\n",
       "0  Adventure|Animation|Children|Comedy|Fantasy   \n",
       "1                   Adventure|Children|Fantasy   \n",
       "2                               Comedy|Romance   \n",
       "3                         Comedy|Drama|Romance   \n",
       "4                                       Comedy   \n",
       "\n",
       "                                        genres_split  \\\n",
       "0  [Adventure, Animation, Children, Comedy, Fantasy]   \n",
       "1                     [Adventure, Children, Fantasy]   \n",
       "2                                  [Comedy, Romance]   \n",
       "3                           [Comedy, Drama, Romance]   \n",
       "4                                           [Comedy]   \n",
       "\n",
       "                      cleaned_title  \\\n",
       "0                    Toy Story 1995   \n",
       "1                      Jumanji 1995   \n",
       "2             Grumpier Old Men 1995   \n",
       "3            Waiting to Exhale 1995   \n",
       "4  Father of the Bride Part II 1995   \n",
       "\n",
       "                                        genres_lists  Action  Adventure  \\\n",
       "0  [Adventure, Animation, Children, Comedy, Fantasy]       0          1   \n",
       "1                     [Adventure, Children, Fantasy]       0          1   \n",
       "2                                  [Comedy, Romance]       0          0   \n",
       "3                           [Comedy, Drama, Romance]       0          0   \n",
       "4                                           [Comedy]       0          0   \n",
       "\n",
       "   Animation  Children  ...  Horror  IMAX  Musical  Mystery  None  Romance  \\\n",
       "0          1         1  ...       0     0        0        0     0        0   \n",
       "1          0         1  ...       0     0        0        0     0        0   \n",
       "2          0         0  ...       0     0        0        0     0        1   \n",
       "3          0         0  ...       0     0        0        0     0        1   \n",
       "4          0         0  ...       0     0        0        0     0        0   \n",
       "\n",
       "   Sci-Fi  Thriller  War  Western  \n",
       "0       0         0    0        0  \n",
       "1       0         0    0        0  \n",
       "2       0         0    0        0  \n",
       "3       0         0    0        0  \n",
       "4       0         0    0        0  \n",
       "\n",
       "[5 rows x 26 columns]"
      ]
     },
     "execution_count": 15,
     "metadata": {},
     "output_type": "execute_result"
    }
   ],
   "source": [
    "# create dummy_df and get a unique list of genres\n",
    "genre_dummies, unique_genres = col_lists_to_dummies(movies, 'genres_lists', 'movieId')\n",
    "# mnerge dummy dataframe with original dataframe\n",
    "movies_with_dummies = movies.merge(genre_dummies, on='movieId')\n",
    "movies_with_dummies.head()"
   ]
  },
  {
   "cell_type": "code",
   "execution_count": 16,
   "id": "8f8f0ba1",
   "metadata": {},
   "outputs": [
    {
     "data": {
      "text/html": [
       "<div>\n",
       "<style scoped>\n",
       "    .dataframe tbody tr th:only-of-type {\n",
       "        vertical-align: middle;\n",
       "    }\n",
       "\n",
       "    .dataframe tbody tr th {\n",
       "        vertical-align: top;\n",
       "    }\n",
       "\n",
       "    .dataframe thead th {\n",
       "        text-align: right;\n",
       "    }\n",
       "</style>\n",
       "<table border=\"1\" class=\"dataframe\">\n",
       "  <thead>\n",
       "    <tr style=\"text-align: right;\">\n",
       "      <th></th>\n",
       "      <th>variable</th>\n",
       "      <th>value</th>\n",
       "    </tr>\n",
       "  </thead>\n",
       "  <tbody>\n",
       "    <tr>\n",
       "      <th>0</th>\n",
       "      <td>Drama</td>\n",
       "      <td>25606</td>\n",
       "    </tr>\n",
       "    <tr>\n",
       "      <th>1</th>\n",
       "      <td>Comedy</td>\n",
       "      <td>16870</td>\n",
       "    </tr>\n",
       "    <tr>\n",
       "      <th>2</th>\n",
       "      <td>Thriller</td>\n",
       "      <td>8654</td>\n",
       "    </tr>\n",
       "    <tr>\n",
       "      <th>3</th>\n",
       "      <td>Romance</td>\n",
       "      <td>7719</td>\n",
       "    </tr>\n",
       "    <tr>\n",
       "      <th>4</th>\n",
       "      <td>Action</td>\n",
       "      <td>7348</td>\n",
       "    </tr>\n",
       "  </tbody>\n",
       "</table>\n",
       "</div>"
      ],
      "text/plain": [
       "   variable  value\n",
       "0     Drama  25606\n",
       "1    Comedy  16870\n",
       "2  Thriller   8654\n",
       "3   Romance   7719\n",
       "4    Action   7348"
      ]
     },
     "execution_count": 16,
     "metadata": {},
     "output_type": "execute_result"
    }
   ],
   "source": [
    "movies_per_genre = movies_with_dummies[unique_genres.tolist() + ['movieId']].melt('movieId').groupby('variable').sum()\n",
    "movies_per_genre = movies_per_genre.sort_values('value', ascending=False)[['value']].reset_index()\n",
    "movies_per_genre.head()"
   ]
  },
  {
   "cell_type": "code",
   "execution_count": 17,
   "id": "1ef5edf9",
   "metadata": {},
   "outputs": [
    {
     "data": {
      "text/plain": [
       "Text(0.5, 1.0, 'Number of movies that belong to each genre')"
      ]
     },
     "execution_count": 17,
     "metadata": {},
     "output_type": "execute_result"
    },
    {
     "data": {
      "image/png": "[encoded data removed]",
      "text/plain": [
       "<Figure size 360x360 with 1 Axes>"
      ]
     },
     "metadata": {
      "needs_background": "light"
     },
     "output_type": "display_data"
    }
   ],
   "source": [
    "sns.catplot(x='variable', y='value', data=movies_per_genre, kind='bar')\n",
    "plt.xticks(horizontalalignment='right', rotation=45)\n",
    "plt.ylabel('Number of movies')\n",
    "plt.xlabel('Genres')\n",
    "plt.title('Number of movies that belong to each genre')"
   ]
  },
  {
   "cell_type": "markdown",
   "id": "72bc05ce",
   "metadata": {},
   "source": [
    "## Tags"
   ]
  },
  {
   "cell_type": "markdown",
   "id": "ad2f1fc8-383c-4eea-a15c-dd890c17ee25",
   "metadata": {},
   "source": [
    "# Search Engine"
   ]
  },
  {
   "cell_type": "markdown",
   "id": "56919696-df6a-4b80-bd68-4ee7168f5b56",
   "metadata": {},
   "source": [
    "Converting words into numbers:\n",
    "\n",
    "1. Term frequency: get frequency of words in title\n",
    "1. Inverse document frequency: helps search engine find unique terms (the is in a lot of title, but harry is not)\n",
    "1. Tf\\*Idf: Get a vector for each movie\n",
    "\n",
    "Search:\n",
    "\n",
    "1. Convert search text into into numbers like above\n",
    "1. Find row with the most number of matches via similarity"
   ]
  },
  {
   "cell_type": "code",
   "execution_count": 18,
   "id": "1a12fd72-2e2b-490b-ab18-78b2b20820a2",
   "metadata": {},
   "outputs": [],
   "source": [
    "from sklearn.feature_extraction.text import TfidfVectorizer"
   ]
  },
  {
   "cell_type": "code",
   "execution_count": 19,
   "id": "e171cf0a",
   "metadata": {},
   "outputs": [],
   "source": [
    "tags = tags.dropna()"
   ]
  },
  {
   "cell_type": "code",
   "execution_count": 20,
   "id": "2e743f09",
   "metadata": {},
   "outputs": [],
   "source": [
    "vectorizer = TfidfVectorizer(ngram_range=(1,2))\n",
    "tfidf = vectorizer.fit_transform(tags['tag'])"
   ]
  },
  {
   "cell_type": "code",
   "execution_count": 21,
   "id": "2b2a8e98",
   "metadata": {},
   "outputs": [
    {
     "data": {
      "text/plain": [
       "<1093344x97929 sparse matrix of type '<class 'numpy.float64'>'\n",
       "\twith 2415931 stored elements in Compressed Sparse Row format>"
      ]
     },
     "execution_count": 21,
     "metadata": {},
     "output_type": "execute_result"
    }
   ],
   "source": [
    "tfidf"
   ]
  },
  {
   "cell_type": "code",
   "execution_count": 22,
   "id": "1490a4c3-e927-413e-b0e8-66192cb8b3d7",
   "metadata": {},
   "outputs": [],
   "source": [
    "# ngrams: number of words to search for together\n",
    "# ex: Toy Story 1995: \"toy\", \"story\", \"1995\"; \"toy story\", \"story 1995\"\n",
    "vectorizer = TfidfVectorizer(ngram_range=(1,2))\n",
    "tfidf = vectorizer.fit_transform(movies['cleaned_title'])"
   ]
  },
  {
   "cell_type": "code",
   "execution_count": 23,
   "id": "76f1bd71-74f2-4a0a-815a-da820917db2b",
   "metadata": {},
   "outputs": [],
   "source": [
    "from sklearn.metrics.pairwise import cosine_similarity\n",
    "\n",
    "def search(title: str, dataframe: pd.DataFrame, tfidf) -> pd.DataFrame:\n",
    "    '''\n",
    "    Turns search term into a vectory, resulting top 5 results\n",
    "    '''\n",
    "    title = clean_title(title)\n",
    "    query_vec = vectorizer.transform([title])\n",
    "    # returns how similar search title is to each title\n",
    "    similarity = cosine_similarity(query_vec, tfidf).flatten()\n",
    "    dataframe_cp = dataframe.copy()\n",
    "    # find the 5 most similar titles by idx, in asc order\n",
    "    # kinda like df['col'].sort_values(ascending=False).loc[:-5]\n",
    "    indices = np.argpartition(similarity, -5)[-5:]\n",
    "    dataframe_cp['similarity'] = similarity\n",
    "    results = dataframe_cp.iloc[indices][::-1] # return with most similar up top\n",
    "    return results"
   ]
  },
  {
   "cell_type": "code",
   "execution_count": 24,
   "id": "2f78888f",
   "metadata": {},
   "outputs": [],
   "source": [
    "def check_genre(value: str, genre_list: list) -> bool:\n",
    "    '''\n",
    "    Returns true if any of genre from list is also in the given string.\n",
    "    '''\n",
    "    bool_list = [True if genre in value else False for genre in genre_list]\n",
    "    if sum(bool_list) > 0:\n",
    "        return True\n",
    "    else: \n",
    "        return False"
   ]
  },
  {
   "cell_type": "code",
   "execution_count": 25,
   "id": "685c3f8e",
   "metadata": {},
   "outputs": [
    {
     "data": {
      "text/html": [
       "<div>\n",
       "<style scoped>\n",
       "    .dataframe tbody tr th:only-of-type {\n",
       "        vertical-align: middle;\n",
       "    }\n",
       "\n",
       "    .dataframe tbody tr th {\n",
       "        vertical-align: top;\n",
       "    }\n",
       "\n",
       "    .dataframe thead th {\n",
       "        text-align: right;\n",
       "    }\n",
       "</style>\n",
       "<table border=\"1\" class=\"dataframe\">\n",
       "  <thead>\n",
       "    <tr style=\"text-align: right;\">\n",
       "      <th></th>\n",
       "      <th>movieId</th>\n",
       "      <th>title</th>\n",
       "      <th>genres</th>\n",
       "      <th>genres_split</th>\n",
       "      <th>cleaned_title</th>\n",
       "      <th>genres_lists</th>\n",
       "    </tr>\n",
       "  </thead>\n",
       "  <tbody>\n",
       "    <tr>\n",
       "      <th>15881</th>\n",
       "      <td>83773</td>\n",
       "      <td>Away with Words (San tiao ren) (1999)</td>\n",
       "      <td>(no genres listed)</td>\n",
       "      <td>[(no genres listed)]</td>\n",
       "      <td>Away with Words San tiao ren 1999</td>\n",
       "      <td>[None]</td>\n",
       "    </tr>\n",
       "    <tr>\n",
       "      <th>16060</th>\n",
       "      <td>84768</td>\n",
       "      <td>Glitterbug (1994)</td>\n",
       "      <td>(no genres listed)</td>\n",
       "      <td>[(no genres listed)]</td>\n",
       "      <td>Glitterbug 1994</td>\n",
       "      <td>[None]</td>\n",
       "    </tr>\n",
       "    <tr>\n",
       "      <th>16351</th>\n",
       "      <td>86493</td>\n",
       "      <td>Age of the Earth, The (A Idade da Terra) (1980)</td>\n",
       "      <td>(no genres listed)</td>\n",
       "      <td>[(no genres listed)]</td>\n",
       "      <td>Age of the Earth The A Idade da Terra 1980</td>\n",
       "      <td>[None]</td>\n",
       "    </tr>\n",
       "    <tr>\n",
       "      <th>16491</th>\n",
       "      <td>87061</td>\n",
       "      <td>Trails (Veredas) (1978)</td>\n",
       "      <td>(no genres listed)</td>\n",
       "      <td>[(no genres listed)]</td>\n",
       "      <td>Trails Veredas 1978</td>\n",
       "      <td>[None]</td>\n",
       "    </tr>\n",
       "    <tr>\n",
       "      <th>17404</th>\n",
       "      <td>91246</td>\n",
       "      <td>Milky Way (Tejút) (2007)</td>\n",
       "      <td>(no genres listed)</td>\n",
       "      <td>[(no genres listed)]</td>\n",
       "      <td>Milky Way Tejt 2007</td>\n",
       "      <td>[None]</td>\n",
       "    </tr>\n",
       "    <tr>\n",
       "      <th>...</th>\n",
       "      <td>...</td>\n",
       "      <td>...</td>\n",
       "      <td>...</td>\n",
       "      <td>...</td>\n",
       "      <td>...</td>\n",
       "      <td>...</td>\n",
       "    </tr>\n",
       "    <tr>\n",
       "      <th>62400</th>\n",
       "      <td>209101</td>\n",
       "      <td>Hua yang de nian hua (2001)</td>\n",
       "      <td>(no genres listed)</td>\n",
       "      <td>[(no genres listed)]</td>\n",
       "      <td>Hua yang de nian hua 2001</td>\n",
       "      <td>[None]</td>\n",
       "    </tr>\n",
       "    <tr>\n",
       "      <th>62401</th>\n",
       "      <td>209103</td>\n",
       "      <td>Tsar Ivan the Terrible (1991)</td>\n",
       "      <td>(no genres listed)</td>\n",
       "      <td>[(no genres listed)]</td>\n",
       "      <td>Tsar Ivan the Terrible 1991</td>\n",
       "      <td>[None]</td>\n",
       "    </tr>\n",
       "    <tr>\n",
       "      <th>62407</th>\n",
       "      <td>209133</td>\n",
       "      <td>The Riot and the Dance (2018)</td>\n",
       "      <td>(no genres listed)</td>\n",
       "      <td>[(no genres listed)]</td>\n",
       "      <td>The Riot and the Dance 2018</td>\n",
       "      <td>[None]</td>\n",
       "    </tr>\n",
       "    <tr>\n",
       "      <th>62415</th>\n",
       "      <td>209151</td>\n",
       "      <td>Mao Zedong 1949 (2019)</td>\n",
       "      <td>(no genres listed)</td>\n",
       "      <td>[(no genres listed)]</td>\n",
       "      <td>Mao Zedong 1949 2019</td>\n",
       "      <td>[None]</td>\n",
       "    </tr>\n",
       "    <tr>\n",
       "      <th>62421</th>\n",
       "      <td>209169</td>\n",
       "      <td>A Girl Thing (2001)</td>\n",
       "      <td>(no genres listed)</td>\n",
       "      <td>[(no genres listed)]</td>\n",
       "      <td>A Girl Thing 2001</td>\n",
       "      <td>[None]</td>\n",
       "    </tr>\n",
       "  </tbody>\n",
       "</table>\n",
       "<p>5062 rows × 6 columns</p>\n",
       "</div>"
      ],
      "text/plain": [
       "       movieId                                            title  \\\n",
       "15881    83773            Away with Words (San tiao ren) (1999)   \n",
       "16060    84768                                Glitterbug (1994)   \n",
       "16351    86493  Age of the Earth, The (A Idade da Terra) (1980)   \n",
       "16491    87061                          Trails (Veredas) (1978)   \n",
       "17404    91246                         Milky Way (Tejút) (2007)   \n",
       "...        ...                                              ...   \n",
       "62400   209101                      Hua yang de nian hua (2001)   \n",
       "62401   209103                    Tsar Ivan the Terrible (1991)   \n",
       "62407   209133                    The Riot and the Dance (2018)   \n",
       "62415   209151                           Mao Zedong 1949 (2019)   \n",
       "62421   209169                              A Girl Thing (2001)   \n",
       "\n",
       "                   genres          genres_split  \\\n",
       "15881  (no genres listed)  [(no genres listed)]   \n",
       "16060  (no genres listed)  [(no genres listed)]   \n",
       "16351  (no genres listed)  [(no genres listed)]   \n",
       "16491  (no genres listed)  [(no genres listed)]   \n",
       "17404  (no genres listed)  [(no genres listed)]   \n",
       "...                   ...                   ...   \n",
       "62400  (no genres listed)  [(no genres listed)]   \n",
       "62401  (no genres listed)  [(no genres listed)]   \n",
       "62407  (no genres listed)  [(no genres listed)]   \n",
       "62415  (no genres listed)  [(no genres listed)]   \n",
       "62421  (no genres listed)  [(no genres listed)]   \n",
       "\n",
       "                                    cleaned_title genres_lists  \n",
       "15881           Away with Words San tiao ren 1999       [None]  \n",
       "16060                             Glitterbug 1994       [None]  \n",
       "16351  Age of the Earth The A Idade da Terra 1980       [None]  \n",
       "16491                         Trails Veredas 1978       [None]  \n",
       "17404                         Milky Way Tejt 2007       [None]  \n",
       "...                                           ...          ...  \n",
       "62400                   Hua yang de nian hua 2001       [None]  \n",
       "62401                 Tsar Ivan the Terrible 1991       [None]  \n",
       "62407                 The Riot and the Dance 2018       [None]  \n",
       "62415                        Mao Zedong 1949 2019       [None]  \n",
       "62421                           A Girl Thing 2001       [None]  \n",
       "\n",
       "[5062 rows x 6 columns]"
      ]
     },
     "execution_count": 25,
     "metadata": {},
     "output_type": "execute_result"
    }
   ],
   "source": [
    "movies[~movies['genres'].apply(check_genre, genre_list = list(unique_genres))]"
   ]
  },
  {
   "cell_type": "markdown",
   "id": "6a390c14-574a-4e26-991b-f920b039bc09",
   "metadata": {},
   "source": [
    "## Search Box"
   ]
  },
  {
   "cell_type": "code",
   "execution_count": 27,
   "id": "9f34e7b5-ff29-4d61-91db-3d851b3f4dfa",
   "metadata": {},
   "outputs": [],
   "source": [
    "import ipywidgets as widgets\n",
    "from IPython.display import display"
   ]
  },
  {
   "cell_type": "code",
   "execution_count": 28,
   "id": "ed8fa378-34da-48e2-aceb-456afca998b5",
   "metadata": {},
   "outputs": [
    {
     "data": {
      "application/vnd.jupyter.widget-view+json": {
       "model_id": "2b48e53f71094ea0b6edf97d617808fd",
       "version_major": 2,
       "version_minor": 0
      },
      "text/plain": [
       "Text(value='Toy Story', description='Movie Title:')"
      ]
     },
     "metadata": {},
     "output_type": "display_data"
    },
    {
     "data": {
      "application/vnd.jupyter.widget-view+json": {
       "model_id": "3a9e114b7cbb43b3bc4edab00d62c709",
       "version_major": 2,
       "version_minor": 0
      },
      "text/plain": [
       "Output()"
      ]
     },
     "metadata": {},
     "output_type": "display_data"
    }
   ],
   "source": [
    "movie_input = widgets.Text(\n",
    "    value=\"Toy Story\",\n",
    "    description=\"Movie Title:\",\n",
    "    disabled=False\n",
    ")\n",
    "movie_list = widgets.Output()\n",
    "\n",
    "def on_type(data):\n",
    "    with movie_list:\n",
    "        movie_list.clear_output()\n",
    "        title = data[\"new\"]\n",
    "        if len(title) > 5:\n",
    "            display(search(title))\n",
    "\n",
    "movie_input.observe(on_type,names='value')\n",
    "display(movie_input, movie_list)"
   ]
  },
  {
   "cell_type": "markdown",
   "id": "e17e2977-6cc1-4a6a-80bd-95fd7904b709",
   "metadata": {},
   "source": [
    "# Recommendation Engine"
   ]
  },
  {
   "cell_type": "markdown",
   "id": "818e97d3-5536-4a93-bc9a-17a6c762a0ac",
   "metadata": {},
   "source": [
    "1. Find all users who liked the search title\n",
    "1. Find the other movies that those users liked"
   ]
  },
  {
   "cell_type": "code",
   "execution_count": 30,
   "id": "897481de-8867-4646-b029-e9d1aa9ced89",
   "metadata": {},
   "outputs": [
    {
     "data": {
      "text/plain": [
       "userId         int64\n",
       "movieId        int64\n",
       "rating       float64\n",
       "timestamp      int64\n",
       "dtype: object"
      ]
     },
     "execution_count": 30,
     "metadata": {},
     "output_type": "execute_result"
    }
   ],
   "source": [
    "ratings.dtypes"
   ]
  },
  {
   "cell_type": "code",
   "execution_count": 31,
   "id": "495d8001-5548-433f-b2a3-8df33d295b10",
   "metadata": {},
   "outputs": [],
   "source": [
    "movie_id = 1\n",
    "high_rating = 4"
   ]
  },
  {
   "cell_type": "code",
   "execution_count": 32,
   "id": "b0ad1563-bbd8-4ed0-985b-c00af45c3d91",
   "metadata": {},
   "outputs": [],
   "source": [
    "# find the users that liked the movie being searched for\n",
    "similar_users = ratings[(ratings[\"movieId\"] == movie_id) & (ratings['rating']>=high_rating)]['userId'].unique()\n",
    "\n",
    "# find the movies that similar users liked\n",
    "similar_user_recs = ratings[(ratings['userId'].isin(similar_users)) & (ratings['rating']>=high_rating)]['movieId']"
   ]
  },
  {
   "cell_type": "code",
   "execution_count": 40,
   "id": "176d7bbc-316f-4d76-8bb7-365d7e2c99d7",
   "metadata": {},
   "outputs": [
    {
     "data": {
      "text/plain": [
       "array([     3,      5,      8, ..., 162530, 162533, 162534])"
      ]
     },
     "execution_count": 40,
     "metadata": {},
     "output_type": "execute_result"
    }
   ],
   "source": [
    "similar_users"
   ]
  },
  {
   "cell_type": "code",
   "execution_count": 43,
   "id": "2926a1c8",
   "metadata": {},
   "outputs": [],
   "source": [
    "def negative_bold(val):\n",
    "\n",
    "\n",
    "    bold = 'bold' if val < 0 else ''\n",
    "\n",
    "\n",
    "    return 'font-weight: %s' % bold"
   ]
  },
  {
   "cell_type": "code",
   "execution_count": 56,
   "id": "be71157e",
   "metadata": {},
   "outputs": [],
   "source": [
    "from typing import List\n",
    "\n",
    "def extract_string(my_string: str, terms_to_extract: List[str]) -> str:\n",
    "    new_string = ''\n",
    "    my_list = my_string.split('|')\n",
    "    for term in terms_to_extract:\n",
    "        if term.strip() in my_list:\n",
    "            new_string += f\"{term.strip()}|\"\n",
    "    return new_string"
   ]
  },
  {
   "cell_type": "code",
   "execution_count": 57,
   "id": "825faca4",
   "metadata": {},
   "outputs": [
    {
     "name": "stdout",
     "output_type": "stream",
     "text": [
      "['i', 'am', 'groot']\n"
     ]
    },
    {
     "data": {
      "text/plain": [
       "'i|groot|'"
      ]
     },
     "execution_count": 57,
     "metadata": {},
     "output_type": "execute_result"
    }
   ],
   "source": [
    "extract_string('i|am|groot', ['i', 'groot'])"
   ]
  },
  {
   "cell_type": "code",
   "execution_count": 34,
   "id": "6dcc8a14-05cf-46ce-838c-c07f439e0771",
   "metadata": {},
   "outputs": [
    {
     "data": {
      "text/plain": [
       "1       1.000000\n",
       "318     0.549604\n",
       "260     0.531518\n",
       "356     0.517224\n",
       "296     0.495744\n",
       "          ...   \n",
       "235     0.101249\n",
       "1242    0.100931\n",
       "1907    0.100772\n",
       "3527    0.100613\n",
       "2761    0.100135\n",
       "Name: movieId, Length: 273, dtype: float64"
      ]
     },
     "execution_count": 34,
     "metadata": {},
     "output_type": "execute_result"
    }
   ],
   "source": [
    "# find the top 10% of movies\n",
    "similar_user_recs = similar_user_recs.value_counts() / len(similar_users)\n",
    "similar_user_recs = similar_user_recs[similar_user_recs > 0.1]\n",
    "similar_user_recs"
   ]
  },
  {
   "cell_type": "code",
   "execution_count": 35,
   "id": "9a671b6a-0f94-4808-bb36-29be70321c4b",
   "metadata": {},
   "outputs": [],
   "source": [
    "# find what percent of people not similar to us liked these movies\n",
    "# if normies like what i like, its highly likely the \"similar users\" liked my\n",
    "# movie because everyone liked it"
   ]
  },
  {
   "cell_type": "code",
   "execution_count": 36,
   "id": "265bf9a8-d3b6-4e9a-ac83-461363cc3de7",
   "metadata": {},
   "outputs": [],
   "source": [
    "# all users who watched the movie recommended to us\n",
    "all_users = ratings[(ratings['movieId'].isin(similar_user_recs.index)) & (ratings['rating'] >= high_rating)]"
   ]
  },
  {
   "cell_type": "code",
   "execution_count": 37,
   "id": "40cb2dfd-8d37-4724-91bb-fa55675b468c",
   "metadata": {},
   "outputs": [],
   "source": [
    "# all users who watched the movie recommended to us\n",
    "all_users = ratings[(ratings['movieId'].isin(similar_user_recs.index)) & (ratings['rating'] >= high_rating)]\n",
    "all_user_recs = all_users['movieId'].value_counts()/len(all_users['userId'].unique())"
   ]
  },
  {
   "cell_type": "markdown",
   "id": "1336d3b3-78b8-4983-9841-19a4b3af47f7",
   "metadata": {},
   "source": [
    "We need to find a movie where:\n",
    "\n",
    "1. Everyone who liked search_term, also liked rec_term\n",
    "1. Only X% (40%, ex) of those who liked rec_term also liked search_term"
   ]
  },
  {
   "cell_type": "code",
   "execution_count": 38,
   "id": "95a52ff2-20be-4dae-82da-0b612b5d563a",
   "metadata": {},
   "outputs": [
    {
     "data": {
      "text/plain": [
       "318     0.440215\n",
       "296     0.389659\n",
       "356     0.367553\n",
       "593     0.361897\n",
       "2571    0.347994\n",
       "          ...   \n",
       "3175    0.049325\n",
       "2081    0.047128\n",
       "1282    0.044712\n",
       "2761    0.039855\n",
       "1907    0.039805\n",
       "Name: movieId, Length: 273, dtype: float64"
      ]
     },
     "execution_count": 38,
     "metadata": {},
     "output_type": "execute_result"
    }
   ],
   "source": [
    "# percent of all users who liked the given movie\n",
    "all_user_recs"
   ]
  },
  {
   "cell_type": "code",
   "execution_count": null,
   "id": "5f19573a-2c57-4876-b566-df85b4b19ada",
   "metadata": {},
   "outputs": [],
   "source": [
    "rec_percentages = pd.concat([similar_user_recs, all_user_recs], axis=1)\n",
    "rec_percentages.columns = ['similar_ppl','all_ppl']"
   ]
  },
  {
   "cell_type": "code",
   "execution_count": null,
   "id": "8f4b87d8-6b36-4627-a75e-d5feabdc4ca0",
   "metadata": {},
   "outputs": [],
   "source": [
    "rec_percentages"
   ]
  },
  {
   "cell_type": "code",
   "execution_count": null,
   "id": "9ae67ba7-7c17-48c3-af67-245658aaf476",
   "metadata": {},
   "outputs": [],
   "source": [
    "# score = ratio of similar:avg users who liked movie\n",
    "rec_percentages['score'] = rec_percentages['similar_ppl'] / rec_percentages['all_ppl']\n",
    "rec_percentages = rec_percentages.sort_values('score', ascending=False)"
   ]
  },
  {
   "cell_type": "code",
   "execution_count": null,
   "id": "3aaffa93-3e6b-4d0e-88c9-da7f945247e4",
   "metadata": {},
   "outputs": [],
   "source": [
    "# left_index is the movieId\n",
    "rec_percentages.head(10).merge(movies, left_index=True, right_on='movieId')"
   ]
  },
  {
   "cell_type": "markdown",
   "id": "afd824b3-21c9-4d47-8a77-f25e8ad4c154",
   "metadata": {},
   "source": [
    "Not bad! For `Toy Story` we recommended the Toy Story series, Bugs Life, etc."
   ]
  },
  {
   "cell_type": "code",
   "execution_count": null,
   "id": "1cd24959-66f5-4617-9414-6263de727c0b",
   "metadata": {},
   "outputs": [],
   "source": [
    "def find_similar_movies(movie_id: int, high_rating: int = 4) -> pd.DataFrame:\n",
    "    # find the users that liked the movie being searched for\n",
    "    similar_users = ratings[(ratings[\"movieId\"] == movie_id) & (ratings['rating']>=high_rating)]['userId'].unique()\n",
    "    # find the movies that similar users liked\n",
    "    similar_user_recs = ratings[(ratings['userId'].isin(similar_users)) & (ratings['rating']>=high_rating)]['movieId']\n",
    "\n",
    "    # find the top 10% of movies\n",
    "    similar_user_recs = similar_user_recs.value_counts() / len(similar_users)\n",
    "    similar_user_recs = similar_user_recs[similar_user_recs > 0.1]\n",
    "    \n",
    "    # all users who watched the movie recommended to us\n",
    "    all_users = ratings[(ratings['movieId'].isin(similar_user_recs.index)) & (ratings['rating'] >= high_rating)]\n",
    "    all_user_recs = all_users['movieId'].value_counts()/len(all_users['userId'].unique())\n",
    "    \n",
    "    rec_percentages = pd.concat([similar_user_recs, all_user_recs], axis=1)\n",
    "    rec_percentages.columns = ['similar_ppl','all_ppl']\n",
    "\n",
    "    # score = ratio of similar:avg users who liked movie\n",
    "    rec_percentages['score'] = rec_percentages['similar_ppl'] / rec_percentages['all_ppl']\n",
    "    rec_percentages = rec_percentages.sort_values('score', ascending=False)\n",
    "    \n",
    "    # left_index is the movieId\n",
    "    return rec_percentages.head(10).merge(movies, left_index=True, right_on='movieId')[['score','title','genres']]"
   ]
  },
  {
   "cell_type": "markdown",
   "id": "b8f56d4c-94c1-4e61-b1b1-141129490f26",
   "metadata": {},
   "source": [
    "## Widget"
   ]
  },
  {
   "cell_type": "code",
   "execution_count": null,
   "id": "68e4fa04-2466-4d57-ac3d-84683a2a9e86",
   "metadata": {},
   "outputs": [],
   "source": [
    "movie_input_name = widgets.Text(\n",
    "    initial_value = 'Toy Story',\n",
    "    description = 'Movie Title:',\n",
    "    disabled=False\n",
    ")"
   ]
  },
  {
   "cell_type": "code",
   "execution_count": null,
   "id": "c50f8b21-d85d-46ee-877a-1bec0f51f0f1",
   "metadata": {},
   "outputs": [],
   "source": [
    "recommendation_list = widgets.Output()\n",
    "\n",
    "def on_type(data):\n",
    "    with recommendation_list:\n",
    "        recommendation_list.clear_output()\n",
    "        title = data['new']\n",
    "        if len(title) > 5:\n",
    "            results = search(title)\n",
    "            movie_id = results.iloc[0]['movieId']\n",
    "            display(find_similar_movies(movie_id))\n",
    "\n",
    "movie_input_name.observe(on_type, names='value')\n",
    "display(movie_input_name, recommendation_list)"
   ]
  },
  {
   "cell_type": "markdown",
   "id": "77676ea8-7876-4a98-a59b-5e576bf1107e",
   "metadata": {
    "user_expressions": []
   },
   "source": [
    "# Adding Tags as a Feature"
   ]
  },
  {
   "cell_type": "code",
   "execution_count": null,
   "id": "ec27af57-2521-418d-abfb-9ec086dcbfff",
   "metadata": {},
   "outputs": [],
   "source": [
    "tags = tags.merge(genome_tags, how='left')\n",
    "tags.info()"
   ]
  },
  {
   "cell_type": "code",
   "execution_count": null,
   "id": "be2c547c-8dc8-4ea4-94ed-3b018e13982c",
   "metadata": {},
   "outputs": [],
   "source": [
    "num_movies = len(tags['movieId'].unique())\n",
    "num_real_movies = len(tags[~tags['tagId'].isna()]['movieId'].unique())"
   ]
  },
  {
   "cell_type": "markdown",
   "id": "efc8fc9d-2eda-44c2-9a72-981a95225c2c",
   "metadata": {
    "tags": [],
    "user_expressions": [
     {
      "expression": " num_movies - num_real_movies ",
      "result": {
       "data": {
        "text/plain": "11436"
       },
       "metadata": {},
       "status": "ok"
      }
     },
     {
      "expression": " num_real_movies ",
      "result": {
       "data": {
        "text/plain": "33815"
       },
       "metadata": {},
       "status": "ok"
      }
     }
    ]
   },
   "source": [
    "By only using movies that are tagged with a tagId, we lose {{ num_movies - num_real_movies }} movies\n",
    "And analyze {{ num_real_movies }} movies"
   ]
  },
  {
   "cell_type": "code",
   "execution_count": null,
   "id": "3526a7e4-0480-4f4f-a812-ca10b8539a6b",
   "metadata": {},
   "outputs": [],
   "source": [
    "def pick_highest_relevant_tag_score(sub_df: pd.DataFrame) -> pd.DataFrame:\n",
    "    '''\n",
    "    Used for groupby function, returns the row that contains the highest\n",
    "    relevance value (minus movieId column, since groupby function will \n",
    "    make that the index anyways)\n",
    "    '''\n",
    "    sub_df = sub_df.sort_values('relevance', ascending=False)\n",
    "    return sub_df.iloc[0,1:]\n",
    "    "
   ]
  },
  {
   "cell_type": "code",
   "execution_count": null,
   "id": "e7e8f063-2fc1-4e65-8862-f248047ae6f3",
   "metadata": {},
   "outputs": [],
   "source": [
    "most_relevant_tag = genome_scores.groupby('movieId').apply(pick_highest_relevant_tag_score)\n",
    "most_relevant_tag = most_relevant_tag.reset_index()"
   ]
  },
  {
   "cell_type": "code",
   "execution_count": null,
   "id": "512cf0d2-fa8d-4064-ba02-2f462045126b",
   "metadata": {},
   "outputs": [],
   "source": [
    "num_unique_tags = len(genome_scores['tagId'].unique())\n",
    "num_movies_tagged = len(genome_scores['movieId'].unique())\n",
    "(genome_scores['movieId'].value_counts() == num_unique_tags).sum() == num_movies_tagged"
   ]
  },
  {
   "cell_type": "code",
   "execution_count": null,
   "id": "3f3effbb-f2c8-434b-b31a-f66c2f6018c2",
   "metadata": {},
   "outputs": [],
   "source": [
    "genome_scores[genome_scores['relevance'] >= 0.5].iloc[0,:]"
   ]
  },
  {
   "cell_type": "code",
   "execution_count": null,
   "id": "667fab2f-2db3-4c33-b88f-2b7cf0d3cf01",
   "metadata": {},
   "outputs": [],
   "source": [
    "genome_scores[genome_scores['relevance'] >= 0.5]"
   ]
  },
  {
   "cell_type": "code",
   "execution_count": null,
   "id": "ec4456ea-c2ce-4161-a318-1ede0b5f2648",
   "metadata": {},
   "outputs": [],
   "source": [
    "genome_scores.describe().round(2)"
   ]
  },
  {
   "cell_type": "code",
   "execution_count": null,
   "id": "1c639b5e-fd51-4a16-90ce-b9b6c726a1fd",
   "metadata": {},
   "outputs": [],
   "source": [
    "genome_scores.merge(movies).sort_values(['movieId', 'relevance'], ascending=False)"
   ]
  },
  {
   "cell_type": "code",
   "execution_count": null,
   "id": "b3e585f4-9343-41db-b167-d75639ee3930",
   "metadata": {},
   "outputs": [],
   "source": []
  }
 ],
 "metadata": {
  "kernelspec": {
   "display_name": "Data Env",
   "language": "python",
   "name": "data_env"
  },
  "language_info": {
   "codemirror_mode": {
    "name": "ipython",
    "version": 3
   },
   "file_extension": ".py",
   "mimetype": "text/x-python",
   "name": "python",
   "nbconvert_exporter": "python",
   "pygments_lexer": "ipython3",
   "version": "3.9.6"
  },
  "widgets": {
   "application/vnd.jupyter.widget-state+json": {
    "state": {},
    "version_major": 2,
    "version_minor": 0
   }
  }
 },
 "nbformat": 4,
 "nbformat_minor": 5
}
