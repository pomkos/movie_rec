{
 "cells": [
  {
   "cell_type": "markdown",
   "id": "86873dd6-a225-46c6-9963-cc40a4d1ab49",
   "metadata": {
    "user_expressions": []
   },
   "source": [
    "# Movie Recommendation Engine"
   ]
  },
  {
   "cell_type": "markdown",
   "id": "b3256dd7-a845-4218-8e30-9cff76a518b9",
   "metadata": {
    "user_expressions": []
   },
   "source": [
    "Started as a follow-along project with [Dataquest's walkthrough](https://www.youtube.com/watch?v=eyEabQRBMQA), and ended up being a more fleshed out personal project."
   ]
  },
  {
   "cell_type": "code",
   "execution_count": 1,
   "id": "88a9848a-3d0e-4baf-b33b-ecfbe80fd416",
   "metadata": {},
   "outputs": [],
   "source": [
    "import pandas as pd\n",
    "import numpy as np\n",
    "import matplotlib.pyplot as plt\n",
    "import seaborn as sns\n",
    "import re"
   ]
  },
  {
   "cell_type": "code",
   "execution_count": 2,
   "id": "3a2b5ccf-7dc8-4f15-b8a4-01e83230306e",
   "metadata": {},
   "outputs": [],
   "source": [
    "movies = pd.read_csv(\"data/movies.csv\")\n",
    "ratings = pd.read_csv(\"data/ratings.csv\")\n",
    "\n",
    "links = pd.read_csv('data/links.csv')\n",
    "tags = pd.read_csv('data/tags.csv')\n",
    "genome_scores = pd.read_csv('data/genome-scores.csv')\n",
    "genome_tags = pd.read_csv('data/genome-tags.csv')"
   ]
  },
  {
   "cell_type": "code",
   "execution_count": 3,
   "id": "65aa4b04-9149-431a-ba8b-54805edf9215",
   "metadata": {},
   "outputs": [],
   "source": [
    "def clean_title(title: str) -> str:\n",
    "    '''\n",
    "    Keeps only letters, numbers, whitespaces. \n",
    "    Replaces everything else with nothing.\n",
    "    '''\n",
    "    return re.sub(\"[^a-zA-Z0-9 ]\", \"\", title)"
   ]
  },
  {
   "cell_type": "code",
   "execution_count": 4,
   "id": "9abb5d19-8210-4fb1-9f5b-667f2667cbc8",
   "metadata": {},
   "outputs": [],
   "source": [
    "movies['cleaned_title'] = movies['title'].apply(clean_title)"
   ]
  },
  {
   "cell_type": "code",
   "execution_count": 5,
   "id": "0a705da1-b926-4c37-9836-70aee26a5c9f",
   "metadata": {},
   "outputs": [
    {
     "data": {
      "text/html": [
       "<div>\n",
       "<style scoped>\n",
       "    .dataframe tbody tr th:only-of-type {\n",
       "        vertical-align: middle;\n",
       "    }\n",
       "\n",
       "    .dataframe tbody tr th {\n",
       "        vertical-align: top;\n",
       "    }\n",
       "\n",
       "    .dataframe thead th {\n",
       "        text-align: right;\n",
       "    }\n",
       "</style>\n",
       "<table border=\"1\" class=\"dataframe\">\n",
       "  <thead>\n",
       "    <tr style=\"text-align: right;\">\n",
       "      <th></th>\n",
       "      <th>movieId</th>\n",
       "      <th>title</th>\n",
       "      <th>genres</th>\n",
       "      <th>cleaned_title</th>\n",
       "    </tr>\n",
       "  </thead>\n",
       "  <tbody>\n",
       "    <tr>\n",
       "      <th>0</th>\n",
       "      <td>1</td>\n",
       "      <td>Toy Story (1995)</td>\n",
       "      <td>Adventure|Animation|Children|Comedy|Fantasy</td>\n",
       "      <td>Toy Story 1995</td>\n",
       "    </tr>\n",
       "    <tr>\n",
       "      <th>1</th>\n",
       "      <td>2</td>\n",
       "      <td>Jumanji (1995)</td>\n",
       "      <td>Adventure|Children|Fantasy</td>\n",
       "      <td>Jumanji 1995</td>\n",
       "    </tr>\n",
       "    <tr>\n",
       "      <th>2</th>\n",
       "      <td>3</td>\n",
       "      <td>Grumpier Old Men (1995)</td>\n",
       "      <td>Comedy|Romance</td>\n",
       "      <td>Grumpier Old Men 1995</td>\n",
       "    </tr>\n",
       "    <tr>\n",
       "      <th>3</th>\n",
       "      <td>4</td>\n",
       "      <td>Waiting to Exhale (1995)</td>\n",
       "      <td>Comedy|Drama|Romance</td>\n",
       "      <td>Waiting to Exhale 1995</td>\n",
       "    </tr>\n",
       "    <tr>\n",
       "      <th>4</th>\n",
       "      <td>5</td>\n",
       "      <td>Father of the Bride Part II (1995)</td>\n",
       "      <td>Comedy</td>\n",
       "      <td>Father of the Bride Part II 1995</td>\n",
       "    </tr>\n",
       "    <tr>\n",
       "      <th>...</th>\n",
       "      <td>...</td>\n",
       "      <td>...</td>\n",
       "      <td>...</td>\n",
       "      <td>...</td>\n",
       "    </tr>\n",
       "    <tr>\n",
       "      <th>62418</th>\n",
       "      <td>209157</td>\n",
       "      <td>We (2018)</td>\n",
       "      <td>Drama</td>\n",
       "      <td>We 2018</td>\n",
       "    </tr>\n",
       "    <tr>\n",
       "      <th>62419</th>\n",
       "      <td>209159</td>\n",
       "      <td>Window of the Soul (2001)</td>\n",
       "      <td>Documentary</td>\n",
       "      <td>Window of the Soul 2001</td>\n",
       "    </tr>\n",
       "    <tr>\n",
       "      <th>62420</th>\n",
       "      <td>209163</td>\n",
       "      <td>Bad Poems (2018)</td>\n",
       "      <td>Comedy|Drama</td>\n",
       "      <td>Bad Poems 2018</td>\n",
       "    </tr>\n",
       "    <tr>\n",
       "      <th>62421</th>\n",
       "      <td>209169</td>\n",
       "      <td>A Girl Thing (2001)</td>\n",
       "      <td>(no genres listed)</td>\n",
       "      <td>A Girl Thing 2001</td>\n",
       "    </tr>\n",
       "    <tr>\n",
       "      <th>62422</th>\n",
       "      <td>209171</td>\n",
       "      <td>Women of Devil's Island (1962)</td>\n",
       "      <td>Action|Adventure|Drama</td>\n",
       "      <td>Women of Devils Island 1962</td>\n",
       "    </tr>\n",
       "  </tbody>\n",
       "</table>\n",
       "<p>62423 rows × 4 columns</p>\n",
       "</div>"
      ],
      "text/plain": [
       "       movieId                               title  \\\n",
       "0            1                    Toy Story (1995)   \n",
       "1            2                      Jumanji (1995)   \n",
       "2            3             Grumpier Old Men (1995)   \n",
       "3            4            Waiting to Exhale (1995)   \n",
       "4            5  Father of the Bride Part II (1995)   \n",
       "...        ...                                 ...   \n",
       "62418   209157                           We (2018)   \n",
       "62419   209159           Window of the Soul (2001)   \n",
       "62420   209163                    Bad Poems (2018)   \n",
       "62421   209169                 A Girl Thing (2001)   \n",
       "62422   209171      Women of Devil's Island (1962)   \n",
       "\n",
       "                                            genres  \\\n",
       "0      Adventure|Animation|Children|Comedy|Fantasy   \n",
       "1                       Adventure|Children|Fantasy   \n",
       "2                                   Comedy|Romance   \n",
       "3                             Comedy|Drama|Romance   \n",
       "4                                           Comedy   \n",
       "...                                            ...   \n",
       "62418                                        Drama   \n",
       "62419                                  Documentary   \n",
       "62420                                 Comedy|Drama   \n",
       "62421                           (no genres listed)   \n",
       "62422                       Action|Adventure|Drama   \n",
       "\n",
       "                          cleaned_title  \n",
       "0                        Toy Story 1995  \n",
       "1                          Jumanji 1995  \n",
       "2                 Grumpier Old Men 1995  \n",
       "3                Waiting to Exhale 1995  \n",
       "4      Father of the Bride Part II 1995  \n",
       "...                                 ...  \n",
       "62418                           We 2018  \n",
       "62419           Window of the Soul 2001  \n",
       "62420                    Bad Poems 2018  \n",
       "62421                 A Girl Thing 2001  \n",
       "62422       Women of Devils Island 1962  \n",
       "\n",
       "[62423 rows x 4 columns]"
      ]
     },
     "execution_count": 5,
     "metadata": {},
     "output_type": "execute_result"
    }
   ],
   "source": [
    "movies"
   ]
  },
  {
   "cell_type": "markdown",
   "id": "ad2f1fc8-383c-4eea-a15c-dd890c17ee25",
   "metadata": {},
   "source": [
    "# Search Engine"
   ]
  },
  {
   "cell_type": "markdown",
   "id": "56919696-df6a-4b80-bd68-4ee7168f5b56",
   "metadata": {},
   "source": [
    "Converting words into numbers:\n",
    "\n",
    "1. Term frequency: get frequency of words in title\n",
    "1. Inverse document frequency: helps search engine find unique terms (the is in a lot of title, but harry is not)\n",
    "1. Tf\\*Idf: Get a vector for each movie\n",
    "\n",
    "Search:\n",
    "\n",
    "1. Convert search text into into numbers like above\n",
    "1. Find row with the most number of matches via similarity"
   ]
  },
  {
   "cell_type": "code",
   "execution_count": 6,
   "id": "1a12fd72-2e2b-490b-ab18-78b2b20820a2",
   "metadata": {},
   "outputs": [],
   "source": [
    "from sklearn.feature_extraction.text import TfidfVectorizer"
   ]
  },
  {
   "cell_type": "code",
   "execution_count": 7,
   "id": "1490a4c3-e927-413e-b0e8-66192cb8b3d7",
   "metadata": {},
   "outputs": [],
   "source": [
    "# ngrams: number of words to search for together\n",
    "# ex: Toy Story 1995: \"toy\", \"story\", \"1995\"; \"toy story\", \"story 1995\"\n",
    "vectorizer = TfidfVectorizer(ngram_range=(1,2))\n",
    "tfidf = vectorizer.fit_transform(movies['cleaned_title'])"
   ]
  },
  {
   "cell_type": "code",
   "execution_count": 8,
   "id": "76f1bd71-74f2-4a0a-815a-da820917db2b",
   "metadata": {},
   "outputs": [],
   "source": [
    "from sklearn.metrics.pairwise import cosine_similarity\n",
    "\n",
    "def search(title: str) -> pd.DataFrame:\n",
    "    '''\n",
    "    Turns search term into a vectory, resulting top 5 results\n",
    "    '''\n",
    "    title = clean_title(title)\n",
    "    query_vec = vectorizer.transform([title])\n",
    "    # returns how similar search title is to each title\n",
    "    similarity = cosine_similarity(query_vec, tfidf).flatten()\n",
    "    movies_cp = movies.copy()\n",
    "    # find the 5 most similar titles by idx, in asc order\n",
    "    # kinda like df['col'].sort_values(ascending=False).loc[:-5]\n",
    "    indices = np.argpartition(similarity, -5)[-5:]\n",
    "    movies_cp['similarity'] = similarity\n",
    "    results = movies_cp.iloc[indices][::-1] # return with most similar up top\n",
    "    return results"
   ]
  },
  {
   "cell_type": "markdown",
   "id": "6a390c14-574a-4e26-991b-f920b039bc09",
   "metadata": {},
   "source": [
    "## Search Box"
   ]
  },
  {
   "cell_type": "code",
   "execution_count": 9,
   "id": "9f34e7b5-ff29-4d61-91db-3d851b3f4dfa",
   "metadata": {},
   "outputs": [],
   "source": [
    "import ipywidgets as widgets\n",
    "from IPython.display import display"
   ]
  },
  {
   "cell_type": "code",
   "execution_count": 10,
   "id": "ed8fa378-34da-48e2-aceb-456afca998b5",
   "metadata": {},
   "outputs": [
    {
     "data": {
      "application/vnd.jupyter.widget-view+json": {
       "model_id": "a3287a1dd37047e995660c38d7a5717b",
       "version_major": 2,
       "version_minor": 0
      },
      "text/plain": [
       "Text(value='Toy Story', description='Movie Title:')"
      ]
     },
     "metadata": {},
     "output_type": "display_data"
    },
    {
     "data": {
      "application/vnd.jupyter.widget-view+json": {
       "model_id": "92377309adda4bd78749c491572902e8",
       "version_major": 2,
       "version_minor": 0
      },
      "text/plain": [
       "Output()"
      ]
     },
     "metadata": {},
     "output_type": "display_data"
    }
   ],
   "source": [
    "movie_input = widgets.Text(\n",
    "    value=\"Toy Story\",\n",
    "    description=\"Movie Title:\",\n",
    "    disabled=False\n",
    ")\n",
    "movie_list = widgets.Output()\n",
    "\n",
    "def on_type(data):\n",
    "    with movie_list:\n",
    "        movie_list.clear_output()\n",
    "        title = data[\"new\"]\n",
    "        if len(title) > 5:\n",
    "            display(search(title))\n",
    "\n",
    "movie_input.observe(on_type,names='value')\n",
    "display(movie_input, movie_list)"
   ]
  },
  {
   "cell_type": "markdown",
   "id": "e17e2977-6cc1-4a6a-80bd-95fd7904b709",
   "metadata": {},
   "source": [
    "# Recommendation Engine"
   ]
  },
  {
   "cell_type": "markdown",
   "id": "818e97d3-5536-4a93-bc9a-17a6c762a0ac",
   "metadata": {},
   "source": [
    "1. Find all users who liked the search title\n",
    "1. Find the other movies that those users liked"
   ]
  },
  {
   "cell_type": "code",
   "execution_count": 11,
   "id": "0fdfeef2-ec16-4d88-9f3d-2c9293c8c35c",
   "metadata": {},
   "outputs": [
    {
     "data": {
      "text/html": [
       "<div>\n",
       "<style scoped>\n",
       "    .dataframe tbody tr th:only-of-type {\n",
       "        vertical-align: middle;\n",
       "    }\n",
       "\n",
       "    .dataframe tbody tr th {\n",
       "        vertical-align: top;\n",
       "    }\n",
       "\n",
       "    .dataframe thead th {\n",
       "        text-align: right;\n",
       "    }\n",
       "</style>\n",
       "<table border=\"1\" class=\"dataframe\">\n",
       "  <thead>\n",
       "    <tr style=\"text-align: right;\">\n",
       "      <th></th>\n",
       "      <th>userId</th>\n",
       "      <th>movieId</th>\n",
       "      <th>rating</th>\n",
       "      <th>timestamp</th>\n",
       "    </tr>\n",
       "  </thead>\n",
       "  <tbody>\n",
       "    <tr>\n",
       "      <th>0</th>\n",
       "      <td>1</td>\n",
       "      <td>296</td>\n",
       "      <td>5.0</td>\n",
       "      <td>1147880044</td>\n",
       "    </tr>\n",
       "    <tr>\n",
       "      <th>1</th>\n",
       "      <td>1</td>\n",
       "      <td>306</td>\n",
       "      <td>3.5</td>\n",
       "      <td>1147868817</td>\n",
       "    </tr>\n",
       "    <tr>\n",
       "      <th>2</th>\n",
       "      <td>1</td>\n",
       "      <td>307</td>\n",
       "      <td>5.0</td>\n",
       "      <td>1147868828</td>\n",
       "    </tr>\n",
       "    <tr>\n",
       "      <th>3</th>\n",
       "      <td>1</td>\n",
       "      <td>665</td>\n",
       "      <td>5.0</td>\n",
       "      <td>1147878820</td>\n",
       "    </tr>\n",
       "    <tr>\n",
       "      <th>4</th>\n",
       "      <td>1</td>\n",
       "      <td>899</td>\n",
       "      <td>3.5</td>\n",
       "      <td>1147868510</td>\n",
       "    </tr>\n",
       "    <tr>\n",
       "      <th>...</th>\n",
       "      <td>...</td>\n",
       "      <td>...</td>\n",
       "      <td>...</td>\n",
       "      <td>...</td>\n",
       "    </tr>\n",
       "    <tr>\n",
       "      <th>25000090</th>\n",
       "      <td>162541</td>\n",
       "      <td>50872</td>\n",
       "      <td>4.5</td>\n",
       "      <td>1240953372</td>\n",
       "    </tr>\n",
       "    <tr>\n",
       "      <th>25000091</th>\n",
       "      <td>162541</td>\n",
       "      <td>55768</td>\n",
       "      <td>2.5</td>\n",
       "      <td>1240951998</td>\n",
       "    </tr>\n",
       "    <tr>\n",
       "      <th>25000092</th>\n",
       "      <td>162541</td>\n",
       "      <td>56176</td>\n",
       "      <td>2.0</td>\n",
       "      <td>1240950697</td>\n",
       "    </tr>\n",
       "    <tr>\n",
       "      <th>25000093</th>\n",
       "      <td>162541</td>\n",
       "      <td>58559</td>\n",
       "      <td>4.0</td>\n",
       "      <td>1240953434</td>\n",
       "    </tr>\n",
       "    <tr>\n",
       "      <th>25000094</th>\n",
       "      <td>162541</td>\n",
       "      <td>63876</td>\n",
       "      <td>5.0</td>\n",
       "      <td>1240952515</td>\n",
       "    </tr>\n",
       "  </tbody>\n",
       "</table>\n",
       "<p>25000095 rows × 4 columns</p>\n",
       "</div>"
      ],
      "text/plain": [
       "          userId  movieId  rating   timestamp\n",
       "0              1      296     5.0  1147880044\n",
       "1              1      306     3.5  1147868817\n",
       "2              1      307     5.0  1147868828\n",
       "3              1      665     5.0  1147878820\n",
       "4              1      899     3.5  1147868510\n",
       "...          ...      ...     ...         ...\n",
       "25000090  162541    50872     4.5  1240953372\n",
       "25000091  162541    55768     2.5  1240951998\n",
       "25000092  162541    56176     2.0  1240950697\n",
       "25000093  162541    58559     4.0  1240953434\n",
       "25000094  162541    63876     5.0  1240952515\n",
       "\n",
       "[25000095 rows x 4 columns]"
      ]
     },
     "execution_count": 11,
     "metadata": {},
     "output_type": "execute_result"
    }
   ],
   "source": [
    "ratings"
   ]
  },
  {
   "cell_type": "code",
   "execution_count": 12,
   "id": "897481de-8867-4646-b029-e9d1aa9ced89",
   "metadata": {},
   "outputs": [
    {
     "data": {
      "text/plain": [
       "userId         int64\n",
       "movieId        int64\n",
       "rating       float64\n",
       "timestamp      int64\n",
       "dtype: object"
      ]
     },
     "execution_count": 12,
     "metadata": {},
     "output_type": "execute_result"
    }
   ],
   "source": [
    "ratings.dtypes"
   ]
  },
  {
   "cell_type": "code",
   "execution_count": 13,
   "id": "495d8001-5548-433f-b2a3-8df33d295b10",
   "metadata": {},
   "outputs": [],
   "source": [
    "movie_id = 1\n",
    "high_rating = 4"
   ]
  },
  {
   "cell_type": "code",
   "execution_count": 14,
   "id": "b0ad1563-bbd8-4ed0-985b-c00af45c3d91",
   "metadata": {},
   "outputs": [],
   "source": [
    "# find the users that liked the movie being searched for\n",
    "similar_users = ratings[(ratings[\"movieId\"] == movie_id) & (ratings['rating']>=high_rating)]['userId'].unique()\n",
    "\n",
    "# find the movies that similar users liked\n",
    "similar_user_recs = ratings[(ratings['userId'].isin(similar_users)) & (ratings['rating']>=high_rating)]['movieId']"
   ]
  },
  {
   "cell_type": "code",
   "execution_count": 15,
   "id": "176d7bbc-316f-4d76-8bb7-365d7e2c99d7",
   "metadata": {},
   "outputs": [
    {
     "data": {
      "text/plain": [
       "254              1\n",
       "255             29\n",
       "256             32\n",
       "257             50\n",
       "258            111\n",
       "             ...  \n",
       "24999332    166643\n",
       "24999342    171763\n",
       "24999348    177593\n",
       "24999351    177765\n",
       "24999378    198609\n",
       "Name: movieId, Length: 5101989, dtype: int64"
      ]
     },
     "execution_count": 15,
     "metadata": {},
     "output_type": "execute_result"
    }
   ],
   "source": [
    "similar_user_recs"
   ]
  },
  {
   "cell_type": "code",
   "execution_count": 16,
   "id": "6dcc8a14-05cf-46ce-838c-c07f439e0771",
   "metadata": {},
   "outputs": [
    {
     "data": {
      "text/plain": [
       "1       1.000000\n",
       "318     0.549604\n",
       "260     0.531518\n",
       "356     0.517224\n",
       "296     0.495744\n",
       "          ...   \n",
       "235     0.101249\n",
       "1242    0.100931\n",
       "1907    0.100772\n",
       "3527    0.100613\n",
       "2761    0.100135\n",
       "Name: movieId, Length: 273, dtype: float64"
      ]
     },
     "execution_count": 16,
     "metadata": {},
     "output_type": "execute_result"
    }
   ],
   "source": [
    "# find the top 10% of movies\n",
    "similar_user_recs = similar_user_recs.value_counts() / len(similar_users)\n",
    "similar_user_recs = similar_user_recs[similar_user_recs > 0.1]\n",
    "similar_user_recs"
   ]
  },
  {
   "cell_type": "code",
   "execution_count": 17,
   "id": "9a671b6a-0f94-4808-bb36-29be70321c4b",
   "metadata": {},
   "outputs": [],
   "source": [
    "# find what percent of people not similar to us liked these movies\n",
    "# if normies like what i like, its highly likely the \"similar users\" liked my\n",
    "# movie because everyone liked it"
   ]
  },
  {
   "cell_type": "code",
   "execution_count": 18,
   "id": "265bf9a8-d3b6-4e9a-ac83-461363cc3de7",
   "metadata": {},
   "outputs": [],
   "source": [
    "# all users who watched the movie recommended to us\n",
    "all_users = ratings[(ratings['movieId'].isin(similar_user_recs.index)) & (ratings['rating'] >= high_rating)]"
   ]
  },
  {
   "cell_type": "code",
   "execution_count": 19,
   "id": "40cb2dfd-8d37-4724-91bb-fa55675b468c",
   "metadata": {},
   "outputs": [],
   "source": [
    "# all users who watched the movie recommended to us\n",
    "all_users = ratings[(ratings['movieId'].isin(similar_user_recs.index)) & (ratings['rating'] >= high_rating)]\n",
    "all_user_recs = all_users['movieId'].value_counts()/len(all_users['userId'].unique())"
   ]
  },
  {
   "cell_type": "markdown",
   "id": "1336d3b3-78b8-4983-9841-19a4b3af47f7",
   "metadata": {},
   "source": [
    "We need to find a movie where:\n",
    "\n",
    "1. Everyone who liked search_term, also liked rec_term\n",
    "1. Only X% (40%, ex) of those who liked rec_term also liked search_term"
   ]
  },
  {
   "cell_type": "code",
   "execution_count": 20,
   "id": "95a52ff2-20be-4dae-82da-0b612b5d563a",
   "metadata": {},
   "outputs": [
    {
     "data": {
      "text/plain": [
       "318     0.440215\n",
       "296     0.389659\n",
       "356     0.367553\n",
       "593     0.361897\n",
       "2571    0.347994\n",
       "          ...   \n",
       "3175    0.049325\n",
       "2081    0.047128\n",
       "1282    0.044712\n",
       "2761    0.039855\n",
       "1907    0.039805\n",
       "Name: movieId, Length: 273, dtype: float64"
      ]
     },
     "execution_count": 20,
     "metadata": {},
     "output_type": "execute_result"
    }
   ],
   "source": [
    "# percent of all users who liked the given movie\n",
    "all_user_recs"
   ]
  },
  {
   "cell_type": "code",
   "execution_count": 21,
   "id": "5f19573a-2c57-4876-b566-df85b4b19ada",
   "metadata": {},
   "outputs": [],
   "source": [
    "rec_percentages = pd.concat([similar_user_recs, all_user_recs], axis=1)\n",
    "rec_percentages.columns = ['similar_ppl','all_ppl']"
   ]
  },
  {
   "cell_type": "code",
   "execution_count": 22,
   "id": "8f4b87d8-6b36-4627-a75e-d5feabdc4ca0",
   "metadata": {},
   "outputs": [
    {
     "data": {
      "text/html": [
       "<div>\n",
       "<style scoped>\n",
       "    .dataframe tbody tr th:only-of-type {\n",
       "        vertical-align: middle;\n",
       "    }\n",
       "\n",
       "    .dataframe tbody tr th {\n",
       "        vertical-align: top;\n",
       "    }\n",
       "\n",
       "    .dataframe thead th {\n",
       "        text-align: right;\n",
       "    }\n",
       "</style>\n",
       "<table border=\"1\" class=\"dataframe\">\n",
       "  <thead>\n",
       "    <tr style=\"text-align: right;\">\n",
       "      <th></th>\n",
       "      <th>similar_ppl</th>\n",
       "      <th>all_ppl</th>\n",
       "    </tr>\n",
       "  </thead>\n",
       "  <tbody>\n",
       "    <tr>\n",
       "      <th>1</th>\n",
       "      <td>1.000000</td>\n",
       "      <td>0.235415</td>\n",
       "    </tr>\n",
       "    <tr>\n",
       "      <th>2</th>\n",
       "      <td>0.105598</td>\n",
       "      <td>0.051667</td>\n",
       "    </tr>\n",
       "    <tr>\n",
       "      <th>6</th>\n",
       "      <td>0.162879</td>\n",
       "      <td>0.097377</td>\n",
       "    </tr>\n",
       "    <tr>\n",
       "      <th>10</th>\n",
       "      <td>0.122623</td>\n",
       "      <td>0.072924</td>\n",
       "    </tr>\n",
       "    <tr>\n",
       "      <th>11</th>\n",
       "      <td>0.101408</td>\n",
       "      <td>0.058952</td>\n",
       "    </tr>\n",
       "    <tr>\n",
       "      <th>...</th>\n",
       "      <td>...</td>\n",
       "      <td>...</td>\n",
       "    </tr>\n",
       "    <tr>\n",
       "      <th>91529</th>\n",
       "      <td>0.120422</td>\n",
       "      <td>0.085416</td>\n",
       "    </tr>\n",
       "    <tr>\n",
       "      <th>99114</th>\n",
       "      <td>0.112732</td>\n",
       "      <td>0.091209</td>\n",
       "    </tr>\n",
       "    <tr>\n",
       "      <th>109487</th>\n",
       "      <td>0.117426</td>\n",
       "      <td>0.102603</td>\n",
       "    </tr>\n",
       "    <tr>\n",
       "      <th>112852</th>\n",
       "      <td>0.102681</td>\n",
       "      <td>0.067698</td>\n",
       "    </tr>\n",
       "    <tr>\n",
       "      <th>134853</th>\n",
       "      <td>0.103503</td>\n",
       "      <td>0.056642</td>\n",
       "    </tr>\n",
       "  </tbody>\n",
       "</table>\n",
       "<p>273 rows × 2 columns</p>\n",
       "</div>"
      ],
      "text/plain": [
       "        similar_ppl   all_ppl\n",
       "1          1.000000  0.235415\n",
       "2          0.105598  0.051667\n",
       "6          0.162879  0.097377\n",
       "10         0.122623  0.072924\n",
       "11         0.101408  0.058952\n",
       "...             ...       ...\n",
       "91529      0.120422  0.085416\n",
       "99114      0.112732  0.091209\n",
       "109487     0.117426  0.102603\n",
       "112852     0.102681  0.067698\n",
       "134853     0.103503  0.056642\n",
       "\n",
       "[273 rows x 2 columns]"
      ]
     },
     "execution_count": 22,
     "metadata": {},
     "output_type": "execute_result"
    }
   ],
   "source": [
    "rec_percentages"
   ]
  },
  {
   "cell_type": "code",
   "execution_count": 23,
   "id": "9ae67ba7-7c17-48c3-af67-245658aaf476",
   "metadata": {},
   "outputs": [],
   "source": [
    "# score = ratio of similar:avg users who liked movie\n",
    "rec_percentages['score'] = rec_percentages['similar_ppl'] / rec_percentages['all_ppl']\n",
    "rec_percentages = rec_percentages.sort_values('score', ascending=False)"
   ]
  },
  {
   "cell_type": "code",
   "execution_count": 24,
   "id": "3aaffa93-3e6b-4d0e-88c9-da7f945247e4",
   "metadata": {},
   "outputs": [
    {
     "data": {
      "text/html": [
       "<div>\n",
       "<style scoped>\n",
       "    .dataframe tbody tr th:only-of-type {\n",
       "        vertical-align: middle;\n",
       "    }\n",
       "\n",
       "    .dataframe tbody tr th {\n",
       "        vertical-align: top;\n",
       "    }\n",
       "\n",
       "    .dataframe thead th {\n",
       "        text-align: right;\n",
       "    }\n",
       "</style>\n",
       "<table border=\"1\" class=\"dataframe\">\n",
       "  <thead>\n",
       "    <tr style=\"text-align: right;\">\n",
       "      <th></th>\n",
       "      <th>similar_ppl</th>\n",
       "      <th>all_ppl</th>\n",
       "      <th>score</th>\n",
       "      <th>movieId</th>\n",
       "      <th>title</th>\n",
       "      <th>genres</th>\n",
       "      <th>cleaned_title</th>\n",
       "    </tr>\n",
       "  </thead>\n",
       "  <tbody>\n",
       "    <tr>\n",
       "      <th>0</th>\n",
       "      <td>1.000000</td>\n",
       "      <td>0.235415</td>\n",
       "      <td>4.247819</td>\n",
       "      <td>1</td>\n",
       "      <td>Toy Story (1995)</td>\n",
       "      <td>Adventure|Animation|Children|Comedy|Fantasy</td>\n",
       "      <td>Toy Story 1995</td>\n",
       "    </tr>\n",
       "    <tr>\n",
       "      <th>3021</th>\n",
       "      <td>0.328914</td>\n",
       "      <td>0.102241</td>\n",
       "      <td>3.217054</td>\n",
       "      <td>3114</td>\n",
       "      <td>Toy Story 2 (1999)</td>\n",
       "      <td>Adventure|Animation|Children|Comedy|Fantasy</td>\n",
       "      <td>Toy Story 2 1999</td>\n",
       "    </tr>\n",
       "    <tr>\n",
       "      <th>14813</th>\n",
       "      <td>0.161924</td>\n",
       "      <td>0.057710</td>\n",
       "      <td>2.805840</td>\n",
       "      <td>78499</td>\n",
       "      <td>Toy Story 3 (2010)</td>\n",
       "      <td>Adventure|Animation|Children|Comedy|Fantasy|IMAX</td>\n",
       "      <td>Toy Story 3 2010</td>\n",
       "    </tr>\n",
       "    <tr>\n",
       "      <th>2264</th>\n",
       "      <td>0.191095</td>\n",
       "      <td>0.068978</td>\n",
       "      <td>2.770367</td>\n",
       "      <td>2355</td>\n",
       "      <td>Bug's Life, A (1998)</td>\n",
       "      <td>Adventure|Animation|Children|Comedy</td>\n",
       "      <td>Bugs Life A 1998</td>\n",
       "    </tr>\n",
       "    <tr>\n",
       "      <th>1992</th>\n",
       "      <td>0.120714</td>\n",
       "      <td>0.047128</td>\n",
       "      <td>2.561408</td>\n",
       "      <td>2081</td>\n",
       "      <td>Little Mermaid, The (1989)</td>\n",
       "      <td>Animation|Children|Comedy|Musical|Romance</td>\n",
       "      <td>Little Mermaid The 1989</td>\n",
       "    </tr>\n",
       "    <tr>\n",
       "      <th>1818</th>\n",
       "      <td>0.100772</td>\n",
       "      <td>0.039805</td>\n",
       "      <td>2.531636</td>\n",
       "      <td>1907</td>\n",
       "      <td>Mulan (1998)</td>\n",
       "      <td>Adventure|Animation|Children|Comedy|Drama|Musi...</td>\n",
       "      <td>Mulan 1998</td>\n",
       "    </tr>\n",
       "    <tr>\n",
       "      <th>2669</th>\n",
       "      <td>0.100135</td>\n",
       "      <td>0.039855</td>\n",
       "      <td>2.512494</td>\n",
       "      <td>2761</td>\n",
       "      <td>Iron Giant, The (1999)</td>\n",
       "      <td>Adventure|Animation|Children|Drama|Sci-Fi</td>\n",
       "      <td>Iron Giant The 1999</td>\n",
       "    </tr>\n",
       "    <tr>\n",
       "      <th>1005</th>\n",
       "      <td>0.128060</td>\n",
       "      <td>0.054719</td>\n",
       "      <td>2.340299</td>\n",
       "      <td>1028</td>\n",
       "      <td>Mary Poppins (1964)</td>\n",
       "      <td>Children|Comedy|Fantasy|Musical</td>\n",
       "      <td>Mary Poppins 1964</td>\n",
       "    </tr>\n",
       "    <tr>\n",
       "      <th>1047</th>\n",
       "      <td>0.231801</td>\n",
       "      <td>0.099113</td>\n",
       "      <td>2.338762</td>\n",
       "      <td>1073</td>\n",
       "      <td>Willy Wonka &amp; the Chocolate Factory (1971)</td>\n",
       "      <td>Children|Comedy|Fantasy|Musical</td>\n",
       "      <td>Willy Wonka  the Chocolate Factory 1971</td>\n",
       "    </tr>\n",
       "    <tr>\n",
       "      <th>1249</th>\n",
       "      <td>0.103636</td>\n",
       "      <td>0.044712</td>\n",
       "      <td>2.317855</td>\n",
       "      <td>1282</td>\n",
       "      <td>Fantasia (1940)</td>\n",
       "      <td>Animation|Children|Fantasy|Musical</td>\n",
       "      <td>Fantasia 1940</td>\n",
       "    </tr>\n",
       "  </tbody>\n",
       "</table>\n",
       "</div>"
      ],
      "text/plain": [
       "       similar_ppl   all_ppl     score  movieId  \\\n",
       "0         1.000000  0.235415  4.247819        1   \n",
       "3021      0.328914  0.102241  3.217054     3114   \n",
       "14813     0.161924  0.057710  2.805840    78499   \n",
       "2264      0.191095  0.068978  2.770367     2355   \n",
       "1992      0.120714  0.047128  2.561408     2081   \n",
       "1818      0.100772  0.039805  2.531636     1907   \n",
       "2669      0.100135  0.039855  2.512494     2761   \n",
       "1005      0.128060  0.054719  2.340299     1028   \n",
       "1047      0.231801  0.099113  2.338762     1073   \n",
       "1249      0.103636  0.044712  2.317855     1282   \n",
       "\n",
       "                                            title  \\\n",
       "0                                Toy Story (1995)   \n",
       "3021                           Toy Story 2 (1999)   \n",
       "14813                          Toy Story 3 (2010)   \n",
       "2264                         Bug's Life, A (1998)   \n",
       "1992                   Little Mermaid, The (1989)   \n",
       "1818                                 Mulan (1998)   \n",
       "2669                       Iron Giant, The (1999)   \n",
       "1005                          Mary Poppins (1964)   \n",
       "1047   Willy Wonka & the Chocolate Factory (1971)   \n",
       "1249                              Fantasia (1940)   \n",
       "\n",
       "                                                  genres  \\\n",
       "0            Adventure|Animation|Children|Comedy|Fantasy   \n",
       "3021         Adventure|Animation|Children|Comedy|Fantasy   \n",
       "14813   Adventure|Animation|Children|Comedy|Fantasy|IMAX   \n",
       "2264                 Adventure|Animation|Children|Comedy   \n",
       "1992           Animation|Children|Comedy|Musical|Romance   \n",
       "1818   Adventure|Animation|Children|Comedy|Drama|Musi...   \n",
       "2669           Adventure|Animation|Children|Drama|Sci-Fi   \n",
       "1005                     Children|Comedy|Fantasy|Musical   \n",
       "1047                     Children|Comedy|Fantasy|Musical   \n",
       "1249                  Animation|Children|Fantasy|Musical   \n",
       "\n",
       "                                 cleaned_title  \n",
       "0                               Toy Story 1995  \n",
       "3021                          Toy Story 2 1999  \n",
       "14813                         Toy Story 3 2010  \n",
       "2264                          Bugs Life A 1998  \n",
       "1992                   Little Mermaid The 1989  \n",
       "1818                                Mulan 1998  \n",
       "2669                       Iron Giant The 1999  \n",
       "1005                         Mary Poppins 1964  \n",
       "1047   Willy Wonka  the Chocolate Factory 1971  \n",
       "1249                             Fantasia 1940  "
      ]
     },
     "execution_count": 24,
     "metadata": {},
     "output_type": "execute_result"
    }
   ],
   "source": [
    "# left_index is the movieId\n",
    "rec_percentages.head(10).merge(movies, left_index=True, right_on='movieId')"
   ]
  },
  {
   "cell_type": "markdown",
   "id": "afd824b3-21c9-4d47-8a77-f25e8ad4c154",
   "metadata": {},
   "source": [
    "Not bad! For `Toy Story` we recommended the Toy Story series, Bugs Life, etc."
   ]
  },
  {
   "cell_type": "code",
   "execution_count": 25,
   "id": "1cd24959-66f5-4617-9414-6263de727c0b",
   "metadata": {},
   "outputs": [],
   "source": [
    "def find_similar_movies(movie_id: int, high_rating: int = 4) -> pd.DataFrame:\n",
    "    # find the users that liked the movie being searched for\n",
    "    similar_users = ratings[(ratings[\"movieId\"] == movie_id) & (ratings['rating']>=high_rating)]['userId'].unique()\n",
    "    # find the movies that similar users liked\n",
    "    similar_user_recs = ratings[(ratings['userId'].isin(similar_users)) & (ratings['rating']>=high_rating)]['movieId']\n",
    "\n",
    "    # find the top 10% of movies\n",
    "    similar_user_recs = similar_user_recs.value_counts() / len(similar_users)\n",
    "    similar_user_recs = similar_user_recs[similar_user_recs > 0.1]\n",
    "    \n",
    "    # all users who watched the movie recommended to us\n",
    "    all_users = ratings[(ratings['movieId'].isin(similar_user_recs.index)) & (ratings['rating'] >= high_rating)]\n",
    "    all_user_recs = all_users['movieId'].value_counts()/len(all_users['userId'].unique())\n",
    "    \n",
    "    rec_percentages = pd.concat([similar_user_recs, all_user_recs], axis=1)\n",
    "    rec_percentages.columns = ['similar_ppl','all_ppl']\n",
    "\n",
    "    # score = ratio of similar:avg users who liked movie\n",
    "    rec_percentages['score'] = rec_percentages['similar_ppl'] / rec_percentages['all_ppl']\n",
    "    rec_percentages = rec_percentages.sort_values('score', ascending=False)\n",
    "    \n",
    "    # left_index is the movieId\n",
    "    return rec_percentages.head(10).merge(movies, left_index=True, right_on='movieId')[['score','title','genres']]"
   ]
  },
  {
   "cell_type": "markdown",
   "id": "b8f56d4c-94c1-4e61-b1b1-141129490f26",
   "metadata": {},
   "source": [
    "## Widget"
   ]
  },
  {
   "cell_type": "code",
   "execution_count": 26,
   "id": "68e4fa04-2466-4d57-ac3d-84683a2a9e86",
   "metadata": {},
   "outputs": [],
   "source": [
    "movie_input_name = widgets.Text(\n",
    "    initial_value = 'Toy Story',\n",
    "    description = 'Movie Title:',\n",
    "    disabled=False\n",
    ")"
   ]
  },
  {
   "cell_type": "code",
   "execution_count": 27,
   "id": "c50f8b21-d85d-46ee-877a-1bec0f51f0f1",
   "metadata": {},
   "outputs": [
    {
     "data": {
      "application/vnd.jupyter.widget-view+json": {
       "model_id": "e0b87aaddd7c4adcb925fb1cbb0e939c",
       "version_major": 2,
       "version_minor": 0
      },
      "text/plain": [
       "Text(value='', description='Movie Title:')"
      ]
     },
     "metadata": {},
     "output_type": "display_data"
    },
    {
     "data": {
      "application/vnd.jupyter.widget-view+json": {
       "model_id": "541dd87aa386484aaa05d8b984129086",
       "version_major": 2,
       "version_minor": 0
      },
      "text/plain": [
       "Output()"
      ]
     },
     "metadata": {},
     "output_type": "display_data"
    }
   ],
   "source": [
    "recommendation_list = widgets.Output()\n",
    "\n",
    "def on_type(data):\n",
    "    with recommendation_list:\n",
    "        recommendation_list.clear_output()\n",
    "        title = data['new']\n",
    "        if len(title) > 5:\n",
    "            results = search(title)\n",
    "            movie_id = results.iloc[0]['movieId']\n",
    "            display(find_similar_movies(movie_id))\n",
    "\n",
    "movie_input_name.observe(on_type, names='value')\n",
    "display(movie_input_name, recommendation_list)"
   ]
  },
  {
   "cell_type": "markdown",
   "id": "77676ea8-7876-4a98-a59b-5e576bf1107e",
   "metadata": {
    "user_expressions": []
   },
   "source": [
    "# Adding Tags as a Feature"
   ]
  },
  {
   "cell_type": "code",
   "execution_count": 3,
   "id": "ec27af57-2521-418d-abfb-9ec086dcbfff",
   "metadata": {},
   "outputs": [
    {
     "name": "stdout",
     "output_type": "stream",
     "text": [
      "<class 'pandas.core.frame.DataFrame'>\n",
      "Int64Index: 1093360 entries, 0 to 1093359\n",
      "Data columns (total 5 columns):\n",
      " #   Column     Non-Null Count    Dtype  \n",
      "---  ------     --------------    -----  \n",
      " 0   userId     1093360 non-null  int64  \n",
      " 1   movieId    1093360 non-null  int64  \n",
      " 2   tag        1093344 non-null  object \n",
      " 3   timestamp  1093360 non-null  int64  \n",
      " 4   tagId      501955 non-null   float64\n",
      "dtypes: float64(1), int64(3), object(1)\n",
      "memory usage: 50.1+ MB\n"
     ]
    }
   ],
   "source": [
    "tags = tags.merge(genome_tags, how='left')\n",
    "tags.info()"
   ]
  },
  {
   "cell_type": "code",
   "execution_count": 4,
   "id": "be2c547c-8dc8-4ea4-94ed-3b018e13982c",
   "metadata": {},
   "outputs": [],
   "source": [
    "num_movies = len(tags['movieId'].unique())\n",
    "num_real_movies = len(tags[~tags['tagId'].isna()]['movieId'].unique())"
   ]
  },
  {
   "cell_type": "markdown",
   "id": "efc8fc9d-2eda-44c2-9a72-981a95225c2c",
   "metadata": {
    "tags": [],
    "user_expressions": [
     {
      "expression": " num_movies - num_real_movies ",
      "result": {
       "data": {
        "text/plain": "11436"
       },
       "metadata": {},
       "status": "ok"
      }
     },
     {
      "expression": " num_real_movies ",
      "result": {
       "data": {
        "text/plain": "33815"
       },
       "metadata": {},
       "status": "ok"
      }
     }
    ]
   },
   "source": [
    "By only using movies that are tagged with a tagId, we lose {{ num_movies - num_real_movies }} movies\n",
    "And analyze {{ num_real_movies }} movies"
   ]
  },
  {
   "cell_type": "code",
   "execution_count": 5,
   "id": "3526a7e4-0480-4f4f-a812-ca10b8539a6b",
   "metadata": {},
   "outputs": [],
   "source": [
    "def pick_highest_relevant_tag_score(sub_df: pd.DataFrame) -> pd.DataFrame:\n",
    "    '''\n",
    "    Used for groupby function, returns the row that contains the highest\n",
    "    relevance value (minus movieId column, since groupby function will \n",
    "    make that the index anyways)\n",
    "    '''\n",
    "    sub_df = sub_df.sort_values('relevance', ascending=False)\n",
    "    return sub_df.iloc[0,1:]\n",
    "    "
   ]
  },
  {
   "cell_type": "code",
   "execution_count": 6,
   "id": "e7e8f063-2fc1-4e65-8862-f248047ae6f3",
   "metadata": {},
   "outputs": [],
   "source": [
    "most_relevant_tag = genome_scores.groupby('movieId').apply(pick_highest_relevant_tag_score)\n",
    "most_relevant_tag = most_relevant_tag.reset_index()"
   ]
  },
  {
   "cell_type": "code",
   "execution_count": 7,
   "id": "512cf0d2-fa8d-4064-ba02-2f462045126b",
   "metadata": {},
   "outputs": [
    {
     "data": {
      "text/plain": [
       "True"
      ]
     },
     "execution_count": 7,
     "metadata": {},
     "output_type": "execute_result"
    }
   ],
   "source": [
    "num_unique_tags = len(genome_scores['tagId'].unique())\n",
    "num_movies_tagged = len(genome_scores['movieId'].unique())\n",
    "(genome_scores['movieId'].value_counts() == num_unique_tags).sum() == num_movies_tagged"
   ]
  },
  {
   "cell_type": "code",
   "execution_count": 41,
   "id": "3f3effbb-f2c8-434b-b31a-f66c2f6018c2",
   "metadata": {},
   "outputs": [
    {
     "data": {
      "text/plain": [
       "movieId       1.00000\n",
       "tagId        11.00000\n",
       "relevance     0.58025\n",
       "Name: 10, dtype: float64"
      ]
     },
     "execution_count": 41,
     "metadata": {},
     "output_type": "execute_result"
    }
   ],
   "source": [
    "genome_scores[genome_scores['relevance'] >= 0.5].iloc[0,:]"
   ]
  },
  {
   "cell_type": "code",
   "execution_count": 42,
   "id": "667fab2f-2db3-4c33-b88f-2b7cf0d3cf01",
   "metadata": {},
   "outputs": [
    {
     "data": {
      "text/html": [
       "<div>\n",
       "<style scoped>\n",
       "    .dataframe tbody tr th:only-of-type {\n",
       "        vertical-align: middle;\n",
       "    }\n",
       "\n",
       "    .dataframe tbody tr th {\n",
       "        vertical-align: top;\n",
       "    }\n",
       "\n",
       "    .dataframe thead th {\n",
       "        text-align: right;\n",
       "    }\n",
       "</style>\n",
       "<table border=\"1\" class=\"dataframe\">\n",
       "  <thead>\n",
       "    <tr style=\"text-align: right;\">\n",
       "      <th></th>\n",
       "      <th>movieId</th>\n",
       "      <th>tagId</th>\n",
       "      <th>relevance</th>\n",
       "    </tr>\n",
       "  </thead>\n",
       "  <tbody>\n",
       "    <tr>\n",
       "      <th>10</th>\n",
       "      <td>1</td>\n",
       "      <td>11</td>\n",
       "      <td>0.58025</td>\n",
       "    </tr>\n",
       "    <tr>\n",
       "      <th>18</th>\n",
       "      <td>1</td>\n",
       "      <td>19</td>\n",
       "      <td>0.66250</td>\n",
       "    </tr>\n",
       "    <tr>\n",
       "      <th>28</th>\n",
       "      <td>1</td>\n",
       "      <td>29</td>\n",
       "      <td>0.89375</td>\n",
       "    </tr>\n",
       "    <tr>\n",
       "      <th>29</th>\n",
       "      <td>1</td>\n",
       "      <td>30</td>\n",
       "      <td>0.67625</td>\n",
       "    </tr>\n",
       "    <tr>\n",
       "      <th>60</th>\n",
       "      <td>1</td>\n",
       "      <td>61</td>\n",
       "      <td>0.61750</td>\n",
       "    </tr>\n",
       "    <tr>\n",
       "      <th>...</th>\n",
       "      <td>...</td>\n",
       "      <td>...</td>\n",
       "      <td>...</td>\n",
       "    </tr>\n",
       "    <tr>\n",
       "      <th>15584291</th>\n",
       "      <td>206499</td>\n",
       "      <td>972</td>\n",
       "      <td>0.60600</td>\n",
       "    </tr>\n",
       "    <tr>\n",
       "      <th>15584311</th>\n",
       "      <td>206499</td>\n",
       "      <td>992</td>\n",
       "      <td>0.51225</td>\n",
       "    </tr>\n",
       "    <tr>\n",
       "      <th>15584327</th>\n",
       "      <td>206499</td>\n",
       "      <td>1008</td>\n",
       "      <td>0.52500</td>\n",
       "    </tr>\n",
       "    <tr>\n",
       "      <th>15584333</th>\n",
       "      <td>206499</td>\n",
       "      <td>1014</td>\n",
       "      <td>0.59775</td>\n",
       "    </tr>\n",
       "    <tr>\n",
       "      <th>15584390</th>\n",
       "      <td>206499</td>\n",
       "      <td>1071</td>\n",
       "      <td>0.55975</td>\n",
       "    </tr>\n",
       "  </tbody>\n",
       "</table>\n",
       "<p>615148 rows × 3 columns</p>\n",
       "</div>"
      ],
      "text/plain": [
       "          movieId  tagId  relevance\n",
       "10              1     11    0.58025\n",
       "18              1     19    0.66250\n",
       "28              1     29    0.89375\n",
       "29              1     30    0.67625\n",
       "60              1     61    0.61750\n",
       "...           ...    ...        ...\n",
       "15584291   206499    972    0.60600\n",
       "15584311   206499    992    0.51225\n",
       "15584327   206499   1008    0.52500\n",
       "15584333   206499   1014    0.59775\n",
       "15584390   206499   1071    0.55975\n",
       "\n",
       "[615148 rows x 3 columns]"
      ]
     },
     "execution_count": 42,
     "metadata": {},
     "output_type": "execute_result"
    }
   ],
   "source": [
    "genome_scores[genome_scores['relevance'] >= 0.5]"
   ]
  },
  {
   "cell_type": "code",
   "execution_count": 36,
   "id": "ec4456ea-c2ce-4161-a318-1ede0b5f2648",
   "metadata": {},
   "outputs": [
    {
     "data": {
      "text/html": [
       "<div>\n",
       "<style scoped>\n",
       "    .dataframe tbody tr th:only-of-type {\n",
       "        vertical-align: middle;\n",
       "    }\n",
       "\n",
       "    .dataframe tbody tr th {\n",
       "        vertical-align: top;\n",
       "    }\n",
       "\n",
       "    .dataframe thead th {\n",
       "        text-align: right;\n",
       "    }\n",
       "</style>\n",
       "<table border=\"1\" class=\"dataframe\">\n",
       "  <thead>\n",
       "    <tr style=\"text-align: right;\">\n",
       "      <th></th>\n",
       "      <th>movieId</th>\n",
       "      <th>tagId</th>\n",
       "      <th>relevance</th>\n",
       "    </tr>\n",
       "  </thead>\n",
       "  <tbody>\n",
       "    <tr>\n",
       "      <th>count</th>\n",
       "      <td>15584448.00</td>\n",
       "      <td>15584448.00</td>\n",
       "      <td>15584448.00</td>\n",
       "    </tr>\n",
       "    <tr>\n",
       "      <th>mean</th>\n",
       "      <td>46022.49</td>\n",
       "      <td>564.50</td>\n",
       "      <td>0.12</td>\n",
       "    </tr>\n",
       "    <tr>\n",
       "      <th>std</th>\n",
       "      <td>55352.21</td>\n",
       "      <td>325.63</td>\n",
       "      <td>0.15</td>\n",
       "    </tr>\n",
       "    <tr>\n",
       "      <th>min</th>\n",
       "      <td>1.00</td>\n",
       "      <td>1.00</td>\n",
       "      <td>0.00</td>\n",
       "    </tr>\n",
       "    <tr>\n",
       "      <th>25%</th>\n",
       "      <td>3853.75</td>\n",
       "      <td>282.75</td>\n",
       "      <td>0.02</td>\n",
       "    </tr>\n",
       "    <tr>\n",
       "      <th>50%</th>\n",
       "      <td>8575.50</td>\n",
       "      <td>564.50</td>\n",
       "      <td>0.06</td>\n",
       "    </tr>\n",
       "    <tr>\n",
       "      <th>75%</th>\n",
       "      <td>80186.50</td>\n",
       "      <td>846.25</td>\n",
       "      <td>0.14</td>\n",
       "    </tr>\n",
       "    <tr>\n",
       "      <th>max</th>\n",
       "      <td>206499.00</td>\n",
       "      <td>1128.00</td>\n",
       "      <td>1.00</td>\n",
       "    </tr>\n",
       "  </tbody>\n",
       "</table>\n",
       "</div>"
      ],
      "text/plain": [
       "           movieId        tagId    relevance\n",
       "count  15584448.00  15584448.00  15584448.00\n",
       "mean      46022.49       564.50         0.12\n",
       "std       55352.21       325.63         0.15\n",
       "min           1.00         1.00         0.00\n",
       "25%        3853.75       282.75         0.02\n",
       "50%        8575.50       564.50         0.06\n",
       "75%       80186.50       846.25         0.14\n",
       "max      206499.00      1128.00         1.00"
      ]
     },
     "execution_count": 36,
     "metadata": {},
     "output_type": "execute_result"
    }
   ],
   "source": [
    "genome_scores.describe().round(2)"
   ]
  },
  {
   "cell_type": "code",
   "execution_count": 34,
   "id": "1c639b5e-fd51-4a16-90ce-b9b6c726a1fd",
   "metadata": {},
   "outputs": [
    {
     "data": {
      "text/html": [
       "<div>\n",
       "<style scoped>\n",
       "    .dataframe tbody tr th:only-of-type {\n",
       "        vertical-align: middle;\n",
       "    }\n",
       "\n",
       "    .dataframe tbody tr th {\n",
       "        vertical-align: top;\n",
       "    }\n",
       "\n",
       "    .dataframe thead th {\n",
       "        text-align: right;\n",
       "    }\n",
       "</style>\n",
       "<table border=\"1\" class=\"dataframe\">\n",
       "  <thead>\n",
       "    <tr style=\"text-align: right;\">\n",
       "      <th></th>\n",
       "      <th>movieId</th>\n",
       "      <th>tagId</th>\n",
       "      <th>relevance</th>\n",
       "      <th>title</th>\n",
       "      <th>genres</th>\n",
       "    </tr>\n",
       "  </thead>\n",
       "  <tbody>\n",
       "    <tr>\n",
       "      <th>15584061</th>\n",
       "      <td>206499</td>\n",
       "      <td>742</td>\n",
       "      <td>0.88600</td>\n",
       "      <td>Between Two Ferns: The Movie (2019)</td>\n",
       "      <td>Comedy</td>\n",
       "    </tr>\n",
       "    <tr>\n",
       "      <th>15584096</th>\n",
       "      <td>206499</td>\n",
       "      <td>777</td>\n",
       "      <td>0.80825</td>\n",
       "      <td>Between Two Ferns: The Movie (2019)</td>\n",
       "      <td>Comedy</td>\n",
       "    </tr>\n",
       "    <tr>\n",
       "      <th>15583922</th>\n",
       "      <td>206499</td>\n",
       "      <td>603</td>\n",
       "      <td>0.76725</td>\n",
       "      <td>Between Two Ferns: The Movie (2019)</td>\n",
       "      <td>Comedy</td>\n",
       "    </tr>\n",
       "    <tr>\n",
       "      <th>15584174</th>\n",
       "      <td>206499</td>\n",
       "      <td>855</td>\n",
       "      <td>0.75850</td>\n",
       "      <td>Between Two Ferns: The Movie (2019)</td>\n",
       "      <td>Comedy</td>\n",
       "    </tr>\n",
       "    <tr>\n",
       "      <th>15584120</th>\n",
       "      <td>206499</td>\n",
       "      <td>801</td>\n",
       "      <td>0.74475</td>\n",
       "      <td>Between Two Ferns: The Movie (2019)</td>\n",
       "      <td>Comedy</td>\n",
       "    </tr>\n",
       "    <tr>\n",
       "      <th>...</th>\n",
       "      <td>...</td>\n",
       "      <td>...</td>\n",
       "      <td>...</td>\n",
       "      <td>...</td>\n",
       "      <td>...</td>\n",
       "    </tr>\n",
       "    <tr>\n",
       "      <th>118</th>\n",
       "      <td>1</td>\n",
       "      <td>119</td>\n",
       "      <td>0.00375</td>\n",
       "      <td>Toy Story (1995)</td>\n",
       "      <td>Adventure|Animation|Children|Comedy|Fantasy</td>\n",
       "    </tr>\n",
       "    <tr>\n",
       "      <th>975</th>\n",
       "      <td>1</td>\n",
       "      <td>976</td>\n",
       "      <td>0.00325</td>\n",
       "      <td>Toy Story (1995)</td>\n",
       "      <td>Adventure|Animation|Children|Comedy|Fantasy</td>\n",
       "    </tr>\n",
       "    <tr>\n",
       "      <th>488</th>\n",
       "      <td>1</td>\n",
       "      <td>489</td>\n",
       "      <td>0.00275</td>\n",
       "      <td>Toy Story (1995)</td>\n",
       "      <td>Adventure|Animation|Children|Comedy|Fantasy</td>\n",
       "    </tr>\n",
       "    <tr>\n",
       "      <th>1001</th>\n",
       "      <td>1</td>\n",
       "      <td>1002</td>\n",
       "      <td>0.00275</td>\n",
       "      <td>Toy Story (1995)</td>\n",
       "      <td>Adventure|Animation|Children|Comedy|Fantasy</td>\n",
       "    </tr>\n",
       "    <tr>\n",
       "      <th>1068</th>\n",
       "      <td>1</td>\n",
       "      <td>1069</td>\n",
       "      <td>0.00275</td>\n",
       "      <td>Toy Story (1995)</td>\n",
       "      <td>Adventure|Animation|Children|Comedy|Fantasy</td>\n",
       "    </tr>\n",
       "  </tbody>\n",
       "</table>\n",
       "<p>15584448 rows × 5 columns</p>\n",
       "</div>"
      ],
      "text/plain": [
       "          movieId  tagId  relevance                                title  \\\n",
       "15584061   206499    742    0.88600  Between Two Ferns: The Movie (2019)   \n",
       "15584096   206499    777    0.80825  Between Two Ferns: The Movie (2019)   \n",
       "15583922   206499    603    0.76725  Between Two Ferns: The Movie (2019)   \n",
       "15584174   206499    855    0.75850  Between Two Ferns: The Movie (2019)   \n",
       "15584120   206499    801    0.74475  Between Two Ferns: The Movie (2019)   \n",
       "...           ...    ...        ...                                  ...   \n",
       "118             1    119    0.00375                     Toy Story (1995)   \n",
       "975             1    976    0.00325                     Toy Story (1995)   \n",
       "488             1    489    0.00275                     Toy Story (1995)   \n",
       "1001            1   1002    0.00275                     Toy Story (1995)   \n",
       "1068            1   1069    0.00275                     Toy Story (1995)   \n",
       "\n",
       "                                               genres  \n",
       "15584061                                       Comedy  \n",
       "15584096                                       Comedy  \n",
       "15583922                                       Comedy  \n",
       "15584174                                       Comedy  \n",
       "15584120                                       Comedy  \n",
       "...                                               ...  \n",
       "118       Adventure|Animation|Children|Comedy|Fantasy  \n",
       "975       Adventure|Animation|Children|Comedy|Fantasy  \n",
       "488       Adventure|Animation|Children|Comedy|Fantasy  \n",
       "1001      Adventure|Animation|Children|Comedy|Fantasy  \n",
       "1068      Adventure|Animation|Children|Comedy|Fantasy  \n",
       "\n",
       "[15584448 rows x 5 columns]"
      ]
     },
     "execution_count": 34,
     "metadata": {},
     "output_type": "execute_result"
    }
   ],
   "source": [
    "genome_scores.merge(movies).sort_values(['movieId', 'relevance'], ascending=False)"
   ]
  },
  {
   "cell_type": "code",
   "execution_count": null,
   "id": "b3e585f4-9343-41db-b167-d75639ee3930",
   "metadata": {},
   "outputs": [],
   "source": []
  }
 ],
 "metadata": {
  "kernelspec": {
   "display_name": "Data Env",
   "language": "python",
   "name": "data_env"
  },
  "language_info": {
   "codemirror_mode": {
    "name": "ipython",
    "version": 3
   },
   "file_extension": ".py",
   "mimetype": "text/x-python",
   "name": "python",
   "nbconvert_exporter": "python",
   "pygments_lexer": "ipython3",
   "version": "3.8.8"
  },
  "widgets": {
   "application/vnd.jupyter.widget-state+json": {
    "state": {},
    "version_major": 2,
    "version_minor": 0
   }
  }
 },
 "nbformat": 4,
 "nbformat_minor": 5
}
