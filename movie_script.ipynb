{
 "cells": [
  {
   "cell_type": "markdown",
   "id": "86873dd6-a225-46c6-9963-cc40a4d1ab49",
   "metadata": {
    "user_expressions": []
   },
   "source": [
    "# Movie Recommendation Engine"
   ]
  },
  {
   "cell_type": "markdown",
   "id": "b3256dd7-a845-4218-8e30-9cff76a518b9",
   "metadata": {
    "user_expressions": []
   },
   "source": [
    "Started as a follow-along project with [Dataquest's walkthrough](https://www.youtube.com/watch?v=eyEabQRBMQA), and ended up being a more fleshed out personal project."
   ]
  },
  {
   "cell_type": "code",
   "execution_count": 1,
   "id": "88a9848a-3d0e-4baf-b33b-ecfbe80fd416",
   "metadata": {},
   "outputs": [],
   "source": [
    "import pandas as pd\n",
    "import numpy as np\n",
    "import sqlalchemy as sq\n",
    "\n",
    "import matplotlib.pyplot as plt\n",
    "import seaborn as sns\n",
    "\n",
    "import re"
   ]
  },
  {
   "cell_type": "code",
   "execution_count": 2,
   "id": "d2f35e80-0003-4fd6-a2e3-9abc9747be51",
   "metadata": {},
   "outputs": [],
   "source": [
    "def load_data(table_name: str) -> pd.DataFrame:\n",
    "    '''\n",
    "    Loads table from the movie_data sqlite database\n",
    "    '''\n",
    "    engine = sq.create_engine(\"sqlite:///data/movie_data.sql\")\n",
    "    with engine.connect() as cnx:\n",
    "        return pd.read_sql(table_name, cnx)"
   ]
  },
  {
   "cell_type": "code",
   "execution_count": 3,
   "id": "bee91770-dd9a-49cb-a0c6-35bfe31dd5fd",
   "metadata": {},
   "outputs": [],
   "source": [
    "def save_data(dataset: pd.DataFrame, table_name: str, if_exists: str = 'fail', index: bool = False) -> bool:\n",
    "    '''\n",
    "    Saves dataframe to the movie_data sqlite database\n",
    "    '''\n",
    "    engine = sq.create_engine(\"sqlite:///data/movie_data.sql\")\n",
    "    try:\n",
    "        with engine.connect() as cnx:\n",
    "            dataset.to_sql(name=table_name, con=cnx, if_exists=if_exists, index=index)\n",
    "            return True\n",
    "    except:\n",
    "        print(\"Does this table already exist in movie_data.sql?\")\n",
    "        return False"
   ]
  },
  {
   "cell_type": "code",
   "execution_count": 4,
   "id": "65aa4b04-9149-431a-ba8b-54805edf9215",
   "metadata": {},
   "outputs": [],
   "source": [
    "def clean_title(title: str) -> str:\n",
    "    '''\n",
    "    Keeps only letters, numbers, whitespaces. \n",
    "    Replaces everything else with nothing.\n",
    "    '''\n",
    "    return re.sub(\"[^a-zA-Z0-9 ]\", \"\", title)"
   ]
  },
  {
   "cell_type": "code",
   "execution_count": 5,
   "id": "0a705da1-b926-4c37-9836-70aee26a5c9f",
   "metadata": {},
   "outputs": [],
   "source": [
    "def clean_genre(genre: str) -> list:\n",
    "    '''\n",
    "    Cleans the movies dataset genre columns so we can get a list of unique genres\n",
    "    '''\n",
    "    if '(' not in genre:\n",
    "        genre_list = genre.split('|')\n",
    "        return genre_list\n",
    "    else:\n",
    "        return ['None']"
   ]
  },
  {
   "cell_type": "code",
   "execution_count": 6,
   "id": "3a2b5ccf-7dc8-4f15-b8a4-01e83230306e",
   "metadata": {},
   "outputs": [],
   "source": [
    "movies = load_data('movies')\n",
    "ratings = pd.read_csv(\"data/ratings.csv\")\n",
    "\n",
    "links = load_data('links')\n",
    "tags = load_data('tags')\n",
    "genome_scores = pd.read_csv('data/genome-scores.csv')\n",
    "genome_tags = load_data('genome_tags')"
   ]
  },
  {
   "cell_type": "code",
   "execution_count": 7,
   "id": "6a7f7dd4",
   "metadata": {},
   "outputs": [
    {
     "data": {
      "text/html": [
       "<div>\n",
       "<style scoped>\n",
       "    .dataframe tbody tr th:only-of-type {\n",
       "        vertical-align: middle;\n",
       "    }\n",
       "\n",
       "    .dataframe tbody tr th {\n",
       "        vertical-align: top;\n",
       "    }\n",
       "\n",
       "    .dataframe thead th {\n",
       "        text-align: right;\n",
       "    }\n",
       "</style>\n",
       "<table border=\"1\" class=\"dataframe\">\n",
       "  <thead>\n",
       "    <tr style=\"text-align: right;\">\n",
       "      <th></th>\n",
       "      <th>userId</th>\n",
       "      <th>rating</th>\n",
       "      <th>timestamp</th>\n",
       "    </tr>\n",
       "    <tr>\n",
       "      <th>movieId</th>\n",
       "      <th></th>\n",
       "      <th></th>\n",
       "      <th></th>\n",
       "    </tr>\n",
       "  </thead>\n",
       "  <tbody>\n",
       "    <tr>\n",
       "      <th>1</th>\n",
       "      <td>81294.564728</td>\n",
       "      <td>3.893708</td>\n",
       "      <td>1.153152e+09</td>\n",
       "    </tr>\n",
       "    <tr>\n",
       "      <th>2</th>\n",
       "      <td>81358.542554</td>\n",
       "      <td>3.251527</td>\n",
       "      <td>1.122310e+09</td>\n",
       "    </tr>\n",
       "    <tr>\n",
       "      <th>3</th>\n",
       "      <td>81343.694934</td>\n",
       "      <td>3.142028</td>\n",
       "      <td>9.806023e+08</td>\n",
       "    </tr>\n",
       "    <tr>\n",
       "      <th>4</th>\n",
       "      <td>81266.193024</td>\n",
       "      <td>2.853547</td>\n",
       "      <td>9.424605e+08</td>\n",
       "    </tr>\n",
       "  </tbody>\n",
       "</table>\n",
       "</div>"
      ],
      "text/plain": [
       "               userId    rating     timestamp\n",
       "movieId                                      \n",
       "1        81294.564728  3.893708  1.153152e+09\n",
       "2        81358.542554  3.251527  1.122310e+09\n",
       "3        81343.694934  3.142028  9.806023e+08\n",
       "4        81266.193024  2.853547  9.424605e+08"
      ]
     },
     "execution_count": 7,
     "metadata": {},
     "output_type": "execute_result"
    }
   ],
   "source": [
    "ratings[ratings['movieId'].isin([1,2,3,4])].groupby('movieId').mean()"
   ]
  },
  {
   "cell_type": "code",
   "execution_count": 8,
   "id": "9abb5d19-8210-4fb1-9f5b-667f2667cbc8",
   "metadata": {},
   "outputs": [
    {
     "data": {
      "text/html": [
       "<div>\n",
       "<style scoped>\n",
       "    .dataframe tbody tr th:only-of-type {\n",
       "        vertical-align: middle;\n",
       "    }\n",
       "\n",
       "    .dataframe tbody tr th {\n",
       "        vertical-align: top;\n",
       "    }\n",
       "\n",
       "    .dataframe thead th {\n",
       "        text-align: right;\n",
       "    }\n",
       "</style>\n",
       "<table border=\"1\" class=\"dataframe\">\n",
       "  <thead>\n",
       "    <tr style=\"text-align: right;\">\n",
       "      <th></th>\n",
       "      <th>movieId</th>\n",
       "      <th>title</th>\n",
       "      <th>genres</th>\n",
       "      <th>cleaned_title</th>\n",
       "    </tr>\n",
       "  </thead>\n",
       "  <tbody>\n",
       "    <tr>\n",
       "      <th>0</th>\n",
       "      <td>1</td>\n",
       "      <td>Toy Story (1995)</td>\n",
       "      <td>Adventure|Animation|Children|Comedy|Fantasy</td>\n",
       "      <td>Toy Story 1995</td>\n",
       "    </tr>\n",
       "    <tr>\n",
       "      <th>1</th>\n",
       "      <td>2</td>\n",
       "      <td>Jumanji (1995)</td>\n",
       "      <td>Adventure|Children|Fantasy</td>\n",
       "      <td>Jumanji 1995</td>\n",
       "    </tr>\n",
       "    <tr>\n",
       "      <th>2</th>\n",
       "      <td>3</td>\n",
       "      <td>Grumpier Old Men (1995)</td>\n",
       "      <td>Comedy|Romance</td>\n",
       "      <td>Grumpier Old Men 1995</td>\n",
       "    </tr>\n",
       "    <tr>\n",
       "      <th>3</th>\n",
       "      <td>4</td>\n",
       "      <td>Waiting to Exhale (1995)</td>\n",
       "      <td>Comedy|Drama|Romance</td>\n",
       "      <td>Waiting to Exhale 1995</td>\n",
       "    </tr>\n",
       "    <tr>\n",
       "      <th>4</th>\n",
       "      <td>5</td>\n",
       "      <td>Father of the Bride Part II (1995)</td>\n",
       "      <td>Comedy</td>\n",
       "      <td>Father of the Bride Part II 1995</td>\n",
       "    </tr>\n",
       "  </tbody>\n",
       "</table>\n",
       "</div>"
      ],
      "text/plain": [
       "   movieId                               title  \\\n",
       "0        1                    Toy Story (1995)   \n",
       "1        2                      Jumanji (1995)   \n",
       "2        3             Grumpier Old Men (1995)   \n",
       "3        4            Waiting to Exhale (1995)   \n",
       "4        5  Father of the Bride Part II (1995)   \n",
       "\n",
       "                                        genres  \\\n",
       "0  Adventure|Animation|Children|Comedy|Fantasy   \n",
       "1                   Adventure|Children|Fantasy   \n",
       "2                               Comedy|Romance   \n",
       "3                         Comedy|Drama|Romance   \n",
       "4                                       Comedy   \n",
       "\n",
       "                      cleaned_title  \n",
       "0                    Toy Story 1995  \n",
       "1                      Jumanji 1995  \n",
       "2             Grumpier Old Men 1995  \n",
       "3            Waiting to Exhale 1995  \n",
       "4  Father of the Bride Part II 1995  "
      ]
     },
     "execution_count": 8,
     "metadata": {},
     "output_type": "execute_result"
    }
   ],
   "source": [
    "movies['cleaned_title'] = movies['title'].apply(clean_title)\n",
    "movies.head()"
   ]
  },
  {
   "cell_type": "markdown",
   "id": "ad2f1fc8-383c-4eea-a15c-dd890c17ee25",
   "metadata": {
    "user_expressions": []
   },
   "source": [
    "# Search Engine"
   ]
  },
  {
   "cell_type": "markdown",
   "id": "56919696-df6a-4b80-bd68-4ee7168f5b56",
   "metadata": {
    "user_expressions": []
   },
   "source": [
    "Converting words into numbers:\n",
    "\n",
    "1. Term frequency: get frequency of words in title\n",
    "1. Inverse document frequency: helps search engine find unique terms (the is in a lot of title, but harry is not)\n",
    "1. Tf\\*Idf: Get a vector for each movie\n",
    "\n",
    "Search:\n",
    "\n",
    "1. Convert search text into into numbers like above\n",
    "1. Find row with the most number of matches via similarity"
   ]
  },
  {
   "cell_type": "code",
   "execution_count": 9,
   "id": "1a12fd72-2e2b-490b-ab18-78b2b20820a2",
   "metadata": {},
   "outputs": [],
   "source": [
    "from sklearn.feature_extraction.text import TfidfVectorizer"
   ]
  },
  {
   "cell_type": "code",
   "execution_count": 10,
   "id": "e171cf0a",
   "metadata": {},
   "outputs": [],
   "source": [
    "tags = tags.dropna()"
   ]
  },
  {
   "cell_type": "code",
   "execution_count": 11,
   "id": "2e743f09",
   "metadata": {},
   "outputs": [],
   "source": [
    "vectorizer = TfidfVectorizer(ngram_range=(1,2))\n",
    "tfidf = vectorizer.fit_transform(tags['tag'])"
   ]
  },
  {
   "cell_type": "code",
   "execution_count": 12,
   "id": "2b2a8e98",
   "metadata": {},
   "outputs": [
    {
     "data": {
      "text/plain": [
       "<1093344x97929 sparse matrix of type '<class 'numpy.float64'>'\n",
       "\twith 2415931 stored elements in Compressed Sparse Row format>"
      ]
     },
     "execution_count": 12,
     "metadata": {},
     "output_type": "execute_result"
    }
   ],
   "source": [
    "tfidf"
   ]
  },
  {
   "cell_type": "code",
   "execution_count": 13,
   "id": "1490a4c3-e927-413e-b0e8-66192cb8b3d7",
   "metadata": {},
   "outputs": [],
   "source": [
    "# ngrams: number of words to search for together\n",
    "# ex: Toy Story 1995: \"toy\", \"story\", \"1995\"; \"toy story\", \"story 1995\"\n",
    "vectorizer = TfidfVectorizer(ngram_range=(1,2))\n",
    "tfidf = vectorizer.fit_transform(movies['cleaned_title'])"
   ]
  },
  {
   "cell_type": "code",
   "execution_count": 14,
   "id": "76f1bd71-74f2-4a0a-815a-da820917db2b",
   "metadata": {},
   "outputs": [],
   "source": [
    "from sklearn.metrics.pairwise import cosine_similarity\n",
    "\n",
    "def search(title: str, dataframe: pd.DataFrame, tfidf) -> pd.DataFrame:\n",
    "    '''\n",
    "    Turns search term into a vectory, resulting top 5 results\n",
    "    '''\n",
    "    title = clean_title(title)\n",
    "    query_vec = vectorizer.transform([title])\n",
    "    # returns how similar search title is to each title\n",
    "    similarity = cosine_similarity(query_vec, tfidf).flatten()\n",
    "    dataframe_cp = dataframe.copy()\n",
    "    # find the 5 most similar titles by idx, in asc order\n",
    "    # kinda like df['col'].sort_values(ascending=False).loc[:-5]\n",
    "    indices = np.argpartition(similarity, -5)[-5:]\n",
    "    dataframe_cp['similarity'] = similarity\n",
    "    results = dataframe_cp.iloc[indices][::-1] # return with most similar up top\n",
    "    return results"
   ]
  },
  {
   "cell_type": "code",
   "execution_count": 15,
   "id": "2f78888f",
   "metadata": {},
   "outputs": [],
   "source": [
    "def check_genre(value: str, genre_list: list) -> bool:\n",
    "    '''\n",
    "    Returns true if any of genre from list is also in the given string.\n",
    "    '''\n",
    "    bool_list = [True if genre in value else False for genre in genre_list]\n",
    "    if sum(bool_list) > 0:\n",
    "        return True\n",
    "    else: \n",
    "        return False"
   ]
  },
  {
   "cell_type": "markdown",
   "id": "6a390c14-574a-4e26-991b-f920b039bc09",
   "metadata": {
    "user_expressions": []
   },
   "source": [
    "## Search Box"
   ]
  },
  {
   "cell_type": "code",
   "execution_count": 17,
   "id": "9f34e7b5-ff29-4d61-91db-3d851b3f4dfa",
   "metadata": {},
   "outputs": [],
   "source": [
    "import ipywidgets as widgets\n",
    "from IPython.display import display"
   ]
  },
  {
   "cell_type": "code",
   "execution_count": 18,
   "id": "ed8fa378-34da-48e2-aceb-456afca998b5",
   "metadata": {},
   "outputs": [
    {
     "data": {
      "application/vnd.jupyter.widget-view+json": {
       "model_id": "deba430cf133491d94c634505dc531e8",
       "version_major": 2,
       "version_minor": 0
      },
      "text/plain": [
       "Text(value='Toy Story', description='Movie Title:')"
      ]
     },
     "metadata": {},
     "output_type": "display_data"
    },
    {
     "data": {
      "application/vnd.jupyter.widget-view+json": {
       "model_id": "c9357435410549b3b54c9cbc360bf4b7",
       "version_major": 2,
       "version_minor": 0
      },
      "text/plain": [
       "Output()"
      ]
     },
     "metadata": {},
     "output_type": "display_data"
    }
   ],
   "source": [
    "movie_input = widgets.Text(\n",
    "    value=\"Toy Story\",\n",
    "    description=\"Movie Title:\",\n",
    "    disabled=False\n",
    ")\n",
    "movie_list = widgets.Output()\n",
    "\n",
    "def on_type(data):\n",
    "    with movie_list:\n",
    "        movie_list.clear_output()\n",
    "        title = data[\"new\"]\n",
    "        if len(title) > 5:\n",
    "            display(search(title))\n",
    "\n",
    "movie_input.observe(on_type,names='value')\n",
    "display(movie_input, movie_list)"
   ]
  },
  {
   "cell_type": "markdown",
   "id": "e17e2977-6cc1-4a6a-80bd-95fd7904b709",
   "metadata": {
    "user_expressions": []
   },
   "source": [
    "# Recommendation Engine"
   ]
  },
  {
   "cell_type": "markdown",
   "id": "818e97d3-5536-4a93-bc9a-17a6c762a0ac",
   "metadata": {
    "user_expressions": []
   },
   "source": [
    "1. Find all users who liked the search title\n",
    "1. Find the other movies that those users liked"
   ]
  },
  {
   "cell_type": "code",
   "execution_count": 19,
   "id": "897481de-8867-4646-b029-e9d1aa9ced89",
   "metadata": {},
   "outputs": [
    {
     "data": {
      "text/plain": [
       "userId         int64\n",
       "movieId        int64\n",
       "rating       float64\n",
       "timestamp      int64\n",
       "dtype: object"
      ]
     },
     "execution_count": 19,
     "metadata": {},
     "output_type": "execute_result"
    }
   ],
   "source": [
    "ratings.dtypes"
   ]
  },
  {
   "cell_type": "code",
   "execution_count": 20,
   "id": "495d8001-5548-433f-b2a3-8df33d295b10",
   "metadata": {},
   "outputs": [],
   "source": [
    "movie_id = 1\n",
    "high_rating = 4"
   ]
  },
  {
   "cell_type": "code",
   "execution_count": 21,
   "id": "b0ad1563-bbd8-4ed0-985b-c00af45c3d91",
   "metadata": {},
   "outputs": [],
   "source": [
    "# find the users that liked the movie being searched for\n",
    "similar_users = ratings[(ratings[\"movieId\"] == movie_id) & (ratings['rating']>=high_rating)]['userId'].unique()\n",
    "\n",
    "# find the movies that similar users liked\n",
    "similar_user_recs = ratings[(ratings['userId'].isin(similar_users)) & (ratings['rating']>=high_rating)]['movieId']"
   ]
  },
  {
   "cell_type": "code",
   "execution_count": 22,
   "id": "176d7bbc-316f-4d76-8bb7-365d7e2c99d7",
   "metadata": {},
   "outputs": [
    {
     "data": {
      "text/plain": [
       "array([     3,      5,      8, ..., 162530, 162533, 162534])"
      ]
     },
     "execution_count": 22,
     "metadata": {},
     "output_type": "execute_result"
    }
   ],
   "source": [
    "similar_users"
   ]
  },
  {
   "cell_type": "code",
   "execution_count": 23,
   "id": "2926a1c8",
   "metadata": {},
   "outputs": [],
   "source": [
    "def negative_bold(val):\n",
    "\n",
    "\n",
    "    bold = 'bold' if val < 0 else ''\n",
    "\n",
    "\n",
    "    return 'font-weight: %s' % bold"
   ]
  },
  {
   "cell_type": "code",
   "execution_count": 24,
   "id": "be71157e",
   "metadata": {},
   "outputs": [],
   "source": [
    "from typing import List\n",
    "\n",
    "def extract_string(my_string: str, terms_to_extract: List[str]) -> str:\n",
    "    new_string = ''\n",
    "    my_list = my_string.split('|')\n",
    "    for term in terms_to_extract:\n",
    "        if term.strip() in my_list:\n",
    "            new_string += f\"{term.strip()}|\"\n",
    "    return new_string"
   ]
  },
  {
   "cell_type": "code",
   "execution_count": 25,
   "id": "825faca4",
   "metadata": {},
   "outputs": [
    {
     "data": {
      "text/plain": [
       "'i|groot|'"
      ]
     },
     "execution_count": 25,
     "metadata": {},
     "output_type": "execute_result"
    }
   ],
   "source": [
    "extract_string('i|am|groot', ['i', 'groot'])"
   ]
  },
  {
   "cell_type": "code",
   "execution_count": 26,
   "id": "6dcc8a14-05cf-46ce-838c-c07f439e0771",
   "metadata": {},
   "outputs": [
    {
     "data": {
      "text/plain": [
       "1       1.000000\n",
       "318     0.549604\n",
       "260     0.531518\n",
       "356     0.517224\n",
       "296     0.495744\n",
       "          ...   \n",
       "235     0.101249\n",
       "1242    0.100931\n",
       "1907    0.100772\n",
       "3527    0.100613\n",
       "2761    0.100135\n",
       "Name: movieId, Length: 273, dtype: float64"
      ]
     },
     "execution_count": 26,
     "metadata": {},
     "output_type": "execute_result"
    }
   ],
   "source": [
    "# find the top 10% of movies\n",
    "similar_user_recs = similar_user_recs.value_counts() / len(similar_users)\n",
    "similar_user_recs = similar_user_recs[similar_user_recs > 0.1]\n",
    "similar_user_recs"
   ]
  },
  {
   "cell_type": "code",
   "execution_count": 27,
   "id": "9a671b6a-0f94-4808-bb36-29be70321c4b",
   "metadata": {},
   "outputs": [],
   "source": [
    "# find what percent of people not similar to us liked these movies\n",
    "# if normies like what i like, its highly likely the \"similar users\" liked my\n",
    "# movie because everyone liked it"
   ]
  },
  {
   "cell_type": "code",
   "execution_count": 28,
   "id": "265bf9a8-d3b6-4e9a-ac83-461363cc3de7",
   "metadata": {},
   "outputs": [],
   "source": [
    "# all users who watched the movie recommended to us\n",
    "all_users = ratings[(ratings['movieId'].isin(similar_user_recs.index)) & (ratings['rating'] >= high_rating)]"
   ]
  },
  {
   "cell_type": "code",
   "execution_count": 29,
   "id": "40cb2dfd-8d37-4724-91bb-fa55675b468c",
   "metadata": {},
   "outputs": [],
   "source": [
    "# all users who watched the movie recommended to us\n",
    "all_users = ratings[(ratings['movieId'].isin(similar_user_recs.index)) & (ratings['rating'] >= high_rating)]\n",
    "all_user_recs = all_users['movieId'].value_counts()/len(all_users['userId'].unique())"
   ]
  },
  {
   "cell_type": "markdown",
   "id": "1336d3b3-78b8-4983-9841-19a4b3af47f7",
   "metadata": {
    "tags": [],
    "user_expressions": []
   },
   "source": [
    "We need to find a movie where:\n",
    "\n",
    "1. Everyone who liked search_term, also liked rec_term\n",
    "1. Only X% (40%, ex) of those who liked rec_term also liked search_term"
   ]
  },
  {
   "cell_type": "code",
   "execution_count": 30,
   "id": "95a52ff2-20be-4dae-82da-0b612b5d563a",
   "metadata": {},
   "outputs": [
    {
     "data": {
      "text/plain": [
       "318     0.440215\n",
       "296     0.389659\n",
       "356     0.367553\n",
       "593     0.361897\n",
       "2571    0.347994\n",
       "          ...   \n",
       "3175    0.049325\n",
       "2081    0.047128\n",
       "1282    0.044712\n",
       "2761    0.039855\n",
       "1907    0.039805\n",
       "Name: movieId, Length: 273, dtype: float64"
      ]
     },
     "execution_count": 30,
     "metadata": {},
     "output_type": "execute_result"
    }
   ],
   "source": [
    "# percent of all users who liked the given movie\n",
    "all_user_recs"
   ]
  },
  {
   "cell_type": "code",
   "execution_count": 31,
   "id": "5f19573a-2c57-4876-b566-df85b4b19ada",
   "metadata": {},
   "outputs": [],
   "source": [
    "rec_percentages = pd.concat([similar_user_recs, all_user_recs], axis=1)\n",
    "rec_percentages.columns = ['similar_ppl','all_ppl']"
   ]
  },
  {
   "cell_type": "code",
   "execution_count": 32,
   "id": "8f4b87d8-6b36-4627-a75e-d5feabdc4ca0",
   "metadata": {},
   "outputs": [
    {
     "data": {
      "text/html": [
       "<div>\n",
       "<style scoped>\n",
       "    .dataframe tbody tr th:only-of-type {\n",
       "        vertical-align: middle;\n",
       "    }\n",
       "\n",
       "    .dataframe tbody tr th {\n",
       "        vertical-align: top;\n",
       "    }\n",
       "\n",
       "    .dataframe thead th {\n",
       "        text-align: right;\n",
       "    }\n",
       "</style>\n",
       "<table border=\"1\" class=\"dataframe\">\n",
       "  <thead>\n",
       "    <tr style=\"text-align: right;\">\n",
       "      <th></th>\n",
       "      <th>similar_ppl</th>\n",
       "      <th>all_ppl</th>\n",
       "    </tr>\n",
       "  </thead>\n",
       "  <tbody>\n",
       "    <tr>\n",
       "      <th>1</th>\n",
       "      <td>1.000000</td>\n",
       "      <td>0.235415</td>\n",
       "    </tr>\n",
       "    <tr>\n",
       "      <th>2</th>\n",
       "      <td>0.105598</td>\n",
       "      <td>0.051667</td>\n",
       "    </tr>\n",
       "    <tr>\n",
       "      <th>6</th>\n",
       "      <td>0.162879</td>\n",
       "      <td>0.097377</td>\n",
       "    </tr>\n",
       "    <tr>\n",
       "      <th>10</th>\n",
       "      <td>0.122623</td>\n",
       "      <td>0.072924</td>\n",
       "    </tr>\n",
       "    <tr>\n",
       "      <th>11</th>\n",
       "      <td>0.101408</td>\n",
       "      <td>0.058952</td>\n",
       "    </tr>\n",
       "    <tr>\n",
       "      <th>...</th>\n",
       "      <td>...</td>\n",
       "      <td>...</td>\n",
       "    </tr>\n",
       "    <tr>\n",
       "      <th>91529</th>\n",
       "      <td>0.120422</td>\n",
       "      <td>0.085416</td>\n",
       "    </tr>\n",
       "    <tr>\n",
       "      <th>99114</th>\n",
       "      <td>0.112732</td>\n",
       "      <td>0.091209</td>\n",
       "    </tr>\n",
       "    <tr>\n",
       "      <th>109487</th>\n",
       "      <td>0.117426</td>\n",
       "      <td>0.102603</td>\n",
       "    </tr>\n",
       "    <tr>\n",
       "      <th>112852</th>\n",
       "      <td>0.102681</td>\n",
       "      <td>0.067698</td>\n",
       "    </tr>\n",
       "    <tr>\n",
       "      <th>134853</th>\n",
       "      <td>0.103503</td>\n",
       "      <td>0.056642</td>\n",
       "    </tr>\n",
       "  </tbody>\n",
       "</table>\n",
       "<p>273 rows × 2 columns</p>\n",
       "</div>"
      ],
      "text/plain": [
       "        similar_ppl   all_ppl\n",
       "1          1.000000  0.235415\n",
       "2          0.105598  0.051667\n",
       "6          0.162879  0.097377\n",
       "10         0.122623  0.072924\n",
       "11         0.101408  0.058952\n",
       "...             ...       ...\n",
       "91529      0.120422  0.085416\n",
       "99114      0.112732  0.091209\n",
       "109487     0.117426  0.102603\n",
       "112852     0.102681  0.067698\n",
       "134853     0.103503  0.056642\n",
       "\n",
       "[273 rows x 2 columns]"
      ]
     },
     "execution_count": 32,
     "metadata": {},
     "output_type": "execute_result"
    }
   ],
   "source": [
    "rec_percentages"
   ]
  },
  {
   "cell_type": "code",
   "execution_count": 33,
   "id": "9ae67ba7-7c17-48c3-af67-245658aaf476",
   "metadata": {},
   "outputs": [],
   "source": [
    "# score = ratio of similar:avg users who liked movie\n",
    "rec_percentages['score'] = rec_percentages['similar_ppl'] / rec_percentages['all_ppl']\n",
    "rec_percentages = rec_percentages.sort_values('score', ascending=False)"
   ]
  },
  {
   "cell_type": "code",
   "execution_count": 34,
   "id": "3aaffa93-3e6b-4d0e-88c9-da7f945247e4",
   "metadata": {
    "scrolled": true,
    "tags": []
   },
   "outputs": [
    {
     "data": {
      "text/html": [
       "<div>\n",
       "<style scoped>\n",
       "    .dataframe tbody tr th:only-of-type {\n",
       "        vertical-align: middle;\n",
       "    }\n",
       "\n",
       "    .dataframe tbody tr th {\n",
       "        vertical-align: top;\n",
       "    }\n",
       "\n",
       "    .dataframe thead th {\n",
       "        text-align: right;\n",
       "    }\n",
       "</style>\n",
       "<table border=\"1\" class=\"dataframe\">\n",
       "  <thead>\n",
       "    <tr style=\"text-align: right;\">\n",
       "      <th></th>\n",
       "      <th>similar_ppl</th>\n",
       "      <th>all_ppl</th>\n",
       "      <th>score</th>\n",
       "      <th>movieId</th>\n",
       "      <th>title</th>\n",
       "      <th>genres</th>\n",
       "      <th>cleaned_title</th>\n",
       "    </tr>\n",
       "  </thead>\n",
       "  <tbody>\n",
       "    <tr>\n",
       "      <th>0</th>\n",
       "      <td>1.000000</td>\n",
       "      <td>0.235415</td>\n",
       "      <td>4.247819</td>\n",
       "      <td>1</td>\n",
       "      <td>Toy Story (1995)</td>\n",
       "      <td>Adventure|Animation|Children|Comedy|Fantasy</td>\n",
       "      <td>Toy Story 1995</td>\n",
       "    </tr>\n",
       "    <tr>\n",
       "      <th>3021</th>\n",
       "      <td>0.328914</td>\n",
       "      <td>0.102241</td>\n",
       "      <td>3.217054</td>\n",
       "      <td>3114</td>\n",
       "      <td>Toy Story 2 (1999)</td>\n",
       "      <td>Adventure|Animation|Children|Comedy|Fantasy</td>\n",
       "      <td>Toy Story 2 1999</td>\n",
       "    </tr>\n",
       "    <tr>\n",
       "      <th>14813</th>\n",
       "      <td>0.161924</td>\n",
       "      <td>0.057710</td>\n",
       "      <td>2.805840</td>\n",
       "      <td>78499</td>\n",
       "      <td>Toy Story 3 (2010)</td>\n",
       "      <td>Adventure|Animation|Children|Comedy|Fantasy|IMAX</td>\n",
       "      <td>Toy Story 3 2010</td>\n",
       "    </tr>\n",
       "    <tr>\n",
       "      <th>2264</th>\n",
       "      <td>0.191095</td>\n",
       "      <td>0.068978</td>\n",
       "      <td>2.770367</td>\n",
       "      <td>2355</td>\n",
       "      <td>Bug's Life, A (1998)</td>\n",
       "      <td>Adventure|Animation|Children|Comedy</td>\n",
       "      <td>Bugs Life A 1998</td>\n",
       "    </tr>\n",
       "    <tr>\n",
       "      <th>1992</th>\n",
       "      <td>0.120714</td>\n",
       "      <td>0.047128</td>\n",
       "      <td>2.561408</td>\n",
       "      <td>2081</td>\n",
       "      <td>Little Mermaid, The (1989)</td>\n",
       "      <td>Animation|Children|Comedy|Musical|Romance</td>\n",
       "      <td>Little Mermaid The 1989</td>\n",
       "    </tr>\n",
       "    <tr>\n",
       "      <th>1818</th>\n",
       "      <td>0.100772</td>\n",
       "      <td>0.039805</td>\n",
       "      <td>2.531636</td>\n",
       "      <td>1907</td>\n",
       "      <td>Mulan (1998)</td>\n",
       "      <td>Adventure|Animation|Children|Comedy|Drama|Musi...</td>\n",
       "      <td>Mulan 1998</td>\n",
       "    </tr>\n",
       "    <tr>\n",
       "      <th>2669</th>\n",
       "      <td>0.100135</td>\n",
       "      <td>0.039855</td>\n",
       "      <td>2.512494</td>\n",
       "      <td>2761</td>\n",
       "      <td>Iron Giant, The (1999)</td>\n",
       "      <td>Adventure|Animation|Children|Drama|Sci-Fi</td>\n",
       "      <td>Iron Giant The 1999</td>\n",
       "    </tr>\n",
       "    <tr>\n",
       "      <th>1005</th>\n",
       "      <td>0.128060</td>\n",
       "      <td>0.054719</td>\n",
       "      <td>2.340299</td>\n",
       "      <td>1028</td>\n",
       "      <td>Mary Poppins (1964)</td>\n",
       "      <td>Children|Comedy|Fantasy|Musical</td>\n",
       "      <td>Mary Poppins 1964</td>\n",
       "    </tr>\n",
       "    <tr>\n",
       "      <th>1047</th>\n",
       "      <td>0.231801</td>\n",
       "      <td>0.099113</td>\n",
       "      <td>2.338762</td>\n",
       "      <td>1073</td>\n",
       "      <td>Willy Wonka &amp; the Chocolate Factory (1971)</td>\n",
       "      <td>Children|Comedy|Fantasy|Musical</td>\n",
       "      <td>Willy Wonka  the Chocolate Factory 1971</td>\n",
       "    </tr>\n",
       "    <tr>\n",
       "      <th>1249</th>\n",
       "      <td>0.103636</td>\n",
       "      <td>0.044712</td>\n",
       "      <td>2.317855</td>\n",
       "      <td>1282</td>\n",
       "      <td>Fantasia (1940)</td>\n",
       "      <td>Animation|Children|Fantasy|Musical</td>\n",
       "      <td>Fantasia 1940</td>\n",
       "    </tr>\n",
       "  </tbody>\n",
       "</table>\n",
       "</div>"
      ],
      "text/plain": [
       "       similar_ppl   all_ppl     score  movieId  \\\n",
       "0         1.000000  0.235415  4.247819        1   \n",
       "3021      0.328914  0.102241  3.217054     3114   \n",
       "14813     0.161924  0.057710  2.805840    78499   \n",
       "2264      0.191095  0.068978  2.770367     2355   \n",
       "1992      0.120714  0.047128  2.561408     2081   \n",
       "1818      0.100772  0.039805  2.531636     1907   \n",
       "2669      0.100135  0.039855  2.512494     2761   \n",
       "1005      0.128060  0.054719  2.340299     1028   \n",
       "1047      0.231801  0.099113  2.338762     1073   \n",
       "1249      0.103636  0.044712  2.317855     1282   \n",
       "\n",
       "                                            title  \\\n",
       "0                                Toy Story (1995)   \n",
       "3021                           Toy Story 2 (1999)   \n",
       "14813                          Toy Story 3 (2010)   \n",
       "2264                         Bug's Life, A (1998)   \n",
       "1992                   Little Mermaid, The (1989)   \n",
       "1818                                 Mulan (1998)   \n",
       "2669                       Iron Giant, The (1999)   \n",
       "1005                          Mary Poppins (1964)   \n",
       "1047   Willy Wonka & the Chocolate Factory (1971)   \n",
       "1249                              Fantasia (1940)   \n",
       "\n",
       "                                                  genres  \\\n",
       "0            Adventure|Animation|Children|Comedy|Fantasy   \n",
       "3021         Adventure|Animation|Children|Comedy|Fantasy   \n",
       "14813   Adventure|Animation|Children|Comedy|Fantasy|IMAX   \n",
       "2264                 Adventure|Animation|Children|Comedy   \n",
       "1992           Animation|Children|Comedy|Musical|Romance   \n",
       "1818   Adventure|Animation|Children|Comedy|Drama|Musi...   \n",
       "2669           Adventure|Animation|Children|Drama|Sci-Fi   \n",
       "1005                     Children|Comedy|Fantasy|Musical   \n",
       "1047                     Children|Comedy|Fantasy|Musical   \n",
       "1249                  Animation|Children|Fantasy|Musical   \n",
       "\n",
       "                                 cleaned_title  \n",
       "0                               Toy Story 1995  \n",
       "3021                          Toy Story 2 1999  \n",
       "14813                         Toy Story 3 2010  \n",
       "2264                          Bugs Life A 1998  \n",
       "1992                   Little Mermaid The 1989  \n",
       "1818                                Mulan 1998  \n",
       "2669                       Iron Giant The 1999  \n",
       "1005                         Mary Poppins 1964  \n",
       "1047   Willy Wonka  the Chocolate Factory 1971  \n",
       "1249                             Fantasia 1940  "
      ]
     },
     "execution_count": 34,
     "metadata": {},
     "output_type": "execute_result"
    }
   ],
   "source": [
    "# left_index is the movieId\n",
    "rec_percentages.head(10).merge(movies, left_index=True, right_on='movieId')"
   ]
  },
  {
   "cell_type": "markdown",
   "id": "afd824b3-21c9-4d47-8a77-f25e8ad4c154",
   "metadata": {
    "user_expressions": []
   },
   "source": [
    "Not bad! For `Toy Story` we recommended the Toy Story series, Bugs Life, etc."
   ]
  },
  {
   "cell_type": "code",
   "execution_count": 35,
   "id": "1cd24959-66f5-4617-9414-6263de727c0b",
   "metadata": {},
   "outputs": [],
   "source": [
    "def find_similar_movies(movie_id: int, high_rating: int = 4) -> pd.DataFrame:\n",
    "    # find the users that liked the movie being searched for\n",
    "    similar_users = ratings[(ratings[\"movieId\"] == movie_id) & (ratings['rating']>=high_rating)]['userId'].unique()\n",
    "    # find the movies that similar users liked\n",
    "    similar_user_recs = ratings[(ratings['userId'].isin(similar_users)) & (ratings['rating']>=high_rating)]['movieId']\n",
    "\n",
    "    # find the top 10% of movies\n",
    "    similar_user_recs = similar_user_recs.value_counts() / len(similar_users)\n",
    "    similar_user_recs = similar_user_recs[similar_user_recs > 0.1]\n",
    "    \n",
    "    # all users who watched the movie recommended to us\n",
    "    all_users = ratings[(ratings['movieId'].isin(similar_user_recs.index)) & (ratings['rating'] >= high_rating)]\n",
    "    all_user_recs = all_users['movieId'].value_counts()/len(all_users['userId'].unique())\n",
    "    \n",
    "    rec_percentages = pd.concat([similar_user_recs, all_user_recs], axis=1)\n",
    "    rec_percentages.columns = ['similar_ppl','all_ppl']\n",
    "\n",
    "    # score = ratio of similar:avg users who liked movie\n",
    "    rec_percentages['score'] = rec_percentages['similar_ppl'] / rec_percentages['all_ppl']\n",
    "    rec_percentages = rec_percentages.sort_values('score', ascending=False)\n",
    "    \n",
    "    # left_index is the movieId\n",
    "    return rec_percentages.head(10).merge(movies, left_index=True, right_on='movieId')[['score','title','genres']]"
   ]
  },
  {
   "cell_type": "markdown",
   "id": "b8f56d4c-94c1-4e61-b1b1-141129490f26",
   "metadata": {
    "user_expressions": []
   },
   "source": [
    "## Widget"
   ]
  },
  {
   "cell_type": "code",
   "execution_count": 36,
   "id": "68e4fa04-2466-4d57-ac3d-84683a2a9e86",
   "metadata": {},
   "outputs": [],
   "source": [
    "movie_input_name = widgets.Text(\n",
    "    initial_value = 'Toy Story',\n",
    "    description = 'Movie Title:',\n",
    "    disabled=False\n",
    ")"
   ]
  },
  {
   "cell_type": "code",
   "execution_count": 37,
   "id": "c50f8b21-d85d-46ee-877a-1bec0f51f0f1",
   "metadata": {},
   "outputs": [
    {
     "data": {
      "application/vnd.jupyter.widget-view+json": {
       "model_id": "b2b533c9af664e968c2fa7b0b9e7898a",
       "version_major": 2,
       "version_minor": 0
      },
      "text/plain": [
       "Text(value='', description='Movie Title:')"
      ]
     },
     "metadata": {},
     "output_type": "display_data"
    },
    {
     "data": {
      "application/vnd.jupyter.widget-view+json": {
       "model_id": "875bc8e7690642a889edb9fbdf134a18",
       "version_major": 2,
       "version_minor": 0
      },
      "text/plain": [
       "Output()"
      ]
     },
     "metadata": {},
     "output_type": "display_data"
    }
   ],
   "source": [
    "recommendation_list = widgets.Output()\n",
    "\n",
    "def on_type(data):\n",
    "    with recommendation_list:\n",
    "        recommendation_list.clear_output()\n",
    "        title = data['new']\n",
    "        if len(title) > 5:\n",
    "            results = search(title)\n",
    "            movie_id = results.iloc[0]['movieId']\n",
    "            display(find_similar_movies(movie_id))\n",
    "\n",
    "movie_input_name.observe(on_type, names='value')\n",
    "display(movie_input_name, recommendation_list)"
   ]
  },
  {
   "cell_type": "markdown",
   "id": "36085abb-99fb-47f6-8407-21905cd6e766",
   "metadata": {
    "user_expressions": []
   },
   "source": [
    "# Feature Engineering"
   ]
  },
  {
   "cell_type": "markdown",
   "id": "94d6e777-8fdf-4141-9568-09fb44fb61ec",
   "metadata": {
    "user_expressions": []
   },
   "source": [
    "Let's see if we can predict what rating a movie will get based on its genre, the year it was released, and semantics of user given tags."
   ]
  },
  {
   "cell_type": "markdown",
   "id": "1439648f-88eb-4cc1-90a7-8a8a8149fccc",
   "metadata": {
    "user_expressions": []
   },
   "source": [
    "## Extracting Release Year"
   ]
  },
  {
   "cell_type": "code",
   "execution_count": 85,
   "id": "f9e739d5-9975-42ac-bd86-03a0abccbe0d",
   "metadata": {},
   "outputs": [],
   "source": [
    "movies['year'] = movies['title'].str.extract('\\((\\d\\d\\d\\d)\\)').astype(float)"
   ]
  },
  {
   "cell_type": "code",
   "execution_count": 86,
   "id": "49d63c36-6bce-4f2e-a79f-f455244c7b13",
   "metadata": {},
   "outputs": [
    {
     "data": {
      "text/plain": [
       "0"
      ]
     },
     "execution_count": 86,
     "metadata": {},
     "output_type": "execute_result"
    }
   ],
   "source": [
    "movies['year'].isna().sum()"
   ]
  },
  {
   "cell_type": "markdown",
   "id": "3b0ef829-a2d2-4e9f-8aae-bb35102d2d07",
   "metadata": {
    "user_expressions": []
   },
   "source": [
    "Since only 410 entries are NaN, we will drop them pending finding the years using IMDB API."
   ]
  },
  {
   "cell_type": "code",
   "execution_count": 87,
   "id": "5f6c03de-0e79-4172-952e-f817c55614b6",
   "metadata": {},
   "outputs": [],
   "source": [
    "movies = movies.dropna(subset=['year'])"
   ]
  },
  {
   "cell_type": "code",
   "execution_count": 88,
   "id": "0e61fc69-7d80-4b3c-a7ff-78ebf65ec749",
   "metadata": {},
   "outputs": [
    {
     "data": {
      "text/plain": [
       "0"
      ]
     },
     "execution_count": 88,
     "metadata": {},
     "output_type": "execute_result"
    }
   ],
   "source": [
    "movies['year'].isna().sum()"
   ]
  },
  {
   "cell_type": "code",
   "execution_count": 89,
   "id": "967fcd0a-e6b5-43cb-8423-4a669553cd0c",
   "metadata": {},
   "outputs": [],
   "source": [
    "import math\n",
    "def round_to_decade(x):\n",
    "    return int((x / 10.0)) * 10"
   ]
  },
  {
   "cell_type": "code",
   "execution_count": 90,
   "id": "34dc0b51-41a5-4fd3-9797-762beb6bfc10",
   "metadata": {},
   "outputs": [],
   "source": [
    "movies['decade'] = movies['year'].astype(float).apply(roundup)"
   ]
  },
  {
   "cell_type": "code",
   "execution_count": 106,
   "id": "52524be8-cff0-42a2-addf-1176e763a0f9",
   "metadata": {},
   "outputs": [
    {
     "data": {
      "text/html": [
       "<div>\n",
       "<style scoped>\n",
       "    .dataframe tbody tr th:only-of-type {\n",
       "        vertical-align: middle;\n",
       "    }\n",
       "\n",
       "    .dataframe tbody tr th {\n",
       "        vertical-align: top;\n",
       "    }\n",
       "\n",
       "    .dataframe thead th {\n",
       "        text-align: right;\n",
       "    }\n",
       "</style>\n",
       "<table border=\"1\" class=\"dataframe\">\n",
       "  <thead>\n",
       "    <tr style=\"text-align: right;\">\n",
       "      <th></th>\n",
       "      <th>movieId</th>\n",
       "      <th>title</th>\n",
       "      <th>genres</th>\n",
       "      <th>cleaned_title</th>\n",
       "      <th>year</th>\n",
       "      <th>year_format</th>\n",
       "      <th>decade</th>\n",
       "      <th>genres_lists</th>\n",
       "    </tr>\n",
       "  </thead>\n",
       "  <tbody>\n",
       "    <tr>\n",
       "      <th>0</th>\n",
       "      <td>1</td>\n",
       "      <td>Toy Story (1995)</td>\n",
       "      <td>Adventure|Animation|Children|Comedy|Fantasy</td>\n",
       "      <td>Toy Story 1995</td>\n",
       "      <td>1995.0</td>\n",
       "      <td>1995-01-01</td>\n",
       "      <td>1990</td>\n",
       "      <td>[Adventure, Animation, Children, Comedy, Fantasy]</td>\n",
       "    </tr>\n",
       "    <tr>\n",
       "      <th>1</th>\n",
       "      <td>2</td>\n",
       "      <td>Jumanji (1995)</td>\n",
       "      <td>Adventure|Children|Fantasy</td>\n",
       "      <td>Jumanji 1995</td>\n",
       "      <td>1995.0</td>\n",
       "      <td>1995-01-01</td>\n",
       "      <td>1990</td>\n",
       "      <td>[Adventure, Children, Fantasy]</td>\n",
       "    </tr>\n",
       "    <tr>\n",
       "      <th>2</th>\n",
       "      <td>3</td>\n",
       "      <td>Grumpier Old Men (1995)</td>\n",
       "      <td>Comedy|Romance</td>\n",
       "      <td>Grumpier Old Men 1995</td>\n",
       "      <td>1995.0</td>\n",
       "      <td>1995-01-01</td>\n",
       "      <td>1990</td>\n",
       "      <td>[Comedy, Romance]</td>\n",
       "    </tr>\n",
       "    <tr>\n",
       "      <th>3</th>\n",
       "      <td>4</td>\n",
       "      <td>Waiting to Exhale (1995)</td>\n",
       "      <td>Comedy|Drama|Romance</td>\n",
       "      <td>Waiting to Exhale 1995</td>\n",
       "      <td>1995.0</td>\n",
       "      <td>1995-01-01</td>\n",
       "      <td>1990</td>\n",
       "      <td>[Comedy, Drama, Romance]</td>\n",
       "    </tr>\n",
       "    <tr>\n",
       "      <th>4</th>\n",
       "      <td>5</td>\n",
       "      <td>Father of the Bride Part II (1995)</td>\n",
       "      <td>Comedy</td>\n",
       "      <td>Father of the Bride Part II 1995</td>\n",
       "      <td>1995.0</td>\n",
       "      <td>1995-01-01</td>\n",
       "      <td>1990</td>\n",
       "      <td>[Comedy]</td>\n",
       "    </tr>\n",
       "  </tbody>\n",
       "</table>\n",
       "</div>"
      ],
      "text/plain": [
       "   movieId                               title  \\\n",
       "0        1                    Toy Story (1995)   \n",
       "1        2                      Jumanji (1995)   \n",
       "2        3             Grumpier Old Men (1995)   \n",
       "3        4            Waiting to Exhale (1995)   \n",
       "4        5  Father of the Bride Part II (1995)   \n",
       "\n",
       "                                        genres  \\\n",
       "0  Adventure|Animation|Children|Comedy|Fantasy   \n",
       "1                   Adventure|Children|Fantasy   \n",
       "2                               Comedy|Romance   \n",
       "3                         Comedy|Drama|Romance   \n",
       "4                                       Comedy   \n",
       "\n",
       "                      cleaned_title    year year_format  decade  \\\n",
       "0                    Toy Story 1995  1995.0  1995-01-01    1990   \n",
       "1                      Jumanji 1995  1995.0  1995-01-01    1990   \n",
       "2             Grumpier Old Men 1995  1995.0  1995-01-01    1990   \n",
       "3            Waiting to Exhale 1995  1995.0  1995-01-01    1990   \n",
       "4  Father of the Bride Part II 1995  1995.0  1995-01-01    1990   \n",
       "\n",
       "                                        genres_lists  \n",
       "0  [Adventure, Animation, Children, Comedy, Fantasy]  \n",
       "1                     [Adventure, Children, Fantasy]  \n",
       "2                                  [Comedy, Romance]  \n",
       "3                           [Comedy, Drama, Romance]  \n",
       "4                                           [Comedy]  "
      ]
     },
     "execution_count": 106,
     "metadata": {},
     "output_type": "execute_result"
    }
   ],
   "source": [
    "movies.head()"
   ]
  },
  {
   "cell_type": "code",
   "execution_count": 107,
   "id": "af783ecb-31d9-465f-9efc-6c39bd1d5850",
   "metadata": {},
   "outputs": [
    {
     "data": {
      "text/plain": [
       "(62013, 8)"
      ]
     },
     "execution_count": 107,
     "metadata": {},
     "output_type": "execute_result"
    }
   ],
   "source": [
    "movies.shape"
   ]
  },
  {
   "cell_type": "markdown",
   "id": "d1a0967b-a1b8-4e50-9948-4dace17a7fea",
   "metadata": {
    "user_expressions": []
   },
   "source": [
    "### EDA"
   ]
  },
  {
   "cell_type": "code",
   "execution_count": 92,
   "id": "cf935931-ce0d-486c-b9ba-db6620045012",
   "metadata": {},
   "outputs": [
    {
     "data": {
      "text/html": [
       "<div>\n",
       "<style scoped>\n",
       "    .dataframe tbody tr th:only-of-type {\n",
       "        vertical-align: middle;\n",
       "    }\n",
       "\n",
       "    .dataframe tbody tr th {\n",
       "        vertical-align: top;\n",
       "    }\n",
       "\n",
       "    .dataframe thead th {\n",
       "        text-align: right;\n",
       "    }\n",
       "</style>\n",
       "<table border=\"1\" class=\"dataframe\">\n",
       "  <thead>\n",
       "    <tr style=\"text-align: right;\">\n",
       "      <th></th>\n",
       "      <th>movieId</th>\n",
       "      <th>title</th>\n",
       "      <th>genres</th>\n",
       "      <th>cleaned_title</th>\n",
       "      <th>year</th>\n",
       "      <th>year_format</th>\n",
       "    </tr>\n",
       "    <tr>\n",
       "      <th>decade</th>\n",
       "      <th></th>\n",
       "      <th></th>\n",
       "      <th></th>\n",
       "      <th></th>\n",
       "      <th></th>\n",
       "      <th></th>\n",
       "    </tr>\n",
       "  </thead>\n",
       "  <tbody>\n",
       "    <tr>\n",
       "      <th>1870</th>\n",
       "      <td>2</td>\n",
       "      <td>2</td>\n",
       "      <td>2</td>\n",
       "      <td>2</td>\n",
       "      <td>2</td>\n",
       "      <td>2</td>\n",
       "    </tr>\n",
       "    <tr>\n",
       "      <th>1880</th>\n",
       "      <td>7</td>\n",
       "      <td>7</td>\n",
       "      <td>7</td>\n",
       "      <td>7</td>\n",
       "      <td>7</td>\n",
       "      <td>7</td>\n",
       "    </tr>\n",
       "    <tr>\n",
       "      <th>1890</th>\n",
       "      <td>108</td>\n",
       "      <td>108</td>\n",
       "      <td>108</td>\n",
       "      <td>108</td>\n",
       "      <td>108</td>\n",
       "      <td>108</td>\n",
       "    </tr>\n",
       "    <tr>\n",
       "      <th>1900</th>\n",
       "      <td>155</td>\n",
       "      <td>155</td>\n",
       "      <td>155</td>\n",
       "      <td>155</td>\n",
       "      <td>155</td>\n",
       "      <td>155</td>\n",
       "    </tr>\n",
       "    <tr>\n",
       "      <th>1910</th>\n",
       "      <td>239</td>\n",
       "      <td>239</td>\n",
       "      <td>239</td>\n",
       "      <td>239</td>\n",
       "      <td>239</td>\n",
       "      <td>239</td>\n",
       "    </tr>\n",
       "    <tr>\n",
       "      <th>1920</th>\n",
       "      <td>576</td>\n",
       "      <td>576</td>\n",
       "      <td>576</td>\n",
       "      <td>576</td>\n",
       "      <td>576</td>\n",
       "      <td>576</td>\n",
       "    </tr>\n",
       "    <tr>\n",
       "      <th>1930</th>\n",
       "      <td>2069</td>\n",
       "      <td>2069</td>\n",
       "      <td>2069</td>\n",
       "      <td>2069</td>\n",
       "      <td>2069</td>\n",
       "      <td>2069</td>\n",
       "    </tr>\n",
       "    <tr>\n",
       "      <th>1940</th>\n",
       "      <td>2326</td>\n",
       "      <td>2326</td>\n",
       "      <td>2326</td>\n",
       "      <td>2326</td>\n",
       "      <td>2326</td>\n",
       "      <td>2326</td>\n",
       "    </tr>\n",
       "    <tr>\n",
       "      <th>1950</th>\n",
       "      <td>2981</td>\n",
       "      <td>2981</td>\n",
       "      <td>2981</td>\n",
       "      <td>2981</td>\n",
       "      <td>2981</td>\n",
       "      <td>2981</td>\n",
       "    </tr>\n",
       "    <tr>\n",
       "      <th>1960</th>\n",
       "      <td>3586</td>\n",
       "      <td>3586</td>\n",
       "      <td>3586</td>\n",
       "      <td>3586</td>\n",
       "      <td>3586</td>\n",
       "      <td>3586</td>\n",
       "    </tr>\n",
       "    <tr>\n",
       "      <th>1970</th>\n",
       "      <td>4958</td>\n",
       "      <td>4958</td>\n",
       "      <td>4958</td>\n",
       "      <td>4958</td>\n",
       "      <td>4958</td>\n",
       "      <td>4958</td>\n",
       "    </tr>\n",
       "    <tr>\n",
       "      <th>1980</th>\n",
       "      <td>5182</td>\n",
       "      <td>5182</td>\n",
       "      <td>5182</td>\n",
       "      <td>5182</td>\n",
       "      <td>5182</td>\n",
       "      <td>5182</td>\n",
       "    </tr>\n",
       "    <tr>\n",
       "      <th>1990</th>\n",
       "      <td>6656</td>\n",
       "      <td>6656</td>\n",
       "      <td>6656</td>\n",
       "      <td>6656</td>\n",
       "      <td>6656</td>\n",
       "      <td>6656</td>\n",
       "    </tr>\n",
       "    <tr>\n",
       "      <th>2000</th>\n",
       "      <td>12679</td>\n",
       "      <td>12679</td>\n",
       "      <td>12679</td>\n",
       "      <td>12679</td>\n",
       "      <td>12679</td>\n",
       "      <td>12679</td>\n",
       "    </tr>\n",
       "    <tr>\n",
       "      <th>2010</th>\n",
       "      <td>20489</td>\n",
       "      <td>20489</td>\n",
       "      <td>20489</td>\n",
       "      <td>20489</td>\n",
       "      <td>20489</td>\n",
       "      <td>20489</td>\n",
       "    </tr>\n",
       "  </tbody>\n",
       "</table>\n",
       "</div>"
      ],
      "text/plain": [
       "        movieId  title  genres  cleaned_title   year  year_format\n",
       "decade                                                           \n",
       "1870          2      2       2              2      2            2\n",
       "1880          7      7       7              7      7            7\n",
       "1890        108    108     108            108    108          108\n",
       "1900        155    155     155            155    155          155\n",
       "1910        239    239     239            239    239          239\n",
       "1920        576    576     576            576    576          576\n",
       "1930       2069   2069    2069           2069   2069         2069\n",
       "1940       2326   2326    2326           2326   2326         2326\n",
       "1950       2981   2981    2981           2981   2981         2981\n",
       "1960       3586   3586    3586           3586   3586         3586\n",
       "1970       4958   4958    4958           4958   4958         4958\n",
       "1980       5182   5182    5182           5182   5182         5182\n",
       "1990       6656   6656    6656           6656   6656         6656\n",
       "2000      12679  12679   12679          12679  12679        12679\n",
       "2010      20489  20489   20489          20489  20489        20489"
      ]
     },
     "execution_count": 92,
     "metadata": {},
     "output_type": "execute_result"
    }
   ],
   "source": [
    "movies.groupby('decade').count()"
   ]
  },
  {
   "cell_type": "code",
   "execution_count": 95,
   "id": "e133c662-b5bd-481e-bb08-1f487f329065",
   "metadata": {},
   "outputs": [
    {
     "data": {
      "text/plain": [
       "Text(0.5, 1.0, 'Movies in database per decade')"
      ]
     },
     "execution_count": 95,
     "metadata": {},
     "output_type": "execute_result"
    },
    {
     "data": {
      "image/png": "[encoded data removed]",
      "text/plain": [
       "<Figure size 360x360 with 1 Axes>"
      ]
     },
     "metadata": {
      "needs_background": "light"
     },
     "output_type": "display_data"
    }
   ],
   "source": [
    "sns.catplot(x='decade', data=movies, kind='count')\n",
    "plt.xticks(horizontalalignment='right', rotation=45)\n",
    "plt.title('Movies in database per decade')"
   ]
  },
  {
   "cell_type": "markdown",
   "id": "18cc12b3-a333-4b11-bb78-07baf92d4425",
   "metadata": {
    "user_expressions": []
   },
   "source": [
    "Will likely have to do stratified sampling since the yearly is so skewed."
   ]
  },
  {
   "cell_type": "markdown",
   "id": "ee018371-4e51-48a5-8e24-7a68e0936a0e",
   "metadata": {
    "user_expressions": []
   },
   "source": [
    "## Dummifying Genre"
   ]
  },
  {
   "cell_type": "code",
   "execution_count": 97,
   "id": "7522d366-bba8-4d53-9cbe-e543329099a5",
   "metadata": {},
   "outputs": [],
   "source": [
    "# separate list of genres into dummy variables\n",
    "def col_lists_to_dummies(dataframe: pd.DataFrame, col_of_lists: str, identifier: str) -> pd.DataFrame:\n",
    "    '''\n",
    "    Turns a series of lists into dummy variables, then merges the resulting df\n",
    "    with the original df.\n",
    "\n",
    "    input\n",
    "    -----\n",
    "    col_of_lists: name of column where each value is a list of strings\n",
    "                  this column will be turned into dummy variables\n",
    "    identifier: name of column where each value uniquely identifies the row\n",
    "                this column will be used to merge on\n",
    "    '''\n",
    "    from sklearn.preprocessing import MultiLabelBinarizer\n",
    "    mlb = MultiLabelBinarizer()\n",
    "\n",
    "    # create an array of 1s and 0s representing whether or not each row belongs in the var\n",
    "    dummy_array = mlb.fit_transform(dataframe[col_of_lists])\n",
    "    # grab the unique vars to create new column names\n",
    "    unique_vars_from_col_of_lists = mlb.classes_\n",
    "    identifier_array = dataframe[identifier].values\n",
    "    # create dummy dataframe\n",
    "    dummy_df = pd.DataFrame(dummy_array, columns=unique_vars_from_col_of_lists, index=identifier_array).reset_index()\n",
    "    dummy_df = dummy_df.rename({'index':identifier}, axis=1)\n",
    "\n",
    "    return dummy_df, unique_vars_from_col_of_lists"
   ]
  },
  {
   "cell_type": "code",
   "execution_count": 124,
   "id": "4e3667a0-25d4-4c67-8801-567c07d0139f",
   "metadata": {},
   "outputs": [
    {
     "data": {
      "text/html": [
       "<div>\n",
       "<style scoped>\n",
       "    .dataframe tbody tr th:only-of-type {\n",
       "        vertical-align: middle;\n",
       "    }\n",
       "\n",
       "    .dataframe tbody tr th {\n",
       "        vertical-align: top;\n",
       "    }\n",
       "\n",
       "    .dataframe thead th {\n",
       "        text-align: right;\n",
       "    }\n",
       "</style>\n",
       "<table border=\"1\" class=\"dataframe\">\n",
       "  <thead>\n",
       "    <tr style=\"text-align: right;\">\n",
       "      <th></th>\n",
       "      <th>movieId</th>\n",
       "      <th>title</th>\n",
       "      <th>cleaned_title</th>\n",
       "      <th>year</th>\n",
       "      <th>decade</th>\n",
       "      <th>Action</th>\n",
       "      <th>Adventure</th>\n",
       "      <th>Animation</th>\n",
       "      <th>Children</th>\n",
       "      <th>Comedy</th>\n",
       "      <th>...</th>\n",
       "      <th>Horror</th>\n",
       "      <th>IMAX</th>\n",
       "      <th>Musical</th>\n",
       "      <th>Mystery</th>\n",
       "      <th>None</th>\n",
       "      <th>Romance</th>\n",
       "      <th>Sci-Fi</th>\n",
       "      <th>Thriller</th>\n",
       "      <th>War</th>\n",
       "      <th>Western</th>\n",
       "    </tr>\n",
       "  </thead>\n",
       "  <tbody>\n",
       "    <tr>\n",
       "      <th>0</th>\n",
       "      <td>1</td>\n",
       "      <td>Toy Story (1995)</td>\n",
       "      <td>Toy Story 1995</td>\n",
       "      <td>1995.0</td>\n",
       "      <td>1990</td>\n",
       "      <td>0</td>\n",
       "      <td>1</td>\n",
       "      <td>1</td>\n",
       "      <td>1</td>\n",
       "      <td>1</td>\n",
       "      <td>...</td>\n",
       "      <td>0</td>\n",
       "      <td>0</td>\n",
       "      <td>0</td>\n",
       "      <td>0</td>\n",
       "      <td>0</td>\n",
       "      <td>0</td>\n",
       "      <td>0</td>\n",
       "      <td>0</td>\n",
       "      <td>0</td>\n",
       "      <td>0</td>\n",
       "    </tr>\n",
       "    <tr>\n",
       "      <th>1</th>\n",
       "      <td>2</td>\n",
       "      <td>Jumanji (1995)</td>\n",
       "      <td>Jumanji 1995</td>\n",
       "      <td>1995.0</td>\n",
       "      <td>1990</td>\n",
       "      <td>0</td>\n",
       "      <td>1</td>\n",
       "      <td>0</td>\n",
       "      <td>1</td>\n",
       "      <td>0</td>\n",
       "      <td>...</td>\n",
       "      <td>0</td>\n",
       "      <td>0</td>\n",
       "      <td>0</td>\n",
       "      <td>0</td>\n",
       "      <td>0</td>\n",
       "      <td>0</td>\n",
       "      <td>0</td>\n",
       "      <td>0</td>\n",
       "      <td>0</td>\n",
       "      <td>0</td>\n",
       "    </tr>\n",
       "    <tr>\n",
       "      <th>2</th>\n",
       "      <td>3</td>\n",
       "      <td>Grumpier Old Men (1995)</td>\n",
       "      <td>Grumpier Old Men 1995</td>\n",
       "      <td>1995.0</td>\n",
       "      <td>1990</td>\n",
       "      <td>0</td>\n",
       "      <td>0</td>\n",
       "      <td>0</td>\n",
       "      <td>0</td>\n",
       "      <td>1</td>\n",
       "      <td>...</td>\n",
       "      <td>0</td>\n",
       "      <td>0</td>\n",
       "      <td>0</td>\n",
       "      <td>0</td>\n",
       "      <td>0</td>\n",
       "      <td>1</td>\n",
       "      <td>0</td>\n",
       "      <td>0</td>\n",
       "      <td>0</td>\n",
       "      <td>0</td>\n",
       "    </tr>\n",
       "    <tr>\n",
       "      <th>3</th>\n",
       "      <td>4</td>\n",
       "      <td>Waiting to Exhale (1995)</td>\n",
       "      <td>Waiting to Exhale 1995</td>\n",
       "      <td>1995.0</td>\n",
       "      <td>1990</td>\n",
       "      <td>0</td>\n",
       "      <td>0</td>\n",
       "      <td>0</td>\n",
       "      <td>0</td>\n",
       "      <td>1</td>\n",
       "      <td>...</td>\n",
       "      <td>0</td>\n",
       "      <td>0</td>\n",
       "      <td>0</td>\n",
       "      <td>0</td>\n",
       "      <td>0</td>\n",
       "      <td>1</td>\n",
       "      <td>0</td>\n",
       "      <td>0</td>\n",
       "      <td>0</td>\n",
       "      <td>0</td>\n",
       "    </tr>\n",
       "    <tr>\n",
       "      <th>4</th>\n",
       "      <td>5</td>\n",
       "      <td>Father of the Bride Part II (1995)</td>\n",
       "      <td>Father of the Bride Part II 1995</td>\n",
       "      <td>1995.0</td>\n",
       "      <td>1990</td>\n",
       "      <td>0</td>\n",
       "      <td>0</td>\n",
       "      <td>0</td>\n",
       "      <td>0</td>\n",
       "      <td>1</td>\n",
       "      <td>...</td>\n",
       "      <td>0</td>\n",
       "      <td>0</td>\n",
       "      <td>0</td>\n",
       "      <td>0</td>\n",
       "      <td>0</td>\n",
       "      <td>0</td>\n",
       "      <td>0</td>\n",
       "      <td>0</td>\n",
       "      <td>0</td>\n",
       "      <td>0</td>\n",
       "    </tr>\n",
       "  </tbody>\n",
       "</table>\n",
       "<p>5 rows × 25 columns</p>\n",
       "</div>"
      ],
      "text/plain": [
       "   movieId                               title  \\\n",
       "0        1                    Toy Story (1995)   \n",
       "1        2                      Jumanji (1995)   \n",
       "2        3             Grumpier Old Men (1995)   \n",
       "3        4            Waiting to Exhale (1995)   \n",
       "4        5  Father of the Bride Part II (1995)   \n",
       "\n",
       "                      cleaned_title    year  decade  Action  Adventure  \\\n",
       "0                    Toy Story 1995  1995.0    1990       0          1   \n",
       "1                      Jumanji 1995  1995.0    1990       0          1   \n",
       "2             Grumpier Old Men 1995  1995.0    1990       0          0   \n",
       "3            Waiting to Exhale 1995  1995.0    1990       0          0   \n",
       "4  Father of the Bride Part II 1995  1995.0    1990       0          0   \n",
       "\n",
       "   Animation  Children  Comedy  ...  Horror  IMAX  Musical  Mystery  None  \\\n",
       "0          1         1       1  ...       0     0        0        0     0   \n",
       "1          0         1       0  ...       0     0        0        0     0   \n",
       "2          0         0       1  ...       0     0        0        0     0   \n",
       "3          0         0       1  ...       0     0        0        0     0   \n",
       "4          0         0       1  ...       0     0        0        0     0   \n",
       "\n",
       "   Romance  Sci-Fi  Thriller  War  Western  \n",
       "0        0       0         0    0        0  \n",
       "1        0       0         0    0        0  \n",
       "2        1       0         0    0        0  \n",
       "3        1       0         0    0        0  \n",
       "4        0       0         0    0        0  \n",
       "\n",
       "[5 rows x 25 columns]"
      ]
     },
     "execution_count": 124,
     "metadata": {},
     "output_type": "execute_result"
    }
   ],
   "source": [
    "movies['genres_lists'] = movies['genres'].apply(clean_genre)\n",
    "\n",
    "# create dummy_df and get a unique list of genres\n",
    "genre_dummies, unique_genres = col_lists_to_dummies(movies, 'genres_lists', 'movieId')\n",
    "# mnerge dummy dataframe with original dataframe\n",
    "movies_ml = movies.merge(genre_dummies, on='movieId').drop(['genres','genres_lists','year_format'], axis=1)\n",
    "movies_ml.head()"
   ]
  },
  {
   "cell_type": "markdown",
   "id": "e65f0d45-2bf1-44ae-b8a9-2631f211d32f",
   "metadata": {
    "user_expressions": []
   },
   "source": [
    "### EDA"
   ]
  },
  {
   "cell_type": "code",
   "execution_count": 128,
   "id": "61644603-991b-4227-ab0c-ad2b6c36877f",
   "metadata": {},
   "outputs": [
    {
     "data": {
      "text/html": [
       "<div>\n",
       "<style scoped>\n",
       "    .dataframe tbody tr th:only-of-type {\n",
       "        vertical-align: middle;\n",
       "    }\n",
       "\n",
       "    .dataframe tbody tr th {\n",
       "        vertical-align: top;\n",
       "    }\n",
       "\n",
       "    .dataframe thead th {\n",
       "        text-align: right;\n",
       "    }\n",
       "</style>\n",
       "<table border=\"1\" class=\"dataframe\">\n",
       "  <thead>\n",
       "    <tr style=\"text-align: right;\">\n",
       "      <th></th>\n",
       "      <th>variable</th>\n",
       "      <th>value</th>\n",
       "    </tr>\n",
       "  </thead>\n",
       "  <tbody>\n",
       "    <tr>\n",
       "      <th>0</th>\n",
       "      <td>Drama</td>\n",
       "      <td>25559</td>\n",
       "    </tr>\n",
       "    <tr>\n",
       "      <th>1</th>\n",
       "      <td>Comedy</td>\n",
       "      <td>16844</td>\n",
       "    </tr>\n",
       "    <tr>\n",
       "      <th>2</th>\n",
       "      <td>Thriller</td>\n",
       "      <td>8631</td>\n",
       "    </tr>\n",
       "    <tr>\n",
       "      <th>3</th>\n",
       "      <td>Romance</td>\n",
       "      <td>7708</td>\n",
       "    </tr>\n",
       "    <tr>\n",
       "      <th>4</th>\n",
       "      <td>Action</td>\n",
       "      <td>7335</td>\n",
       "    </tr>\n",
       "  </tbody>\n",
       "</table>\n",
       "</div>"
      ],
      "text/plain": [
       "   variable  value\n",
       "0     Drama  25559\n",
       "1    Comedy  16844\n",
       "2  Thriller   8631\n",
       "3   Romance   7708\n",
       "4    Action   7335"
      ]
     },
     "execution_count": 128,
     "metadata": {},
     "output_type": "execute_result"
    }
   ],
   "source": [
    "movies_per_genre = movies_ml[unique_genres.tolist() + ['movieId']].melt('movieId').groupby('variable').sum()\n",
    "movies_per_genre = movies_per_genre.sort_values('value', ascending=False)[['value']].reset_index()\n",
    "movies_per_genre.head()"
   ]
  },
  {
   "cell_type": "code",
   "execution_count": 129,
   "id": "cc294798-fa77-42ed-a0e3-49b50aa3bb62",
   "metadata": {},
   "outputs": [
    {
     "data": {
      "text/plain": [
       "Text(0.5, 1.0, 'Number of movies that belong to each genre')"
      ]
     },
     "execution_count": 129,
     "metadata": {},
     "output_type": "execute_result"
    },
    {
     "data": {
      "image/png": "[encoded data removed]",
      "text/plain": [
       "<Figure size 360x360 with 1 Axes>"
      ]
     },
     "metadata": {
      "needs_background": "light"
     },
     "output_type": "display_data"
    }
   ],
   "source": [
    "sns.catplot(x='variable', y='value', data=movies_per_genre, kind='bar')\n",
    "plt.xticks(horizontalalignment='right', rotation=45)\n",
    "plt.ylabel('Number of movies')\n",
    "plt.xlabel('Genres')\n",
    "plt.title('Number of movies that belong to each genre')"
   ]
  },
  {
   "cell_type": "markdown",
   "id": "a730542f-7066-4fb6-af8f-ff3de7a7d5f4",
   "metadata": {
    "user_expressions": []
   },
   "source": [
    "## User Ratings"
   ]
  },
  {
   "cell_type": "code",
   "execution_count": 130,
   "id": "ffb08119-64a6-466f-b2b3-f6a4996c853c",
   "metadata": {},
   "outputs": [
    {
     "data": {
      "text/html": [
       "<div>\n",
       "<style scoped>\n",
       "    .dataframe tbody tr th:only-of-type {\n",
       "        vertical-align: middle;\n",
       "    }\n",
       "\n",
       "    .dataframe tbody tr th {\n",
       "        vertical-align: top;\n",
       "    }\n",
       "\n",
       "    .dataframe thead th {\n",
       "        text-align: right;\n",
       "    }\n",
       "</style>\n",
       "<table border=\"1\" class=\"dataframe\">\n",
       "  <thead>\n",
       "    <tr style=\"text-align: right;\">\n",
       "      <th></th>\n",
       "      <th>movieId</th>\n",
       "      <th>title</th>\n",
       "      <th>genres</th>\n",
       "      <th>cleaned_title</th>\n",
       "      <th>year</th>\n",
       "      <th>year_format</th>\n",
       "      <th>decade</th>\n",
       "      <th>genres_lists</th>\n",
       "    </tr>\n",
       "  </thead>\n",
       "  <tbody>\n",
       "    <tr>\n",
       "      <th>0</th>\n",
       "      <td>1</td>\n",
       "      <td>Toy Story (1995)</td>\n",
       "      <td>Adventure|Animation|Children|Comedy|Fantasy</td>\n",
       "      <td>Toy Story 1995</td>\n",
       "      <td>1995.0</td>\n",
       "      <td>1995-01-01</td>\n",
       "      <td>1990</td>\n",
       "      <td>[Adventure, Animation, Children, Comedy, Fantasy]</td>\n",
       "    </tr>\n",
       "    <tr>\n",
       "      <th>1</th>\n",
       "      <td>2</td>\n",
       "      <td>Jumanji (1995)</td>\n",
       "      <td>Adventure|Children|Fantasy</td>\n",
       "      <td>Jumanji 1995</td>\n",
       "      <td>1995.0</td>\n",
       "      <td>1995-01-01</td>\n",
       "      <td>1990</td>\n",
       "      <td>[Adventure, Children, Fantasy]</td>\n",
       "    </tr>\n",
       "    <tr>\n",
       "      <th>2</th>\n",
       "      <td>3</td>\n",
       "      <td>Grumpier Old Men (1995)</td>\n",
       "      <td>Comedy|Romance</td>\n",
       "      <td>Grumpier Old Men 1995</td>\n",
       "      <td>1995.0</td>\n",
       "      <td>1995-01-01</td>\n",
       "      <td>1990</td>\n",
       "      <td>[Comedy, Romance]</td>\n",
       "    </tr>\n",
       "    <tr>\n",
       "      <th>3</th>\n",
       "      <td>4</td>\n",
       "      <td>Waiting to Exhale (1995)</td>\n",
       "      <td>Comedy|Drama|Romance</td>\n",
       "      <td>Waiting to Exhale 1995</td>\n",
       "      <td>1995.0</td>\n",
       "      <td>1995-01-01</td>\n",
       "      <td>1990</td>\n",
       "      <td>[Comedy, Drama, Romance]</td>\n",
       "    </tr>\n",
       "    <tr>\n",
       "      <th>4</th>\n",
       "      <td>5</td>\n",
       "      <td>Father of the Bride Part II (1995)</td>\n",
       "      <td>Comedy</td>\n",
       "      <td>Father of the Bride Part II 1995</td>\n",
       "      <td>1995.0</td>\n",
       "      <td>1995-01-01</td>\n",
       "      <td>1990</td>\n",
       "      <td>[Comedy]</td>\n",
       "    </tr>\n",
       "  </tbody>\n",
       "</table>\n",
       "</div>"
      ],
      "text/plain": [
       "   movieId                               title  \\\n",
       "0        1                    Toy Story (1995)   \n",
       "1        2                      Jumanji (1995)   \n",
       "2        3             Grumpier Old Men (1995)   \n",
       "3        4            Waiting to Exhale (1995)   \n",
       "4        5  Father of the Bride Part II (1995)   \n",
       "\n",
       "                                        genres  \\\n",
       "0  Adventure|Animation|Children|Comedy|Fantasy   \n",
       "1                   Adventure|Children|Fantasy   \n",
       "2                               Comedy|Romance   \n",
       "3                         Comedy|Drama|Romance   \n",
       "4                                       Comedy   \n",
       "\n",
       "                      cleaned_title    year year_format  decade  \\\n",
       "0                    Toy Story 1995  1995.0  1995-01-01    1990   \n",
       "1                      Jumanji 1995  1995.0  1995-01-01    1990   \n",
       "2             Grumpier Old Men 1995  1995.0  1995-01-01    1990   \n",
       "3            Waiting to Exhale 1995  1995.0  1995-01-01    1990   \n",
       "4  Father of the Bride Part II 1995  1995.0  1995-01-01    1990   \n",
       "\n",
       "                                        genres_lists  \n",
       "0  [Adventure, Animation, Children, Comedy, Fantasy]  \n",
       "1                     [Adventure, Children, Fantasy]  \n",
       "2                                  [Comedy, Romance]  \n",
       "3                           [Comedy, Drama, Romance]  \n",
       "4                                           [Comedy]  "
      ]
     },
     "execution_count": 130,
     "metadata": {},
     "output_type": "execute_result"
    }
   ],
   "source": [
    "movies.head()"
   ]
  },
  {
   "cell_type": "code",
   "execution_count": 131,
   "id": "f56b1769-9765-4748-a8f3-f4d118004a12",
   "metadata": {},
   "outputs": [
    {
     "data": {
      "text/html": [
       "<div>\n",
       "<style scoped>\n",
       "    .dataframe tbody tr th:only-of-type {\n",
       "        vertical-align: middle;\n",
       "    }\n",
       "\n",
       "    .dataframe tbody tr th {\n",
       "        vertical-align: top;\n",
       "    }\n",
       "\n",
       "    .dataframe thead th {\n",
       "        text-align: right;\n",
       "    }\n",
       "</style>\n",
       "<table border=\"1\" class=\"dataframe\">\n",
       "  <thead>\n",
       "    <tr style=\"text-align: right;\">\n",
       "      <th></th>\n",
       "      <th>userId</th>\n",
       "      <th>movieId</th>\n",
       "      <th>rating</th>\n",
       "      <th>timestamp</th>\n",
       "    </tr>\n",
       "  </thead>\n",
       "  <tbody>\n",
       "    <tr>\n",
       "      <th>0</th>\n",
       "      <td>1</td>\n",
       "      <td>296</td>\n",
       "      <td>5.0</td>\n",
       "      <td>1147880044</td>\n",
       "    </tr>\n",
       "    <tr>\n",
       "      <th>1</th>\n",
       "      <td>1</td>\n",
       "      <td>306</td>\n",
       "      <td>3.5</td>\n",
       "      <td>1147868817</td>\n",
       "    </tr>\n",
       "    <tr>\n",
       "      <th>2</th>\n",
       "      <td>1</td>\n",
       "      <td>307</td>\n",
       "      <td>5.0</td>\n",
       "      <td>1147868828</td>\n",
       "    </tr>\n",
       "    <tr>\n",
       "      <th>3</th>\n",
       "      <td>1</td>\n",
       "      <td>665</td>\n",
       "      <td>5.0</td>\n",
       "      <td>1147878820</td>\n",
       "    </tr>\n",
       "    <tr>\n",
       "      <th>4</th>\n",
       "      <td>1</td>\n",
       "      <td>899</td>\n",
       "      <td>3.5</td>\n",
       "      <td>1147868510</td>\n",
       "    </tr>\n",
       "  </tbody>\n",
       "</table>\n",
       "</div>"
      ],
      "text/plain": [
       "   userId  movieId  rating   timestamp\n",
       "0       1      296     5.0  1147880044\n",
       "1       1      306     3.5  1147868817\n",
       "2       1      307     5.0  1147868828\n",
       "3       1      665     5.0  1147878820\n",
       "4       1      899     3.5  1147868510"
      ]
     },
     "execution_count": 131,
     "metadata": {},
     "output_type": "execute_result"
    }
   ],
   "source": [
    "# Show only the movies that were not dropped in the year section\n",
    "ratings = ratings[ratings['movieId'].isin(movies['movieId'].unique())]\n",
    "ratings.head()"
   ]
  },
  {
   "cell_type": "code",
   "execution_count": 132,
   "id": "99fa2937-5c7b-48ad-b129-4d99f26d6d5e",
   "metadata": {},
   "outputs": [
    {
     "data": {
      "text/html": [
       "<div>\n",
       "<style scoped>\n",
       "    .dataframe tbody tr th:only-of-type {\n",
       "        vertical-align: middle;\n",
       "    }\n",
       "\n",
       "    .dataframe tbody tr th {\n",
       "        vertical-align: top;\n",
       "    }\n",
       "\n",
       "    .dataframe thead th {\n",
       "        text-align: right;\n",
       "    }\n",
       "</style>\n",
       "<table border=\"1\" class=\"dataframe\">\n",
       "  <thead>\n",
       "    <tr style=\"text-align: right;\">\n",
       "      <th></th>\n",
       "      <th>movieId</th>\n",
       "      <th>rating</th>\n",
       "    </tr>\n",
       "  </thead>\n",
       "  <tbody>\n",
       "    <tr>\n",
       "      <th>0</th>\n",
       "      <td>1</td>\n",
       "      <td>3.893708</td>\n",
       "    </tr>\n",
       "    <tr>\n",
       "      <th>1</th>\n",
       "      <td>2</td>\n",
       "      <td>3.251527</td>\n",
       "    </tr>\n",
       "    <tr>\n",
       "      <th>2</th>\n",
       "      <td>3</td>\n",
       "      <td>3.142028</td>\n",
       "    </tr>\n",
       "    <tr>\n",
       "      <th>3</th>\n",
       "      <td>4</td>\n",
       "      <td>2.853547</td>\n",
       "    </tr>\n",
       "    <tr>\n",
       "      <th>4</th>\n",
       "      <td>5</td>\n",
       "      <td>3.058434</td>\n",
       "    </tr>\n",
       "  </tbody>\n",
       "</table>\n",
       "</div>"
      ],
      "text/plain": [
       "   movieId    rating\n",
       "0        1  3.893708\n",
       "1        2  3.251527\n",
       "2        3  3.142028\n",
       "3        4  2.853547\n",
       "4        5  3.058434"
      ]
     },
     "execution_count": 132,
     "metadata": {},
     "output_type": "execute_result"
    }
   ],
   "source": [
    "avg_ratings = ratings.groupby('movieId').mean().reset_index()[['movieId','rating']]\n",
    "avg_ratings.head()"
   ]
  },
  {
   "cell_type": "code",
   "execution_count": 133,
   "id": "81114fc0-cdff-45f1-8665-6f0694ab0481",
   "metadata": {},
   "outputs": [
    {
     "data": {
      "text/plain": [
       "(58675, 2)"
      ]
     },
     "execution_count": 133,
     "metadata": {},
     "output_type": "execute_result"
    }
   ],
   "source": [
    "avg_ratings.shape"
   ]
  },
  {
   "cell_type": "code",
   "execution_count": 134,
   "id": "6f33e8af-fc9f-4787-8560-6415da8b7f7d",
   "metadata": {},
   "outputs": [
    {
     "data": {
      "text/plain": [
       "(62013, 25)"
      ]
     },
     "execution_count": 134,
     "metadata": {},
     "output_type": "execute_result"
    }
   ],
   "source": [
    "movies_ml.shape"
   ]
  },
  {
   "cell_type": "code",
   "execution_count": 135,
   "id": "35343c98-0e18-4b47-bfbc-35643c0d3300",
   "metadata": {},
   "outputs": [],
   "source": [
    "movies_ml = movies_ml.merge(avg_ratings, how='left')"
   ]
  },
  {
   "cell_type": "code",
   "execution_count": 137,
   "id": "b2823de3-aee1-4811-8cae-2442fc9a82e8",
   "metadata": {
    "scrolled": true,
    "tags": []
   },
   "outputs": [
    {
     "data": {
      "text/plain": [
       "movieId             0\n",
       "title               0\n",
       "cleaned_title       0\n",
       "year                0\n",
       "decade              0\n",
       "Action              0\n",
       "Adventure           0\n",
       "Animation           0\n",
       "Children            0\n",
       "Comedy              0\n",
       "Crime               0\n",
       "Documentary         0\n",
       "Drama               0\n",
       "Fantasy             0\n",
       "Film-Noir           0\n",
       "Horror              0\n",
       "IMAX                0\n",
       "Musical             0\n",
       "Mystery             0\n",
       "None                0\n",
       "Romance             0\n",
       "Sci-Fi              0\n",
       "Thriller            0\n",
       "War                 0\n",
       "Western             0\n",
       "rating           3338\n",
       "dtype: int64"
      ]
     },
     "execution_count": 137,
     "metadata": {},
     "output_type": "execute_result"
    }
   ],
   "source": [
    "movies_ml.isna().sum()"
   ]
  },
  {
   "cell_type": "markdown",
   "id": "386e7294-ad6f-4549-8723-e769d7e1aef3",
   "metadata": {
    "user_expressions": []
   },
   "source": [
    "3338 movies were not rated by users, this is explored in EDA"
   ]
  },
  {
   "cell_type": "code",
   "execution_count": 153,
   "id": "4f5e613d-e17a-46c6-b7c7-7d266598aecc",
   "metadata": {},
   "outputs": [
    {
     "data": {
      "text/plain": [
       "(58675, 26)"
      ]
     },
     "execution_count": 153,
     "metadata": {},
     "output_type": "execute_result"
    }
   ],
   "source": [
    "movies_ml = movies_ml.dropna(subset=['rating'])\n",
    "movies_ml.shape"
   ]
  },
  {
   "cell_type": "markdown",
   "id": "48d0255f-d561-4ae1-902b-c05e34894ccb",
   "metadata": {
    "user_expressions": []
   },
   "source": [
    "By dropping 3338 records, we still have around 59k left. This is enough for ML."
   ]
  },
  {
   "cell_type": "markdown",
   "id": "7982d6b3-dc7d-41e8-9413-a3118c290900",
   "metadata": {
    "user_expressions": []
   },
   "source": [
    "### EDA"
   ]
  },
  {
   "cell_type": "code",
   "execution_count": 145,
   "id": "b8c36e60-f9b1-41b9-aa29-c9bed8e690dc",
   "metadata": {},
   "outputs": [
    {
     "data": {
      "text/plain": [
       "1900     10\n",
       "1910      6\n",
       "1920     41\n",
       "1930    395\n",
       "1940    368\n",
       "1950    412\n",
       "1960    319\n",
       "1970    548\n",
       "1980    308\n",
       "1990    281\n",
       "2000    244\n",
       "2010    406\n",
       "Name: decade, dtype: int64"
      ]
     },
     "execution_count": 145,
     "metadata": {},
     "output_type": "execute_result"
    }
   ],
   "source": [
    "null_years = movies_ml[movies_ml['rating'].isna()]['decade'].value_counts()\n",
    "null_years.sort_index()"
   ]
  },
  {
   "cell_type": "code",
   "execution_count": 150,
   "id": "f38a40bc-8281-4343-bff8-e7eccbd33fd5",
   "metadata": {},
   "outputs": [
    {
     "data": {
      "text/plain": [
       "Text(3.674999999999997, 0.5, 'NaNs')"
      ]
     },
     "execution_count": 150,
     "metadata": {},
     "output_type": "execute_result"
    },
    {
     "data": {
      "image/png": "[encoded data removed]",
      "text/plain": [
       "<Figure size 360x360 with 1 Axes>"
      ]
     },
     "metadata": {
      "needs_background": "light"
     },
     "output_type": "display_data"
    }
   ],
   "source": [
    "sns.relplot(x=null_years.index, y=null_years, kind='line')\n",
    "plt.title('Number of null reviews by decade')\n",
    "plt.xlabel('Decade')\n",
    "plt.ylabel('NaNs')"
   ]
  },
  {
   "cell_type": "markdown",
   "id": "8b9d0d13-a73f-43e9-99c9-832c6af414d1",
   "metadata": {
    "user_expressions": []
   },
   "source": [
    "## Semantic Analysis of Tags"
   ]
  },
  {
   "cell_type": "code",
   "execution_count": 158,
   "id": "9551ff19-cad9-41cc-814d-ba3db73ace8c",
   "metadata": {},
   "outputs": [],
   "source": [
    "from nltk.sentiment import SentimentIntensityAnalyzer"
   ]
  },
  {
   "cell_type": "code",
   "execution_count": 159,
   "id": "19d98388-0d53-4c84-9dfa-864d535ff067",
   "metadata": {},
   "outputs": [],
   "source": [
    "sia = SentimentIntensityAnalyzer()"
   ]
  },
  {
   "cell_type": "code",
   "execution_count": 168,
   "id": "93705a5f-c3d4-4a81-921f-7b29c4db8cfa",
   "metadata": {},
   "outputs": [
    {
     "data": {
      "text/plain": [
       "{'neg': 0.0, 'neu': 1.0, 'pos': 0.0, 'compound': 0.0}"
      ]
     },
     "execution_count": 168,
     "metadata": {},
     "output_type": "execute_result"
    }
   ],
   "source": [
    "sia.polarity_scores('hi peter its matt')"
   ]
  },
  {
   "cell_type": "code",
   "execution_count": 171,
   "id": "7a255313-3fc5-4ec5-8294-81e03a1ae956",
   "metadata": {},
   "outputs": [],
   "source": [
    "def tag_semantics(cell: str, res_type: str) -> float:\n",
    "    '''\n",
    "    Analyzes the given tag and returns it's compound score\n",
    "    '''\n",
    "    result = sia.polarity_scores(cell)\n",
    "    return result[res_type]"
   ]
  },
  {
   "cell_type": "code",
   "execution_count": 174,
   "id": "1cada3fd-58aa-4115-a98a-5b0a826cd8a0",
   "metadata": {},
   "outputs": [],
   "source": [
    "for res_type in ['compound', 'pos', 'neg', 'neu']:\n",
    "    tags[f'{res_type}_score'] = tags['tag'].apply(tag_semantics, res_type=res_type)"
   ]
  },
  {
   "cell_type": "code",
   "execution_count": 180,
   "id": "3b893f0e-61f2-433a-8276-a5fea8ce9c7d",
   "metadata": {},
   "outputs": [
    {
     "data": {
      "text/html": [
       "<div>\n",
       "<style scoped>\n",
       "    .dataframe tbody tr th:only-of-type {\n",
       "        vertical-align: middle;\n",
       "    }\n",
       "\n",
       "    .dataframe tbody tr th {\n",
       "        vertical-align: top;\n",
       "    }\n",
       "\n",
       "    .dataframe thead th {\n",
       "        text-align: right;\n",
       "    }\n",
       "</style>\n",
       "<table border=\"1\" class=\"dataframe\">\n",
       "  <thead>\n",
       "    <tr style=\"text-align: right;\">\n",
       "      <th></th>\n",
       "      <th>movieId</th>\n",
       "      <th>compound_score</th>\n",
       "      <th>pos_score</th>\n",
       "      <th>neg_score</th>\n",
       "      <th>neu_score</th>\n",
       "    </tr>\n",
       "  </thead>\n",
       "  <tbody>\n",
       "    <tr>\n",
       "      <th>0</th>\n",
       "      <td>1</td>\n",
       "      <td>0.082260</td>\n",
       "      <td>0.201674</td>\n",
       "      <td>0.007588</td>\n",
       "      <td>0.790737</td>\n",
       "    </tr>\n",
       "    <tr>\n",
       "      <th>1</th>\n",
       "      <td>2</td>\n",
       "      <td>-0.039925</td>\n",
       "      <td>0.027078</td>\n",
       "      <td>0.088889</td>\n",
       "      <td>0.884033</td>\n",
       "    </tr>\n",
       "    <tr>\n",
       "      <th>2</th>\n",
       "      <td>3</td>\n",
       "      <td>0.073579</td>\n",
       "      <td>0.107276</td>\n",
       "      <td>0.000000</td>\n",
       "      <td>0.892724</td>\n",
       "    </tr>\n",
       "    <tr>\n",
       "      <th>3</th>\n",
       "      <td>4</td>\n",
       "      <td>-0.018955</td>\n",
       "      <td>0.033182</td>\n",
       "      <td>0.090909</td>\n",
       "      <td>0.875909</td>\n",
       "    </tr>\n",
       "    <tr>\n",
       "      <th>4</th>\n",
       "      <td>5</td>\n",
       "      <td>0.010288</td>\n",
       "      <td>0.083333</td>\n",
       "      <td>0.033500</td>\n",
       "      <td>0.883167</td>\n",
       "    </tr>\n",
       "    <tr>\n",
       "      <th>...</th>\n",
       "      <td>...</td>\n",
       "      <td>...</td>\n",
       "      <td>...</td>\n",
       "      <td>...</td>\n",
       "      <td>...</td>\n",
       "    </tr>\n",
       "    <tr>\n",
       "      <th>45246</th>\n",
       "      <td>208813</td>\n",
       "      <td>0.361200</td>\n",
       "      <td>0.714000</td>\n",
       "      <td>0.000000</td>\n",
       "      <td>0.286000</td>\n",
       "    </tr>\n",
       "    <tr>\n",
       "      <th>45247</th>\n",
       "      <td>208933</td>\n",
       "      <td>-0.329850</td>\n",
       "      <td>0.000000</td>\n",
       "      <td>0.297500</td>\n",
       "      <td>0.702500</td>\n",
       "    </tr>\n",
       "    <tr>\n",
       "      <th>45248</th>\n",
       "      <td>209035</td>\n",
       "      <td>0.012867</td>\n",
       "      <td>0.166667</td>\n",
       "      <td>0.000000</td>\n",
       "      <td>0.833333</td>\n",
       "    </tr>\n",
       "    <tr>\n",
       "      <th>45249</th>\n",
       "      <td>209037</td>\n",
       "      <td>0.076360</td>\n",
       "      <td>0.200000</td>\n",
       "      <td>0.000000</td>\n",
       "      <td>0.800000</td>\n",
       "    </tr>\n",
       "    <tr>\n",
       "      <th>45250</th>\n",
       "      <td>209063</td>\n",
       "      <td>-0.016467</td>\n",
       "      <td>0.084000</td>\n",
       "      <td>0.111111</td>\n",
       "      <td>0.804889</td>\n",
       "    </tr>\n",
       "  </tbody>\n",
       "</table>\n",
       "<p>45251 rows × 5 columns</p>\n",
       "</div>"
      ],
      "text/plain": [
       "       movieId  compound_score  pos_score  neg_score  neu_score\n",
       "0            1        0.082260   0.201674   0.007588   0.790737\n",
       "1            2       -0.039925   0.027078   0.088889   0.884033\n",
       "2            3        0.073579   0.107276   0.000000   0.892724\n",
       "3            4       -0.018955   0.033182   0.090909   0.875909\n",
       "4            5        0.010288   0.083333   0.033500   0.883167\n",
       "...        ...             ...        ...        ...        ...\n",
       "45246   208813        0.361200   0.714000   0.000000   0.286000\n",
       "45247   208933       -0.329850   0.000000   0.297500   0.702500\n",
       "45248   209035        0.012867   0.166667   0.000000   0.833333\n",
       "45249   209037        0.076360   0.200000   0.000000   0.800000\n",
       "45250   209063       -0.016467   0.084000   0.111111   0.804889\n",
       "\n",
       "[45251 rows x 5 columns]"
      ]
     },
     "execution_count": 180,
     "metadata": {},
     "output_type": "execute_result"
    }
   ],
   "source": [
    "avg_sentiment = tags.groupby('movieId').mean().reset_index()[['movieId']+[col for col in tags.columns if 'score' in col]]\n",
    "avg_sentiment"
   ]
  },
  {
   "cell_type": "code",
   "execution_count": 183,
   "id": "ae240bc9-3267-47fe-97a2-3a8d762d577e",
   "metadata": {},
   "outputs": [
    {
     "data": {
      "text/html": [
       "<div>\n",
       "<style scoped>\n",
       "    .dataframe tbody tr th:only-of-type {\n",
       "        vertical-align: middle;\n",
       "    }\n",
       "\n",
       "    .dataframe tbody tr th {\n",
       "        vertical-align: top;\n",
       "    }\n",
       "\n",
       "    .dataframe thead th {\n",
       "        text-align: right;\n",
       "    }\n",
       "</style>\n",
       "<table border=\"1\" class=\"dataframe\">\n",
       "  <thead>\n",
       "    <tr style=\"text-align: right;\">\n",
       "      <th></th>\n",
       "      <th>movieId</th>\n",
       "      <th>title</th>\n",
       "      <th>cleaned_title</th>\n",
       "      <th>year</th>\n",
       "      <th>decade</th>\n",
       "      <th>Action</th>\n",
       "      <th>Adventure</th>\n",
       "      <th>Animation</th>\n",
       "      <th>Children</th>\n",
       "      <th>Comedy</th>\n",
       "      <th>...</th>\n",
       "      <th>Romance</th>\n",
       "      <th>Sci-Fi</th>\n",
       "      <th>Thriller</th>\n",
       "      <th>War</th>\n",
       "      <th>Western</th>\n",
       "      <th>rating</th>\n",
       "      <th>compound_score</th>\n",
       "      <th>pos_score</th>\n",
       "      <th>neg_score</th>\n",
       "      <th>neu_score</th>\n",
       "    </tr>\n",
       "  </thead>\n",
       "  <tbody>\n",
       "    <tr>\n",
       "      <th>0</th>\n",
       "      <td>1</td>\n",
       "      <td>Toy Story (1995)</td>\n",
       "      <td>Toy Story 1995</td>\n",
       "      <td>1995.0</td>\n",
       "      <td>1990</td>\n",
       "      <td>0</td>\n",
       "      <td>1</td>\n",
       "      <td>1</td>\n",
       "      <td>1</td>\n",
       "      <td>1</td>\n",
       "      <td>...</td>\n",
       "      <td>0</td>\n",
       "      <td>0</td>\n",
       "      <td>0</td>\n",
       "      <td>0</td>\n",
       "      <td>0</td>\n",
       "      <td>3.893708</td>\n",
       "      <td>0.082260</td>\n",
       "      <td>0.201674</td>\n",
       "      <td>0.007588</td>\n",
       "      <td>0.790737</td>\n",
       "    </tr>\n",
       "    <tr>\n",
       "      <th>1</th>\n",
       "      <td>2</td>\n",
       "      <td>Jumanji (1995)</td>\n",
       "      <td>Jumanji 1995</td>\n",
       "      <td>1995.0</td>\n",
       "      <td>1990</td>\n",
       "      <td>0</td>\n",
       "      <td>1</td>\n",
       "      <td>0</td>\n",
       "      <td>1</td>\n",
       "      <td>0</td>\n",
       "      <td>...</td>\n",
       "      <td>0</td>\n",
       "      <td>0</td>\n",
       "      <td>0</td>\n",
       "      <td>0</td>\n",
       "      <td>0</td>\n",
       "      <td>3.251527</td>\n",
       "      <td>-0.039925</td>\n",
       "      <td>0.027078</td>\n",
       "      <td>0.088889</td>\n",
       "      <td>0.884033</td>\n",
       "    </tr>\n",
       "    <tr>\n",
       "      <th>2</th>\n",
       "      <td>3</td>\n",
       "      <td>Grumpier Old Men (1995)</td>\n",
       "      <td>Grumpier Old Men 1995</td>\n",
       "      <td>1995.0</td>\n",
       "      <td>1990</td>\n",
       "      <td>0</td>\n",
       "      <td>0</td>\n",
       "      <td>0</td>\n",
       "      <td>0</td>\n",
       "      <td>1</td>\n",
       "      <td>...</td>\n",
       "      <td>1</td>\n",
       "      <td>0</td>\n",
       "      <td>0</td>\n",
       "      <td>0</td>\n",
       "      <td>0</td>\n",
       "      <td>3.142028</td>\n",
       "      <td>0.073579</td>\n",
       "      <td>0.107276</td>\n",
       "      <td>0.000000</td>\n",
       "      <td>0.892724</td>\n",
       "    </tr>\n",
       "    <tr>\n",
       "      <th>3</th>\n",
       "      <td>4</td>\n",
       "      <td>Waiting to Exhale (1995)</td>\n",
       "      <td>Waiting to Exhale 1995</td>\n",
       "      <td>1995.0</td>\n",
       "      <td>1990</td>\n",
       "      <td>0</td>\n",
       "      <td>0</td>\n",
       "      <td>0</td>\n",
       "      <td>0</td>\n",
       "      <td>1</td>\n",
       "      <td>...</td>\n",
       "      <td>1</td>\n",
       "      <td>0</td>\n",
       "      <td>0</td>\n",
       "      <td>0</td>\n",
       "      <td>0</td>\n",
       "      <td>2.853547</td>\n",
       "      <td>-0.018955</td>\n",
       "      <td>0.033182</td>\n",
       "      <td>0.090909</td>\n",
       "      <td>0.875909</td>\n",
       "    </tr>\n",
       "    <tr>\n",
       "      <th>4</th>\n",
       "      <td>5</td>\n",
       "      <td>Father of the Bride Part II (1995)</td>\n",
       "      <td>Father of the Bride Part II 1995</td>\n",
       "      <td>1995.0</td>\n",
       "      <td>1990</td>\n",
       "      <td>0</td>\n",
       "      <td>0</td>\n",
       "      <td>0</td>\n",
       "      <td>0</td>\n",
       "      <td>1</td>\n",
       "      <td>...</td>\n",
       "      <td>0</td>\n",
       "      <td>0</td>\n",
       "      <td>0</td>\n",
       "      <td>0</td>\n",
       "      <td>0</td>\n",
       "      <td>3.058434</td>\n",
       "      <td>0.010288</td>\n",
       "      <td>0.083333</td>\n",
       "      <td>0.033500</td>\n",
       "      <td>0.883167</td>\n",
       "    </tr>\n",
       "  </tbody>\n",
       "</table>\n",
       "<p>5 rows × 30 columns</p>\n",
       "</div>"
      ],
      "text/plain": [
       "   movieId                               title  \\\n",
       "0        1                    Toy Story (1995)   \n",
       "1        2                      Jumanji (1995)   \n",
       "2        3             Grumpier Old Men (1995)   \n",
       "3        4            Waiting to Exhale (1995)   \n",
       "4        5  Father of the Bride Part II (1995)   \n",
       "\n",
       "                      cleaned_title    year  decade  Action  Adventure  \\\n",
       "0                    Toy Story 1995  1995.0    1990       0          1   \n",
       "1                      Jumanji 1995  1995.0    1990       0          1   \n",
       "2             Grumpier Old Men 1995  1995.0    1990       0          0   \n",
       "3            Waiting to Exhale 1995  1995.0    1990       0          0   \n",
       "4  Father of the Bride Part II 1995  1995.0    1990       0          0   \n",
       "\n",
       "   Animation  Children  Comedy  ...  Romance  Sci-Fi  Thriller  War  Western  \\\n",
       "0          1         1       1  ...        0       0         0    0        0   \n",
       "1          0         1       0  ...        0       0         0    0        0   \n",
       "2          0         0       1  ...        1       0         0    0        0   \n",
       "3          0         0       1  ...        1       0         0    0        0   \n",
       "4          0         0       1  ...        0       0         0    0        0   \n",
       "\n",
       "     rating  compound_score  pos_score  neg_score  neu_score  \n",
       "0  3.893708        0.082260   0.201674   0.007588   0.790737  \n",
       "1  3.251527       -0.039925   0.027078   0.088889   0.884033  \n",
       "2  3.142028        0.073579   0.107276   0.000000   0.892724  \n",
       "3  2.853547       -0.018955   0.033182   0.090909   0.875909  \n",
       "4  3.058434        0.010288   0.083333   0.033500   0.883167  \n",
       "\n",
       "[5 rows x 30 columns]"
      ]
     },
     "execution_count": 183,
     "metadata": {},
     "output_type": "execute_result"
    }
   ],
   "source": [
    "movies_ml = movies_ml.merge(avg_sentiment)\n",
    "movies_ml.head()"
   ]
  },
  {
   "cell_type": "markdown",
   "id": "7220754b-e5fd-4cb4-884f-4a67f07e8d0a",
   "metadata": {
    "user_expressions": [
     {
      "expression": " 58675-45251 ",
      "result": {
       "data": {
        "text/plain": "13424"
       },
       "metadata": {},
       "status": "ok"
      }
     }
    ]
   },
   "source": [
    "{{ 58675-45251 }} movies in our dataset did not have tags and were dropped"
   ]
  },
  {
   "cell_type": "markdown",
   "id": "b8aa0e4c-7872-489c-8524-f3f7d7ff5556",
   "metadata": {
    "user_expressions": []
   },
   "source": [
    "# Predicting Movie Ratings"
   ]
  },
  {
   "cell_type": "markdown",
   "id": "bf2d7e5e-77ba-46ad-aa52-bb8cc532e1b9",
   "metadata": {
    "user_expressions": []
   },
   "source": [
    "Let's see if we can predict what rating a movie will get based on its genre, the year it was released, and semantics of user given tags."
   ]
  },
  {
   "cell_type": "code",
   "execution_count": 229,
   "id": "353d963a-3d88-425b-b1db-57ab4c9a9fe6",
   "metadata": {},
   "outputs": [],
   "source": [
    "from sklearn.model_selection import train_test_split\n",
    "from sklearn import metrics"
   ]
  },
  {
   "cell_type": "markdown",
   "id": "76b25dea-09f4-425f-bb95-5b363ac129ca",
   "metadata": {
    "user_expressions": []
   },
   "source": [
    "## Regressors"
   ]
  },
  {
   "cell_type": "code",
   "execution_count": 273,
   "id": "195ab5a6-324c-420d-a4ef-a247e3aa499c",
   "metadata": {},
   "outputs": [],
   "source": [
    "from sklearn.linear_model import LinearRegression\n",
    "from sklearn.ensemble import RandomForestRegressor"
   ]
  },
  {
   "cell_type": "code",
   "execution_count": 274,
   "id": "75b16935-3a37-4ef6-a508-07046a063f28",
   "metadata": {},
   "outputs": [],
   "source": [
    "X = movies_ml.drop(['rating', 'title', 'movieId', 'cleaned_title', 'year'], axis=1)\n",
    "y = movies_ml['rating']\n",
    "\n",
    "X_train, X_test, y_train, y_test = train_test_split(X, y, \n",
    "                                                    test_size=0.2, \n",
    "                                                    shuffle=True, \n",
    "                                                    random_state=42)"
   ]
  },
  {
   "cell_type": "code",
   "execution_count": 279,
   "id": "7feac041-ba54-40a6-8e8c-c7fe332a92ac",
   "metadata": {},
   "outputs": [],
   "source": [
    "def lr_train_predict(model):\n",
    "    model.fit(X_train, y_train)\n",
    "    predict = model.predict(X_test)\n",
    "    lr_metrics(y_test, predict)"
   ]
  },
  {
   "cell_type": "code",
   "execution_count": 280,
   "id": "29786343-fe35-4b79-b971-58d663f1310d",
   "metadata": {},
   "outputs": [],
   "source": [
    "def lr_metrics(y_test, y_pred):\n",
    "    print('Mean Absolute Error:', metrics.mean_absolute_error(y_test, y_pred))\n",
    "    print('Mean Squared Error:', metrics.mean_squared_error(y_test, y_pred))\n",
    "    print('Root Mean Squared Error:', np.sqrt(metrics.mean_squared_error(y_test, y_pred)))"
   ]
  },
  {
   "cell_type": "code",
   "execution_count": 282,
   "id": "f97859fc-581e-4d72-a0f4-bd3905a92c96",
   "metadata": {},
   "outputs": [
    {
     "name": "stdout",
     "output_type": "stream",
     "text": [
      "LR\n",
      "Mean Absolute Error: 0.4545024886719544\n",
      "Mean Squared Error: 0.37255086668190657\n",
      "Root Mean Squared Error: 0.6103694509736759\n",
      "RF\n",
      "Mean Absolute Error: 0.4576123161597519\n",
      "Mean Squared Error: 0.38553240759868745\n",
      "Root Mean Squared Error: 0.6209125603486271\n"
     ]
    }
   ],
   "source": [
    "print('LR')\n",
    "lr = LinearRegression()\n",
    "lr_train_predict(lr)\n",
    "\n",
    "print('RF')\n",
    "rf\n",
    "lr_train_predict(rf)"
   ]
  },
  {
   "cell_type": "markdown",
   "id": "3888ba04-5099-4721-8293-38cfd08ddfac",
   "metadata": {
    "user_expressions": []
   },
   "source": [
    "Not the best, but not bad at all!"
   ]
  },
  {
   "cell_type": "markdown",
   "id": "8df161e6-3fb0-4f08-82f0-a19b69b8fa86",
   "metadata": {
    "user_expressions": []
   },
   "source": [
    "## Classifiers"
   ]
  },
  {
   "cell_type": "code",
   "execution_count": 248,
   "id": "1fe7e3f1-85d7-44bc-8276-d1d8d52edfab",
   "metadata": {},
   "outputs": [],
   "source": [
    "from sklearn.ensemble import RandomForestClassifier"
   ]
  },
  {
   "cell_type": "code",
   "execution_count": 286,
   "id": "c09ee09c-bd8d-4c9c-b95d-6af66772476e",
   "metadata": {},
   "outputs": [],
   "source": [
    "def rating_classification(cell: float) -> int:\n",
    "    if cell > 4:\n",
    "        return 3 # 'high'\n",
    "    elif cell < 3:\n",
    "        return 1 # 'low'\n",
    "    else:\n",
    "        return 2 #'medium'"
   ]
  },
  {
   "cell_type": "code",
   "execution_count": 283,
   "id": "92d473c0-2244-4074-88a2-7e3152961ae3",
   "metadata": {},
   "outputs": [],
   "source": [
    "def cr_train_predict(model):\n",
    "    model.fit(X_train, y_train)\n",
    "    predict = model.predict(X_test)\n",
    "    cr_metrics(y_test, predict)"
   ]
  },
  {
   "cell_type": "code",
   "execution_count": 285,
   "id": "c97c7555-fdd0-4851-abcf-f1156c120ab9",
   "metadata": {},
   "outputs": [],
   "source": [
    "def cr_metrics(y_test, y_pred):\n",
    "    print('F2 Score:', metrics.fbeta_score(y_test, y_pred, beta=2, average='weighted'))\n",
    "    print('Accuracy Score:', metrics.accuracy_score(y_test, y_pred))\n",
    "    print('Precision Score:', metrics.precision_score(y_test, y_pred, average='weighted'))"
   ]
  },
  {
   "cell_type": "code",
   "execution_count": 288,
   "id": "50b7105c-0300-4b7b-b018-8d207cdb9386",
   "metadata": {},
   "outputs": [],
   "source": [
    "X = movies_ml.drop(['rating', 'title', 'movieId', 'cleaned_title', 'year'], axis=1)\n",
    "y = movies_ml['rating']\n",
    "\n",
    "y = y.apply(rating_classification)"
   ]
  },
  {
   "cell_type": "code",
   "execution_count": 289,
   "id": "2654008d-1ab2-455e-82f4-932a7cc44bb2",
   "metadata": {},
   "outputs": [],
   "source": [
    "X_train, X_test, y_train, y_test = train_test_split(X, y, \n",
    "                                                    test_size=0.2, \n",
    "                                                    shuffle=True, \n",
    "                                                    random_state=42, \n",
    "                                                    stratify=y)"
   ]
  },
  {
   "cell_type": "code",
   "execution_count": 290,
   "id": "a60fd233-3856-4268-aa36-4e7d90fe826a",
   "metadata": {},
   "outputs": [
    {
     "name": "stdout",
     "output_type": "stream",
     "text": [
      "F2 Score: 0.6405483751936434\n",
      "Accuracy Score: 0.6514915538516832\n",
      "Precision Score: 0.6236438506619818\n"
     ]
    }
   ],
   "source": [
    "rfc = RandomForestClassifier()\n",
    "cr_train_predict(rfc)"
   ]
  },
  {
   "cell_type": "code",
   "execution_count": null,
   "id": "b67d5cc6-9d48-4064-a323-eddce13c5500",
   "metadata": {},
   "outputs": [],
   "source": []
  }
 ],
 "metadata": {
  "kernelspec": {
   "display_name": "Data Env",
   "language": "python",
   "name": "data_env"
  },
  "language_info": {
   "codemirror_mode": {
    "name": "ipython",
    "version": 3
   },
   "file_extension": ".py",
   "mimetype": "text/x-python",
   "name": "python",
   "nbconvert_exporter": "python",
   "pygments_lexer": "ipython3",
   "version": "3.8.8"
  },
  "widgets": {
   "application/vnd.jupyter.widget-state+json": {
    "state": {
     "31b591ec318d4f3ca8132d83c6b98084": {
      "model_module": "@jupyter-widgets/controls",
      "model_module_version": "1.5.0",
      "model_name": "DescriptionStyleModel",
      "state": {
       "description_width": ""
      }
     },
     "403ac93a0f5e42f9a93d9933dc26e040": {
      "model_module": "@jupyter-widgets/controls",
      "model_module_version": "1.5.0",
      "model_name": "DescriptionStyleModel",
      "state": {
       "description_width": ""
      }
     },
     "4fa2181f59a74bde9e9f1532e9118190": {
      "model_module": "@jupyter-widgets/base",
      "model_module_version": "1.2.0",
      "model_name": "LayoutModel",
      "state": {}
     },
     "6e80c78bdb574a92aa28743f9979cf1c": {
      "model_module": "@jupyter-widgets/base",
      "model_module_version": "1.2.0",
      "model_name": "LayoutModel",
      "state": {}
     },
     "875bc8e7690642a889edb9fbdf134a18": {
      "model_module": "@jupyter-widgets/output",
      "model_module_version": "1.0.0",
      "model_name": "OutputModel",
      "state": {
       "layout": "IPY_MODEL_b74948d599b84a36b1c546b8ec3210a0"
      }
     },
     "ab0d81ce9b564f15a7c6414ecb3aea19": {
      "model_module": "@jupyter-widgets/base",
      "model_module_version": "1.2.0",
      "model_name": "LayoutModel",
      "state": {}
     },
     "b2b533c9af664e968c2fa7b0b9e7898a": {
      "model_module": "@jupyter-widgets/controls",
      "model_module_version": "1.5.0",
      "model_name": "TextModel",
      "state": {
       "description": "Movie Title:",
       "layout": "IPY_MODEL_ab0d81ce9b564f15a7c6414ecb3aea19",
       "style": "IPY_MODEL_31b591ec318d4f3ca8132d83c6b98084"
      }
     },
     "b74948d599b84a36b1c546b8ec3210a0": {
      "model_module": "@jupyter-widgets/base",
      "model_module_version": "1.2.0",
      "model_name": "LayoutModel",
      "state": {}
     },
     "c9357435410549b3b54c9cbc360bf4b7": {
      "model_module": "@jupyter-widgets/output",
      "model_module_version": "1.0.0",
      "model_name": "OutputModel",
      "state": {
       "layout": "IPY_MODEL_6e80c78bdb574a92aa28743f9979cf1c"
      }
     },
     "deba430cf133491d94c634505dc531e8": {
      "model_module": "@jupyter-widgets/controls",
      "model_module_version": "1.5.0",
      "model_name": "TextModel",
      "state": {
       "description": "Movie Title:",
       "layout": "IPY_MODEL_4fa2181f59a74bde9e9f1532e9118190",
       "style": "IPY_MODEL_403ac93a0f5e42f9a93d9933dc26e040",
       "value": "Toy Story"
      }
     }
    },
    "version_major": 2,
    "version_minor": 0
   }
  }
 },
 "nbformat": 4,
 "nbformat_minor": 5
}
